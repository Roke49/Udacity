{
 "cells": [
  {
   "cell_type": "code",
   "execution_count": 10,
   "metadata": {
    "collapsed": false
   },
   "outputs": [
    {
     "name": "stdout",
     "output_type": "stream",
     "text": [
      "done\n"
     ]
    }
   ],
   "source": [
    "import numpy as np\n",
    "import sys\n",
    "import pickle\n",
    "from collections import defaultdict\n",
    "sys.path.append(\"../tools/\")\n",
    "\n",
    "from feature_format import featureFormat, targetFeatureSplit\n",
    "from tester import dump_classifier_and_data, test_classifier\n",
    "from sklearn.neighbors import KNeighborsClassifier\n",
    "from sklearn.feature_selection import SelectKBest, f_classif\n",
    "from sklearn.pipeline import Pipeline\n",
    "from sklearn.cross_validation import StratifiedShuffleSplit\n",
    "from sklearn.preprocessing import RobustScaler\n",
    "\n",
    "import my_tools\n",
    "\n",
    "### define constants for base feature names\n",
    "FINANCIAL_FEATURES = [\"bonus\", \"deferral_payments\", \"deferred_income\", \"director_fees\",\n",
    "                      \"exercised_stock_options\", \"expenses\", \"loan_advances\",\n",
    "                      \"long_term_incentive\", \"other\", \"restricted_stock\", \n",
    "                      \"restricted_stock_deferred\", \"salary\", \"total_payments\",\n",
    "                      \"total_stock_value\"]\n",
    "\n",
    "EMAIL_FEATURES = [\"from_messages\", \"to_messages\"]\n",
    "EMAIL_POI_FEATURES = [\"from_poi_to_this_person\", \"from_this_person_to_poi\", \"shared_receipt_with_poi\"]\n",
    "\n",
    "\n",
    "### Load the dictionary containing the dataset\n",
    "with open(\"final_project_dataset.pkl\", \"r\") as data_file:\n",
    "    data_dict = pickle.load(data_file)\n",
    "\n",
    "### Task 2: Remove outliers\n",
    "### There are 2 entries which are not individuals; remove them.\n",
    "del data_dict[\"TOTAL\"]\n",
    "del data_dict[\"THE TRAVEL AGENCY IN THE PARK\"]\n",
    "\n",
    "### Store to my_dataset for easy export below.\n",
    "my_dataset = data_dict\n",
    "\n",
    "### Custom imputation for salary:  Led me to best classifier but ended up having salary drop out of list of \n",
    "### features used in this classifier.\n",
    "my_tools.my_imputer(my_dataset, \"salary\", strategy = 'median', test = my_tools.is_not_director)\n",
    "\n",
    "### Task 3: Create new feature(s)\n",
    "### Tried 2 ratios of poi-related emails.  This one worked better but ended up not being used in best classifier\n",
    "my_tools.create_ratio_feature(my_dataset, \"shared_receipt_ratio\", \"shared_receipt_with_poi\", \"to_messages\")\n",
    "\n",
    "\n",
    "### features_list is a list of strings, each of which is a feature name.\n",
    "### The first feature must be \"poi\".\n",
    "features_list = ['poi','total_stock_value','bonus', 'exercised_stock_options']\n",
    "rs = RobustScaler()\n",
    "knn = KNeighborsClassifier(n_neighbors = 4, weights = 'distance')\n",
    "clf = Pipeline([('rs',rs), ('knn',knn)])\n",
    "\n",
    "### Task 6: Dump your classifier, dataset, and features_list so anyone can\n",
    "### check your results. You do not need to change anything below, but make sure\n",
    "### that the version of poi_id.py that you submit can be run on its own and\n",
    "### generates the necessary .pkl files for validating your results.\n",
    "\n",
    "dump_classifier_and_data(clf, my_dataset, features_list)\n",
    "print \"done\""
   ]
  },
  {
   "cell_type": "code",
   "execution_count": 2,
   "metadata": {
    "collapsed": false
   },
   "outputs": [
    {
     "name": "stdout",
     "output_type": "stream",
     "text": [
      "Pipeline(steps=[('rs', RobustScaler(copy=True, with_centering=True, with_scaling=True)), ('knn', KNeighborsClassifier(algorithm='auto', leaf_size=30, metric='minkowski',\n",
      "           metric_params=None, n_jobs=1, n_neighbors=4, p=2,\n",
      "           weights='distance'))])\n",
      "\tAccuracy: 0.87531\tPrecision: 0.63802\tRecall: 0.43800\tF1: 0.51942\tF2: 0.46730\n",
      "\tTotal predictions: 13000\tTrue positives:  876\tFalse positives:  497\tFalse negatives: 1124\tTrue negatives: 10503\n",
      "\n"
     ]
    }
   ],
   "source": [
    "from tester import load_classifier_and_data, test_classifier\n",
    "### load up student's classifier, dataset, and feature_list\n",
    "clf, dataset, feature_list = load_classifier_and_data()\n",
    "### Run testing script\n",
    "test_classifier(clf, dataset, feature_list)"
   ]
  },
  {
   "cell_type": "code",
   "execution_count": null,
   "metadata": {
    "collapsed": true
   },
   "outputs": [],
   "source": []
  }
 ],
 "metadata": {
  "anaconda-cloud": {},
  "kernelspec": {
   "display_name": "Python [Root]",
   "language": "python",
   "name": "Python [Root]"
  },
  "language_info": {
   "codemirror_mode": {
    "name": "ipython",
    "version": 2
   },
   "file_extension": ".py",
   "mimetype": "text/x-python",
   "name": "python",
   "nbconvert_exporter": "python",
   "pygments_lexer": "ipython2",
   "version": "2.7.11"
  }
 },
 "nbformat": 4,
 "nbformat_minor": 0
}
