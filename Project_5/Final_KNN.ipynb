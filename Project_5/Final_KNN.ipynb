{
 "cells": [
  {
   "cell_type": "code",
   "execution_count": 2,
   "metadata": {
    "collapsed": false
   },
   "outputs": [
    {
     "name": "stdout",
     "output_type": "stream",
     "text": [
      "Pipeline(steps=[('skb', SelectKBest(k=4, score_func=<function f_classif at 0x00000000073CE748>)), ('rs', RobustScaler(copy=True, with_centering=True, with_scaling=True)), ('knn', KNeighborsClassifier(algorithm='auto', leaf_size=30, metric='minkowski',\n",
      "           metric_params=None, n_jobs=1, n_neighbors=3, p=2,\n",
      "           weights='uniform'))])\n",
      "0.448666666667\n"
     ]
    }
   ],
   "source": [
    "### Try the K-nearest neighbors classifier\n",
    "import numpy as np\n",
    "import sys\n",
    "import pickle\n",
    "sys.path.append(\"../tools/\")\n",
    "\n",
    "from feature_format import featureFormat, targetFeatureSplit\n",
    "from sklearn.neighbors import KNeighborsClassifier\n",
    "from sklearn.feature_selection import SelectKBest, f_classif\n",
    "from sklearn.preprocessing import RobustScaler\n",
    "from sklearn.pipeline import Pipeline\n",
    "from sklearn.grid_search import GridSearchCV\n",
    "from sklearn.cross_validation import StratifiedShuffleSplit\n",
    "from sklearn.decomposition import PCA\n",
    "import my_tools \n",
    "\n",
    "\n",
    "### define constants for base feature names\n",
    "FINANCIAL_FEATURES = [\"bonus\", \"deferral_payments\", \"deferred_income\", \"director_fees\",\n",
    "                      \"exercised_stock_options\", \"expenses\", \"loan_advances\",\n",
    "                      \"long_term_incentive\", \"other\", \"restricted_stock\", \n",
    "                      \"restricted_stock_deferred\", \"salary\", \"total_payments\",\n",
    "                      \"total_stock_value\"]\n",
    "\n",
    "EMAIL_FEATURES = [\"from_messages\", \"to_messages\"]\n",
    "EMAIL_POI_FEATURES = [\"from_poi_to_this_person\", \"from_this_person_to_poi\", \"shared_receipt_with_poi\"]\n",
    "\n",
    "### Load the dictionary containing the dataset\n",
    "with open(\"final_project_dataset.pkl\", \"r\") as data_file:\n",
    "    data_dict = pickle.load(data_file)\n",
    "\n",
    "### Task 2: Remove outliers\n",
    "### 2 entries are not individuals. one labeled \"TOTAL\" and the other\n",
    "### \"THE TRAVEL AGENCY IN THE PARK\"\n",
    "del data_dict[\"TOTAL\"]\n",
    "del data_dict[\"THE TRAVEL AGENCY IN THE PARK\"]\n",
    "\n",
    "### Store to my_dataset for easy export below.\n",
    "my_dataset = data_dict\n",
    "\n",
    "### create custom features:\n",
    "my_tools.create_ratio_feature(my_dataset, \"shared_receipt_ratio\", \"shared_receipt_with_poi\", \"to_messages\")\n",
    "my_tools.create_ratio_feature(my_dataset, \"poi_email_ratio\", EMAIL_POI_FEATURES, EMAIL_FEATURES)\n",
    "\n",
    "features_list = ['poi'] + FINANCIAL_FEATURES + [\"shared_receipt_ratio\"]\n",
    "\n",
    "data = featureFormat(my_dataset, features_list, sort_keys = True)\n",
    "labels, features = targetFeatureSplit(data)\n",
    "\n",
    "\n",
    "rs = RobustScaler()\n",
    "\n",
    "skb = SelectKBest()\n",
    "knn = KNeighborsClassifier()\n",
    "cv = StratifiedShuffleSplit(labels, n_iter = 100, test_size = 0.1, random_state = 42)\n",
    "pl = Pipeline([('skb', skb), ('rs', rs), ('knn', knn)])\n",
    "param_grid = {'skb__k':[3,4,5,6,7,8],\n",
    "              'knn__n_neighbors':[2,3,4,5,6],\n",
    "             'knn__weights':['distance','uniform']}\n",
    "gs = GridSearchCV(pl, param_grid, scoring='f1', cv = cv)\n",
    "gs.fit(features, labels)\n",
    "print gs.best_estimator_\n",
    "print gs.best_score_"
   ]
  },
  {
   "cell_type": "code",
   "execution_count": 3,
   "metadata": {
    "collapsed": false
   },
   "outputs": [
    {
     "name": "stdout",
     "output_type": "stream",
     "text": [
      "Testing pipline of SKB(k = 4) -> RobustScaler -> KNeighbors (n_neighbors = 3, weights = 'distance')\n",
      "accuracy \t precision \t recall \t f1 \t\t f2\n",
      "0.870 \t\t 0.521 \t\t 0.346 \t\t 0.416 \t\t 0.371\n"
     ]
    }
   ],
   "source": [
    "### run this estimator through the full tester\n",
    "rs = RobustScaler()\n",
    "skb = SelectKBest(k=4)\n",
    "knn = KNeighborsClassifier(n_neighbors = 3, weights = 'distance')\n",
    "pl = Pipeline([('skb',skb), ('rs',rs), ('knn',knn)])\n",
    "print \"Testing pipline of SKB(k = 4) -> RobustScaler -> KNeighbors (n_neighbors = 3, weights = 'distance')\"\n",
    "print \"accuracy \\t precision \\t recall \\t f1 \\t\\t f2\" \n",
    "accuracy, precision, recall, f1, f2 = my_tools.my_test_classifier(pl, my_dataset, features_list, folds = 1000)\n",
    "print \"%1.3f \\t\\t %1.3f \\t\\t %1.3f \\t\\t %1.3f \\t\\t %1.3f\" %(accuracy, precision, recall, f1, f2)"
   ]
  },
  {
   "cell_type": "code",
   "execution_count": 4,
   "metadata": {
    "collapsed": false
   },
   "outputs": [
    {
     "name": "stdout",
     "output_type": "stream",
     "text": [
      "total_stock_value :\t999\n",
      "bonus :\t995\n",
      "exercised_stock_options :\t995\n",
      "salary :\t983\n",
      "deferred_income :\t489\n",
      "long_term_incentive :\t185\n",
      "shared_receipt_ratio :\t134\n",
      "restricted_stock :\t130\n",
      "total_payments :\t79\n",
      "expenses :\t11\n",
      "deferral_payments :\t0\n",
      "loan_advances :\t0\n",
      "restricted_stock_deferred :\t0\n",
      "other :\t0\n",
      "director_fees :\t0\n"
     ]
    }
   ],
   "source": [
    "### get arrays of train/test indices from StratifiedShuffleSplit\n",
    "cv = StratifiedShuffleSplit(labels, n_iter = 1000, random_state = 42)\n",
    "### save the feature counts in this dictionary\n",
    "features_use_count = np.zeros(len(features_list)-1, dtype = int)\n",
    "### get the indices from each iteration and create the training matrices\n",
    "for train_indices, test_indices in cv:\n",
    "    labels_train = []\n",
    "    features_train = []\n",
    "    for train_ix in train_indices:\n",
    "        labels_train.append(labels[train_ix])\n",
    "        features_train.append(features[train_ix])\n",
    "    skb = SelectKBest(score_func = f_classif, k = 5)\n",
    "    skb.fit(features_train, labels_train)\n",
    "    for ix in skb.get_support(indices = True):\n",
    "        features_use_count[ix] += 1\n",
    "\n",
    "feature_scores = dict(zip(features_list[1:],features_use_count))\n",
    "for key in sorted(feature_scores, key=feature_scores.get, reverse = True):\n",
    "    print key,\":\\t\", feature_scores[key]\n"
   ]
  },
  {
   "cell_type": "code",
   "execution_count": 5,
   "metadata": {
    "collapsed": false
   },
   "outputs": [
    {
     "name": "stdout",
     "output_type": "stream",
     "text": [
      "Pipeline(steps=[('rs', RobustScaler(copy=True, with_centering=True, with_scaling=True)), ('knn', KNeighborsClassifier(algorithm='auto', leaf_size=30, metric='minkowski',\n",
      "           metric_params=None, n_jobs=1, n_neighbors=3, p=2,\n",
      "           weights='uniform'))])\n",
      "0.321333333333\n"
     ]
    }
   ],
   "source": [
    "### First estimator is not using the shared_receipt_ratio.  Omit the SKB step and use the top 4 financial\n",
    "### features plus email ratio which were best in GaussianNB:\n",
    "test_features_list = ['poi'] + ['bonus', 'deferred_income', 'exercised_stock_options', \n",
    "                           'salary', 'total_stock_value'] + [\"shared_receipt_ratio\"]\n",
    "data = featureFormat(my_dataset, test_features_list, sort_keys = True)\n",
    "labels, features = targetFeatureSplit(data)\n",
    "rs = RobustScaler()\n",
    "knn = KNeighborsClassifier()\n",
    "cv = StratifiedShuffleSplit(labels, n_iter = 100, test_size = 0.1, random_state = 42)\n",
    "pl = Pipeline([('rs', rs), ('knn',knn)])\n",
    "param_grid = {'knn__n_neighbors':[2,3,4,5,6]}\n",
    "gs = GridSearchCV(pl, param_grid, scoring = 'f1', cv = cv)\n",
    "gs.fit(features,labels)\n",
    "print gs.best_estimator_\n",
    "print gs.best_score_"
   ]
  },
  {
   "cell_type": "markdown",
   "metadata": {},
   "source": [
    "So for this classifier, adding the email ratio doesn't seem to help.  Try running the full features list through the pipeline including the SelectKBest step."
   ]
  },
  {
   "cell_type": "code",
   "execution_count": 6,
   "metadata": {
    "collapsed": false
   },
   "outputs": [
    {
     "name": "stdout",
     "output_type": "stream",
     "text": [
      "Pipeline(steps=[('skb', SelectKBest(k=4, score_func=<function f_classif at 0x00000000073CE748>)), ('rs', RobustScaler(copy=True, with_centering=True, with_scaling=True)), ('knn', KNeighborsClassifier(algorithm='auto', leaf_size=30, metric='minkowski',\n",
      "           metric_params=None, n_jobs=1, n_neighbors=3, p=2,\n",
      "           weights='uniform'))])\n",
      "0.456666666667\n"
     ]
    }
   ],
   "source": [
    "features_list = ['poi'] + FINANCIAL_FEATURES + EMAIL_FEATURES + EMAIL_POI_FEATURES\n",
    "\n",
    "data = featureFormat(my_dataset, features_list, sort_keys = True)\n",
    "labels, features = targetFeatureSplit(data)\n",
    "\n",
    "\n",
    "rs = RobustScaler()\n",
    "\n",
    "skb = SelectKBest()\n",
    "knn = KNeighborsClassifier()\n",
    "cv = StratifiedShuffleSplit(labels, n_iter = 100, test_size = 0.1, random_state = 42)\n",
    "pl = Pipeline([('skb', skb), ('rs', rs), ('knn', knn)])\n",
    "param_grid = {'skb__k':[3,4,5,6,7,8],\n",
    "              'knn__n_neighbors':[2,3,4,5,6],\n",
    "             'knn__weights':['distance','uniform']}\n",
    "gs = GridSearchCV(pl, param_grid, scoring='f1', cv = cv)\n",
    "gs.fit(features, labels)\n",
    "print gs.best_estimator_\n",
    "print gs.best_score_"
   ]
  },
  {
   "cell_type": "markdown",
   "metadata": {},
   "source": [
    "Similar results: Only using the top 4 financial features.  "
   ]
  },
  {
   "cell_type": "code",
   "execution_count": 7,
   "metadata": {
    "collapsed": false
   },
   "outputs": [
    {
     "name": "stdout",
     "output_type": "stream",
     "text": [
      "Testing pipeline of RobustScaler -> KNeighbors (n_neighbors = 3, weights = 'uniform')\n",
      "Feature list: ['poi', 'total_stock_value', 'bonus', 'exercised_stock_options', 'salary']\n",
      "accuracy \t precision \t recall \t f1 \t\t f2\n",
      "0.872 \t\t 0.645 \t\t 0.379 \t\t 0.477 \t\t 0.413\n"
     ]
    }
   ],
   "source": [
    "### set up KNN with top 4 financial features only and run through full tester\n",
    "test_features_list = ['poi','total_stock_value','bonus', 'exercised_stock_options','salary']\n",
    "rs = RobustScaler()\n",
    "knn = KNeighborsClassifier(n_neighbors = 3, weights = 'uniform')\n",
    "pl = Pipeline([('rs',rs), ('knn',knn)])\n",
    "print \"Testing pipeline of RobustScaler -> KNeighbors (n_neighbors = 3, weights = 'uniform')\"\n",
    "print \"Feature list:\", test_features_list\n",
    "print \"accuracy \\t precision \\t recall \\t f1 \\t\\t f2\" \n",
    "accuracy, precision, recall, f1, f2 = my_tools.my_test_classifier(pl, my_dataset, test_features_list, folds = 1000)\n",
    "print \"%1.3f \\t\\t %1.3f \\t\\t %1.3f \\t\\t %1.3f \\t\\t %1.3f\" %(accuracy, precision, recall, f1, f2)"
   ]
  },
  {
   "cell_type": "code",
   "execution_count": 8,
   "metadata": {
    "collapsed": false
   },
   "outputs": [
    {
     "name": "stdout",
     "output_type": "stream",
     "text": [
      "Pipeline(steps=[('skb', SelectKBest(k=3, score_func=<function f_classif at 0x00000000073CE748>)), ('rs', RobustScaler(copy=True, with_centering=True, with_scaling=True)), ('knn', KNeighborsClassifier(algorithm='auto', leaf_size=30, metric='minkowski',\n",
      "           metric_params=None, n_jobs=1, n_neighbors=4, p=2,\n",
      "           weights='distance'))])\n",
      "0.403333333333\n"
     ]
    }
   ],
   "source": [
    "### As a final step, try running my custom imputation method for salary on the datset first,\n",
    "### then tune and test the KNN classiier. Need to reload the dataset, set up the features\n",
    "### Load the dictionary containing the dataset\n",
    "with open(\"final_project_dataset.pkl\", \"r\") as data_file:\n",
    "    data_dict = pickle.load(data_file)\n",
    "\n",
    "### Task 2: Remove outliers\n",
    "### 2 entries are not individuals. one labeled \"TOTAL\" and the other\n",
    "### \"THE TRAVEL AGENCY IN THE PARK\"\n",
    "del data_dict[\"TOTAL\"]\n",
    "del data_dict[\"THE TRAVEL AGENCY IN THE PARK\"]\n",
    "\n",
    "### Unclear whether other outliers should be removed\n",
    "\n",
    "### Store to my_dataset for easy export below.\n",
    "my_dataset = data_dict\n",
    "\n",
    "### Add custom imputation here\n",
    "my_tools.my_imputer(my_dataset, \"salary\", test = my_tools.is_not_director)\n",
    "\n",
    "\n",
    "### create custom features:\n",
    "my_tools.create_ratio_feature(my_dataset, \"shared_receipt_ratio\", \"shared_receipt_with_poi\", \"to_messages\")\n",
    "my_tools.create_ratio_feature(my_dataset, \"poi_email_ratio\", EMAIL_POI_FEATURES, EMAIL_FEATURES)\n",
    "\n",
    "features_list = ['poi'] + FINANCIAL_FEATURES + [\"shared_receipt_ratio\"]\n",
    "\n",
    "data = featureFormat(my_dataset, features_list, sort_keys = True)\n",
    "labels, features = targetFeatureSplit(data)\n",
    "cv = StratifiedShuffleSplit(labels, n_iter = 100, test_size = 0.1, random_state = 42)\n",
    "\n",
    "pl = Pipeline([('skb', skb), ('rs', rs), ('knn', knn)])\n",
    "param_grid = {'skb__k':[3,4,5,6,7,8],\n",
    "              'knn__n_neighbors':[3,4,5,6],\n",
    "             'knn__weights':['distance','uniform']}\n",
    "gs = GridSearchCV(pl, param_grid, scoring='f1', cv = cv)\n",
    "gs.fit(features, labels)\n",
    "print gs.best_estimator_\n",
    "print gs.best_score_\n"
   ]
  },
  {
   "cell_type": "code",
   "execution_count": 10,
   "metadata": {
    "collapsed": false
   },
   "outputs": [
    {
     "name": "stdout",
     "output_type": "stream",
     "text": [
      "total_stock_value :\t1000\n",
      "bonus :\t999\n",
      "exercised_stock_options :\t994\n",
      "salary :\t796\n",
      "deferred_income :\t533\n",
      "shared_receipt_ratio :\t205\n",
      "long_term_incentive :\t180\n",
      "restricted_stock :\t156\n",
      "total_payments :\t119\n",
      "expenses :\t14\n",
      "loan_advances :\t4\n",
      "deferral_payments :\t0\n",
      "restricted_stock_deferred :\t0\n",
      "other :\t0\n",
      "director_fees :\t0\n"
     ]
    }
   ],
   "source": [
    "### get arrays of train/test indices from StratifiedShuffleSplit\n",
    "cv = StratifiedShuffleSplit(labels, n_iter = 1000, random_state = 42)\n",
    "### save the feature counts in this dictionary\n",
    "features_use_count = np.zeros(len(features_list)-1, dtype = int)\n",
    "### get the indices from each iteration and create the training matrices\n",
    "for train_indices, test_indices in cv:\n",
    "    labels_train = []\n",
    "    features_train = []\n",
    "    for train_ix in train_indices:\n",
    "        labels_train.append(labels[train_ix])\n",
    "        features_train.append(features[train_ix])\n",
    "    skb = SelectKBest(score_func = f_classif, k = 5)\n",
    "    skb.fit(features_train, labels_train)\n",
    "    for ix in skb.get_support(indices = True):\n",
    "        features_use_count[ix] += 1\n",
    "\n",
    "feature_scores = dict(zip(features_list[1:],features_use_count))\n",
    "for key in sorted(feature_scores, key=feature_scores.get, reverse = True):\n",
    "    print key,\":\\t\", feature_scores[key]\n"
   ]
  },
  {
   "cell_type": "code",
   "execution_count": 12,
   "metadata": {
    "collapsed": false
   },
   "outputs": [
    {
     "name": "stdout",
     "output_type": "stream",
     "text": [
      "Testing pipleline of RobustScaler -> KNeighbors (n_neighbors = 4, weights = 'distance')\n",
      "Feature list: ['poi', 'total_stock_value', 'bonus', 'exercised_stock_options']\n",
      "accuracy \t precision \t recall \t f1 \t\t f2\n",
      "0.875 \t\t 0.638 \t\t 0.438 \t\t 0.519 \t\t 0.467\n"
     ]
    }
   ],
   "source": [
    "### The best estimator now found in the GridSearchCV has only 3 features, and uses n_neighbors=4, weights = 'distance  \n",
    "### Set this up and run it through the full tester\n",
    "test_features_list = ['poi','total_stock_value','bonus', 'exercised_stock_options']\n",
    "rs = RobustScaler()\n",
    "knn = KNeighborsClassifier(n_neighbors = 4, weights = 'distance')\n",
    "pl = Pipeline([('rs',rs), ('knn',knn)])\n",
    "print \"Testing pipleline of RobustScaler -> KNeighbors (n_neighbors = 4, weights = 'distance')\"\n",
    "print \"Feature list:\", test_features_list\n",
    "print \"accuracy \\t precision \\t recall \\t f1 \\t\\t f2\" \n",
    "accuracy, precision, recall, f1, f2 = my_tools.my_test_classifier(pl, my_dataset, test_features_list, folds = 1000)\n",
    "print \"%1.3f \\t\\t %1.3f \\t\\t %1.3f \\t\\t %1.3f \\t\\t %1.3f\" %(accuracy, precision, recall, f1, f2)"
   ]
  },
  {
   "cell_type": "markdown",
   "metadata": {},
   "source": [
    "Which is, interestingly, a very simple classifier, using only 3 features, but gives best results of all the ones\n",
    "I've tried so far."
   ]
  },
  {
   "cell_type": "code",
   "execution_count": null,
   "metadata": {
    "collapsed": true
   },
   "outputs": [],
   "source": []
  }
 ],
 "metadata": {
  "anaconda-cloud": {},
  "kernelspec": {
   "display_name": "Python [Root]",
   "language": "python",
   "name": "Python [Root]"
  },
  "language_info": {
   "codemirror_mode": {
    "name": "ipython",
    "version": 2
   },
   "file_extension": ".py",
   "mimetype": "text/x-python",
   "name": "python",
   "nbconvert_exporter": "python",
   "pygments_lexer": "ipython2",
   "version": "2.7.11"
  }
 },
 "nbformat": 4,
 "nbformat_minor": 0
}
