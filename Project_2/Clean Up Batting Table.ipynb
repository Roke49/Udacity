{
 "cells": [
  {
   "cell_type": "markdown",
   "metadata": {},
   "source": [
    "Clean Up Batting Stats Table"
   ]
  },
  {
   "cell_type": "code",
   "execution_count": 1,
   "metadata": {
    "collapsed": false
   },
   "outputs": [
    {
     "data": {
      "text/plain": [
       "91749"
      ]
     },
     "execution_count": 1,
     "metadata": {},
     "output_type": "execute_result"
    }
   ],
   "source": [
    "import numpy as np\n",
    "import pandas as pd\n",
    "\n",
    "## set file location for files:\n",
    "df_dir = 'c:/users/roke/documents/udacity/udacity nanodegree/project 2/baseball data tables/'\n",
    "\n",
    "## read in the batting statistics data table\n",
    "filename = 'batting.csv'\n",
    "df_batting = pd.read_csv(df_dir + filename)\n",
    "\n",
    "## modern rules for baseball began in 1901 season, so limit further analysis to\n",
    "## that time frame\n",
    "\n",
    "df_bat_modern = df_batting.query('yearID > 1900').reset_index(drop=True)\n",
    "\n",
    "len(df_bat_modern)"
   ]
  },
  {
   "cell_type": "code",
   "execution_count": 2,
   "metadata": {
    "collapsed": false
   },
   "outputs": [
    {
     "data": {
      "text/plain": [
       "5149"
      ]
     },
     "execution_count": 2,
     "metadata": {},
     "output_type": "execute_result"
    }
   ],
   "source": [
    "## Now there are lots of NaN's in the batting table early-on, and these appear to correspond to\n",
    "## statistics which weren't recorded in the early years of professional baseball.  The ones I \n",
    "## intend to use are at-bats, hits, doubles, triples, and home runs, and those appear to be\n",
    "## recorded throughout.  However, when I check to see if there are any NaN's in the 'AB' column,\n",
    "## I find, somewhat surprisingly, there are a fair number of them.\n",
    "df_bat_modern['AB'].isnull().sum()"
   ]
  },
  {
   "cell_type": "code",
   "execution_count": 3,
   "metadata": {
    "collapsed": false
   },
   "outputs": [
    {
     "data": {
      "text/plain": [
       "array([1973, 1974, 1975, 1976, 1977, 1978, 1979, 1980, 1981, 1982, 1983,\n",
       "       1984, 1985, 1986, 1987, 1988, 1989, 1990, 1991, 1992, 1993, 1994,\n",
       "       1995, 1996, 1997, 1998, 1999], dtype=int64)"
      ]
     },
     "execution_count": 3,
     "metadata": {},
     "output_type": "execute_result"
    }
   ],
   "source": [
    "## Wondering where these are, select the rows with 'AB' isnull() and look at the yearID's\n",
    "df_no_AB = df_bat_modern[df_bat_modern['AB'].isnull() == True]\n",
    "df_no_AB['yearID'].unique()"
   ]
  },
  {
   "cell_type": "code",
   "execution_count": 4,
   "metadata": {
    "collapsed": false
   },
   "outputs": [
    {
     "data": {
      "text/plain": [
       "86600"
      ]
     },
     "execution_count": 4,
     "metadata": {},
     "output_type": "execute_result"
    }
   ],
   "source": [
    "## So really they're in the middle where they wouldn't be seen by a scan of the beginning and ending\n",
    "## parts of the table.  Good lesson there.\n",
    "## So now drop all rows in the table where there's a NaN in any of the columns I plan to use\n",
    "## for calculating statistics\n",
    "df_bat_modern.dropna(subset=['AB','H','2B','3B','HR'],inplace = True)\n",
    "len(df_bat_modern)"
   ]
  },
  {
   "cell_type": "code",
   "execution_count": 5,
   "metadata": {
    "collapsed": false
   },
   "outputs": [
    {
     "data": {
      "text/plain": [
       "86600"
      ]
     },
     "execution_count": 5,
     "metadata": {},
     "output_type": "execute_result"
    }
   ],
   "source": [
    "## and check to see if there are any more surprises in the other columns I plan to use,\n",
    "## yearID, playerID, stint, teamID, or lgID:\n",
    "len(df_bat_modern.dropna(subset=['yearID','playerID','stint','teamID','lgID']))\n"
   ]
  },
  {
   "cell_type": "code",
   "execution_count": 6,
   "metadata": {
    "collapsed": false
   },
   "outputs": [
    {
     "data": {
      "text/html": [
       "<div>\n",
       "<table border=\"1\" class=\"dataframe\">\n",
       "  <thead>\n",
       "    <tr style=\"text-align: right;\">\n",
       "      <th></th>\n",
       "      <th>playerID</th>\n",
       "      <th>yearID</th>\n",
       "      <th>stint</th>\n",
       "      <th>teamID</th>\n",
       "      <th>lgID</th>\n",
       "      <th>G</th>\n",
       "      <th>AB</th>\n",
       "      <th>R</th>\n",
       "      <th>H</th>\n",
       "      <th>2B</th>\n",
       "      <th>...</th>\n",
       "      <th>RBI</th>\n",
       "      <th>SB</th>\n",
       "      <th>CS</th>\n",
       "      <th>BB</th>\n",
       "      <th>SO</th>\n",
       "      <th>IBB</th>\n",
       "      <th>HBP</th>\n",
       "      <th>SH</th>\n",
       "      <th>SF</th>\n",
       "      <th>GIDP</th>\n",
       "    </tr>\n",
       "  </thead>\n",
       "  <tbody>\n",
       "    <tr>\n",
       "      <th>86590</th>\n",
       "      <td>youngch04</td>\n",
       "      <td>2014</td>\n",
       "      <td>1</td>\n",
       "      <td>NYN</td>\n",
       "      <td>NL</td>\n",
       "      <td>88</td>\n",
       "      <td>254</td>\n",
       "      <td>31</td>\n",
       "      <td>52</td>\n",
       "      <td>12</td>\n",
       "      <td>...</td>\n",
       "      <td>28</td>\n",
       "      <td>7</td>\n",
       "      <td>3</td>\n",
       "      <td>25</td>\n",
       "      <td>54</td>\n",
       "      <td>2</td>\n",
       "      <td>4</td>\n",
       "      <td>1</td>\n",
       "      <td>3</td>\n",
       "      <td>3</td>\n",
       "    </tr>\n",
       "    <tr>\n",
       "      <th>86591</th>\n",
       "      <td>youngch04</td>\n",
       "      <td>2014</td>\n",
       "      <td>2</td>\n",
       "      <td>NYA</td>\n",
       "      <td>AL</td>\n",
       "      <td>23</td>\n",
       "      <td>71</td>\n",
       "      <td>9</td>\n",
       "      <td>20</td>\n",
       "      <td>8</td>\n",
       "      <td>...</td>\n",
       "      <td>10</td>\n",
       "      <td>1</td>\n",
       "      <td>0</td>\n",
       "      <td>7</td>\n",
       "      <td>16</td>\n",
       "      <td>0</td>\n",
       "      <td>1</td>\n",
       "      <td>0</td>\n",
       "      <td>0</td>\n",
       "      <td>0</td>\n",
       "    </tr>\n",
       "    <tr>\n",
       "      <th>86592</th>\n",
       "      <td>youngde03</td>\n",
       "      <td>2014</td>\n",
       "      <td>1</td>\n",
       "      <td>BAL</td>\n",
       "      <td>AL</td>\n",
       "      <td>83</td>\n",
       "      <td>242</td>\n",
       "      <td>27</td>\n",
       "      <td>73</td>\n",
       "      <td>11</td>\n",
       "      <td>...</td>\n",
       "      <td>30</td>\n",
       "      <td>2</td>\n",
       "      <td>0</td>\n",
       "      <td>10</td>\n",
       "      <td>51</td>\n",
       "      <td>0</td>\n",
       "      <td>3</td>\n",
       "      <td>0</td>\n",
       "      <td>0</td>\n",
       "      <td>6</td>\n",
       "    </tr>\n",
       "    <tr>\n",
       "      <th>86593</th>\n",
       "      <td>younger03</td>\n",
       "      <td>2014</td>\n",
       "      <td>1</td>\n",
       "      <td>NYN</td>\n",
       "      <td>NL</td>\n",
       "      <td>100</td>\n",
       "      <td>280</td>\n",
       "      <td>48</td>\n",
       "      <td>64</td>\n",
       "      <td>10</td>\n",
       "      <td>...</td>\n",
       "      <td>17</td>\n",
       "      <td>30</td>\n",
       "      <td>6</td>\n",
       "      <td>24</td>\n",
       "      <td>60</td>\n",
       "      <td>1</td>\n",
       "      <td>5</td>\n",
       "      <td>5</td>\n",
       "      <td>2</td>\n",
       "      <td>2</td>\n",
       "    </tr>\n",
       "    <tr>\n",
       "      <th>86594</th>\n",
       "      <td>zeidjo01</td>\n",
       "      <td>2014</td>\n",
       "      <td>1</td>\n",
       "      <td>HOU</td>\n",
       "      <td>AL</td>\n",
       "      <td>23</td>\n",
       "      <td>1</td>\n",
       "      <td>0</td>\n",
       "      <td>0</td>\n",
       "      <td>0</td>\n",
       "      <td>...</td>\n",
       "      <td>0</td>\n",
       "      <td>0</td>\n",
       "      <td>0</td>\n",
       "      <td>0</td>\n",
       "      <td>1</td>\n",
       "      <td>0</td>\n",
       "      <td>0</td>\n",
       "      <td>0</td>\n",
       "      <td>0</td>\n",
       "      <td>0</td>\n",
       "    </tr>\n",
       "    <tr>\n",
       "      <th>86595</th>\n",
       "      <td>zieglbr01</td>\n",
       "      <td>2014</td>\n",
       "      <td>1</td>\n",
       "      <td>ARI</td>\n",
       "      <td>NL</td>\n",
       "      <td>68</td>\n",
       "      <td>1</td>\n",
       "      <td>0</td>\n",
       "      <td>0</td>\n",
       "      <td>0</td>\n",
       "      <td>...</td>\n",
       "      <td>0</td>\n",
       "      <td>0</td>\n",
       "      <td>0</td>\n",
       "      <td>0</td>\n",
       "      <td>1</td>\n",
       "      <td>0</td>\n",
       "      <td>0</td>\n",
       "      <td>0</td>\n",
       "      <td>0</td>\n",
       "      <td>0</td>\n",
       "    </tr>\n",
       "    <tr>\n",
       "      <th>86596</th>\n",
       "      <td>zimmejo02</td>\n",
       "      <td>2014</td>\n",
       "      <td>1</td>\n",
       "      <td>WAS</td>\n",
       "      <td>NL</td>\n",
       "      <td>32</td>\n",
       "      <td>55</td>\n",
       "      <td>3</td>\n",
       "      <td>10</td>\n",
       "      <td>1</td>\n",
       "      <td>...</td>\n",
       "      <td>1</td>\n",
       "      <td>0</td>\n",
       "      <td>0</td>\n",
       "      <td>2</td>\n",
       "      <td>21</td>\n",
       "      <td>0</td>\n",
       "      <td>0</td>\n",
       "      <td>9</td>\n",
       "      <td>1</td>\n",
       "      <td>0</td>\n",
       "    </tr>\n",
       "    <tr>\n",
       "      <th>86597</th>\n",
       "      <td>zimmery01</td>\n",
       "      <td>2014</td>\n",
       "      <td>1</td>\n",
       "      <td>WAS</td>\n",
       "      <td>NL</td>\n",
       "      <td>61</td>\n",
       "      <td>214</td>\n",
       "      <td>26</td>\n",
       "      <td>60</td>\n",
       "      <td>19</td>\n",
       "      <td>...</td>\n",
       "      <td>38</td>\n",
       "      <td>0</td>\n",
       "      <td>0</td>\n",
       "      <td>22</td>\n",
       "      <td>37</td>\n",
       "      <td>0</td>\n",
       "      <td>0</td>\n",
       "      <td>0</td>\n",
       "      <td>4</td>\n",
       "      <td>6</td>\n",
       "    </tr>\n",
       "    <tr>\n",
       "      <th>86598</th>\n",
       "      <td>zobribe01</td>\n",
       "      <td>2014</td>\n",
       "      <td>1</td>\n",
       "      <td>TBA</td>\n",
       "      <td>AL</td>\n",
       "      <td>146</td>\n",
       "      <td>570</td>\n",
       "      <td>83</td>\n",
       "      <td>155</td>\n",
       "      <td>34</td>\n",
       "      <td>...</td>\n",
       "      <td>52</td>\n",
       "      <td>10</td>\n",
       "      <td>5</td>\n",
       "      <td>75</td>\n",
       "      <td>84</td>\n",
       "      <td>4</td>\n",
       "      <td>1</td>\n",
       "      <td>2</td>\n",
       "      <td>6</td>\n",
       "      <td>8</td>\n",
       "    </tr>\n",
       "    <tr>\n",
       "      <th>86599</th>\n",
       "      <td>zuninmi01</td>\n",
       "      <td>2014</td>\n",
       "      <td>1</td>\n",
       "      <td>SEA</td>\n",
       "      <td>AL</td>\n",
       "      <td>131</td>\n",
       "      <td>438</td>\n",
       "      <td>51</td>\n",
       "      <td>87</td>\n",
       "      <td>20</td>\n",
       "      <td>...</td>\n",
       "      <td>60</td>\n",
       "      <td>0</td>\n",
       "      <td>3</td>\n",
       "      <td>17</td>\n",
       "      <td>158</td>\n",
       "      <td>1</td>\n",
       "      <td>17</td>\n",
       "      <td>0</td>\n",
       "      <td>4</td>\n",
       "      <td>12</td>\n",
       "    </tr>\n",
       "  </tbody>\n",
       "</table>\n",
       "<p>10 rows × 22 columns</p>\n",
       "</div>"
      ],
      "text/plain": [
       "        playerID  yearID  stint teamID lgID    G   AB   R    H  2B  ...   RBI  \\\n",
       "86590  youngch04    2014      1    NYN   NL   88  254  31   52  12  ...    28   \n",
       "86591  youngch04    2014      2    NYA   AL   23   71   9   20   8  ...    10   \n",
       "86592  youngde03    2014      1    BAL   AL   83  242  27   73  11  ...    30   \n",
       "86593  younger03    2014      1    NYN   NL  100  280  48   64  10  ...    17   \n",
       "86594   zeidjo01    2014      1    HOU   AL   23    1   0    0   0  ...     0   \n",
       "86595  zieglbr01    2014      1    ARI   NL   68    1   0    0   0  ...     0   \n",
       "86596  zimmejo02    2014      1    WAS   NL   32   55   3   10   1  ...     1   \n",
       "86597  zimmery01    2014      1    WAS   NL   61  214  26   60  19  ...    38   \n",
       "86598  zobribe01    2014      1    TBA   AL  146  570  83  155  34  ...    52   \n",
       "86599  zuninmi01    2014      1    SEA   AL  131  438  51   87  20  ...    60   \n",
       "\n",
       "       SB  CS  BB   SO  IBB  HBP  SH  SF  GIDP  \n",
       "86590   7   3  25   54    2    4   1   3     3  \n",
       "86591   1   0   7   16    0    1   0   0     0  \n",
       "86592   2   0  10   51    0    3   0   0     6  \n",
       "86593  30   6  24   60    1    5   5   2     2  \n",
       "86594   0   0   0    1    0    0   0   0     0  \n",
       "86595   0   0   0    1    0    0   0   0     0  \n",
       "86596   0   0   2   21    0    0   9   1     0  \n",
       "86597   0   0  22   37    0    0   0   4     6  \n",
       "86598  10   5  75   84    4    1   2   6     8  \n",
       "86599   0   3  17  158    1   17   0   4    12  \n",
       "\n",
       "[10 rows x 22 columns]"
      ]
     },
     "execution_count": 6,
     "metadata": {},
     "output_type": "execute_result"
    }
   ],
   "source": [
    "## So no more surprises (I think).\n",
    "## The table appeared to have been sorted by yearID, playerID, stint,  but in case the above\n",
    "## has messed this up:\n",
    "df_bat_modern.sort_values(by=['yearID','playerID','stint'],inplace=True)\n",
    "df_bat_modern.reset_index(drop=True,inplace=True)\n",
    "df_bat_modern.tail(10)"
   ]
  },
  {
   "cell_type": "code",
   "execution_count": 7,
   "metadata": {
    "collapsed": true
   },
   "outputs": [],
   "source": [
    "## Which is how the default integer index should look for a table of length 86600.  Moving on"
   ]
  },
  {
   "cell_type": "code",
   "execution_count": 8,
   "metadata": {
    "collapsed": false
   },
   "outputs": [
    {
     "name": "stdout",
     "output_type": "stream",
     "text": [
      "done\n"
     ]
    }
   ],
   "source": [
    "\n",
    "## In the batting table there are multiple player/year combinations where a player has multiple\n",
    "## rows, each representing a separate \"stint\", typically with a different club.  These need to be\n",
    "## combined before calculating yearly stats like batting averages.\n",
    "\n",
    "def combine_rows(first,second):\n",
    "    return_row = first.copy()\n",
    "    return_row['G'] += second['G']\n",
    "    return_row['AB'] += second['AB']\n",
    "    return_row['R'] += second['R']\n",
    "    return_row['H'] += second['H']\n",
    "    return_row['2B'] += second['2B']\n",
    "    return_row['3B'] += second['3B']\n",
    "    return_row['HR'] += second['HR']\n",
    "    return_row['RBI'] += second['RBI']\n",
    "    return_row['SB'] += second['SB']\n",
    "    return_row['CS'] += second['CS']\n",
    "    return_row['SO'] += second['SO']\n",
    "    return_row['IBB'] += second['IBB']\n",
    "    return_row['HBP'] += second['HBP']\n",
    "    return_row['SH'] += second['SH']\n",
    "    return_row['SF'] += second['SF']\n",
    "    return_row['GIDP'] += second['GIDP']\n",
    "    if second['G'] > first['G']:\n",
    "        return_row['teamID'] = second['teamID']\n",
    "        return_row['lgID'] = second['lgID']\n",
    "    return return_row\n",
    "\n",
    "max_stints = df_bat_modern['stint'].max()\n",
    "\n",
    "## Starting with the highest numbered stint in the table, add appropriate rows to prior row\n",
    "## in the table and delete the higher numbered row.  Update the teamID and lgID fields to\n",
    "## represent the row with higer number of games. This code is inefficient due to the\n",
    "## use of iterrows(), but I'm not sure how else to do it right now.\n",
    "\n",
    "for i in range (max_stints, 1, -1):\n",
    "    for idx,row in df_bat_modern[df_bat_modern['stint']==i].iterrows():\n",
    "        try:\n",
    "            df_bat_modern.loc[idx-1] = combine_rows(df_bat_modern.loc[idx-1],row)\n",
    "            df_bat_modern.drop([idx],inplace=True)\n",
    "        except KeyError: ## means lower numbered row already dropped, do nothing\n",
    "            pass\n",
    "\n",
    "print 'done'\n"
   ]
  },
  {
   "cell_type": "code",
   "execution_count": 9,
   "metadata": {
    "collapsed": false
   },
   "outputs": [
    {
     "data": {
      "text/plain": [
       "72411"
      ]
     },
     "execution_count": 9,
     "metadata": {},
     "output_type": "execute_result"
    }
   ],
   "source": [
    "## Now that stints for a year have been combined, eliminate rows with AB = 0.  These are now \n",
    "## rows in which a player has no official at-bats for an entire year.  \n",
    "## Using these rows would result in a divide-by-zero condition when \n",
    "## calculating batting average and slugging percentage, resulting in NaN's in those\n",
    "## cells.  Removing these rows should have no effect on the anlyses I'm doing, as a hitter with no\n",
    "## official at-bats in a year would not be counted in overall league batting stats, and would not\n",
    "## have an individual batting average or slugging percentage calculable in that year.\n",
    "df_bat_modern = df_bat_modern[df_bat_modern['AB'] != 0]\n",
    "len(df_bat_modern)"
   ]
  },
  {
   "cell_type": "code",
   "execution_count": 10,
   "metadata": {
    "collapsed": false
   },
   "outputs": [
    {
     "data": {
      "text/html": [
       "<div>\n",
       "<table border=\"1\" class=\"dataframe\">\n",
       "  <thead>\n",
       "    <tr style=\"text-align: right;\">\n",
       "      <th></th>\n",
       "      <th>playerID</th>\n",
       "      <th>yearID</th>\n",
       "      <th>teamID</th>\n",
       "      <th>lgID</th>\n",
       "      <th>G</th>\n",
       "      <th>AB</th>\n",
       "      <th>R</th>\n",
       "      <th>H</th>\n",
       "      <th>2B</th>\n",
       "      <th>3B</th>\n",
       "      <th>...</th>\n",
       "      <th>RBI</th>\n",
       "      <th>SB</th>\n",
       "      <th>CS</th>\n",
       "      <th>BB</th>\n",
       "      <th>SO</th>\n",
       "      <th>IBB</th>\n",
       "      <th>HBP</th>\n",
       "      <th>SH</th>\n",
       "      <th>SF</th>\n",
       "      <th>GIDP</th>\n",
       "    </tr>\n",
       "  </thead>\n",
       "  <tbody>\n",
       "    <tr>\n",
       "      <th>0</th>\n",
       "      <td>anderjo01</td>\n",
       "      <td>1901</td>\n",
       "      <td>MLA</td>\n",
       "      <td>AL</td>\n",
       "      <td>138</td>\n",
       "      <td>576</td>\n",
       "      <td>90</td>\n",
       "      <td>190</td>\n",
       "      <td>46</td>\n",
       "      <td>7</td>\n",
       "      <td>...</td>\n",
       "      <td>99</td>\n",
       "      <td>35</td>\n",
       "      <td>NaN</td>\n",
       "      <td>24</td>\n",
       "      <td>NaN</td>\n",
       "      <td>NaN</td>\n",
       "      <td>3</td>\n",
       "      <td>4</td>\n",
       "      <td>NaN</td>\n",
       "      <td>NaN</td>\n",
       "    </tr>\n",
       "    <tr>\n",
       "      <th>1</th>\n",
       "      <td>bakerbo01</td>\n",
       "      <td>1901</td>\n",
       "      <td>CLE</td>\n",
       "      <td>AL</td>\n",
       "      <td>2</td>\n",
       "      <td>7</td>\n",
       "      <td>0</td>\n",
       "      <td>1</td>\n",
       "      <td>0</td>\n",
       "      <td>0</td>\n",
       "      <td>...</td>\n",
       "      <td>1</td>\n",
       "      <td>0</td>\n",
       "      <td>NaN</td>\n",
       "      <td>0</td>\n",
       "      <td>NaN</td>\n",
       "      <td>NaN</td>\n",
       "      <td>0</td>\n",
       "      <td>0</td>\n",
       "      <td>NaN</td>\n",
       "      <td>NaN</td>\n",
       "    </tr>\n",
       "  </tbody>\n",
       "</table>\n",
       "<p>2 rows × 21 columns</p>\n",
       "</div>"
      ],
      "text/plain": [
       "    playerID  yearID teamID lgID    G   AB   R    H  2B  3B  ...   RBI  SB  \\\n",
       "0  anderjo01    1901    MLA   AL  138  576  90  190  46   7  ...    99  35   \n",
       "1  bakerbo01    1901    CLE   AL    2    7   0    1   0   0  ...     1   0   \n",
       "\n",
       "   CS  BB  SO  IBB  HBP  SH  SF  GIDP  \n",
       "0 NaN  24 NaN  NaN    3   4 NaN   NaN  \n",
       "1 NaN   0 NaN  NaN    0   0 NaN   NaN  \n",
       "\n",
       "[2 rows x 21 columns]"
      ]
     },
     "execution_count": 10,
     "metadata": {},
     "output_type": "execute_result"
    }
   ],
   "source": [
    "## no need to keep the \"stint\" column anymore\n",
    "\n",
    "df_bat_modern.drop('stint', axis =1, inplace = True)\n",
    "df_bat_modern.head(2)\n"
   ]
  },
  {
   "cell_type": "code",
   "execution_count": 11,
   "metadata": {
    "collapsed": true
   },
   "outputs": [],
   "source": [
    "## Since the step to consolidate stints is inefficient, write out what we have so far so next step(s)\n",
    "## will be less time-consuming.\n",
    "\n",
    "df_bat_modern.to_csv(df_dir + 'Batting_Modern_TL_Fixed.csv',index=False)\n"
   ]
  },
  {
   "cell_type": "code",
   "execution_count": null,
   "metadata": {
    "collapsed": true
   },
   "outputs": [],
   "source": []
  }
 ],
 "metadata": {
  "kernelspec": {
   "display_name": "Python [Root]",
   "language": "python",
   "name": "Python [Root]"
  },
  "language_info": {
   "codemirror_mode": {
    "name": "ipython",
    "version": 2
   },
   "file_extension": ".py",
   "mimetype": "text/x-python",
   "name": "python",
   "nbconvert_exporter": "python",
   "pygments_lexer": "ipython2",
   "version": "2.7.11"
  }
 },
 "nbformat": 4,
 "nbformat_minor": 0
}
