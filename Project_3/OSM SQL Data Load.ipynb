{
 "cells": [
  {
   "cell_type": "code",
   "execution_count": 1,
   "metadata": {
    "collapsed": true
   },
   "outputs": [],
   "source": [
    "import sqlite3 as sq3\n",
    "import csv\n"
   ]
  },
  {
   "cell_type": "code",
   "execution_count": 2,
   "metadata": {
    "collapsed": true
   },
   "outputs": [],
   "source": [
    "## Constant definitions\n",
    "DBNAME = \"Gold_Country_OSM2.db\"\n",
    "## CSV files to load into SQLite database\n",
    "CSVFILES = ['users.csv', 'nodes.csv','ways.csv','relations.csv','node_tags.csv',\\\n",
    "           'way_tags.csv','relation_tags.csv','way_nodes.csv',\\\n",
    "           'relation_members.csv']\n",
    "\n",
    "\n",
    "## SQL Insert statements for loading data\n",
    "INSQL = [\"\"\"INSERT INTO Users (uid, user) VALUES (:uid, :user);\"\"\",\n",
    "        \"\"\"INSERT INTO Nodes (id, lat, lon, uid, version, changeset, timestamp)\n",
    "        VALUES (:id, :lat, :lon, :uid, :version, :changeset, :timestamp)\"\"\", \\\n",
    "        \"\"\"INSERT INTO Ways (id, uid, version, changeset, timestamp)\n",
    "        VALUES (:id, :uid, :version, :changeset, :timestamp)\"\"\", \\\n",
    "        \"\"\"INSERT INTO Relations (id, uid, version, changeset, timestamp)\n",
    "        VALUES (:id, :uid, :version, :changeset, :timestamp)\"\"\", \\\n",
    "        \"\"\"INSERT INTO Node_Tags (id, key, value, type)\n",
    "        VALUES (:id, :key, :value, :type)\"\"\", \\\n",
    "        \"\"\"INSERT INTO Way_Tags (id, key, value, type)\n",
    "        VALUES (:id, :key, :value, :type)\"\"\", \\\n",
    "        \"\"\"INSERT INTO Relation_Tags (id, key, value, type)\n",
    "        VALUES (:id, :key, :value, :type)\"\"\", \\\n",
    "        \"\"\"INSERT INTO Way_Nodes (id, node_id, position)\n",
    "        VALUES (:id, :node_id, :position)\"\"\", \\\n",
    "        \"\"\"INSERT INTO Relation_Members (id, member_id, role, type, position)\n",
    "        VALUES (:id, :member_id, :role, :type, :position)\"\"\"]\n",
    "\n",
    "## SQL Table create statements\n",
    "TCSQL = [\"\"\"CREATE TABLE Users(\n",
    "        uid INT PRIMARY KEY,\n",
    "        user TEXT);\"\"\",\n",
    "        \"\"\"CREATE TABLE Ways( \n",
    "        id INT PRIMARY KEY,  \n",
    "        uid INT REFERENCES Users, \n",
    "        version TEXT, \n",
    "        changeset TEXT, \n",
    "        timestamp TEXT);\"\"\", \\\n",
    "        \"\"\"CREATE TABLE Nodes(\n",
    "        id INT PRIMARY KEY, \n",
    "        lat REAL, \n",
    "        lon REAL, \n",
    "        uid TEXT REFERENCES Users, \n",
    "        version TEXT, \n",
    "        changeset TEXT, \n",
    "        timestamp TEXT);\"\"\", \\\n",
    "        \"\"\"CREATE TABLE Relations( \n",
    "        id INT PRIMARY KEY, \n",
    "        uid INT REFERENCES Users, \n",
    "        version TEXT, \n",
    "        changeset TEXT, \n",
    "        timestamp TEXT);\"\"\", \\\n",
    "        \"\"\"CREATE TABLE Way_Nodes ( \n",
    "        id INT REFERENCES Ways, \n",
    "        node_id INT REFERENCES Nodes(id), \n",
    "        position INT, \n",
    "        PRIMARY KEY (id, node_id, position));\"\"\", \\\n",
    "        \"\"\"CREATE TABLE Way_Tags ( \n",
    "        id INT REFERENCES Ways, \n",
    "        key TEXT, \n",
    "        value TEXT, \n",
    "        type TEXT, \n",
    "        PRIMARY KEY(id,key,type));\"\"\", \\\n",
    "        \"\"\"CREATE TABLE Node_Tags ( \n",
    "        id INT REFERENCES Nodes, \n",
    "        key TEXT, \n",
    "        value TEXT, \n",
    "        type TEXT, \n",
    "        PRIMARY KEY(id,key,type));\"\"\", \\\n",
    "        \"\"\"CREATE TABLE Relation_Members( \n",
    "        id INT REFERENCES Relations, \n",
    "        member_id INT, \n",
    "        role TEXT, \n",
    "        type TEXT, \n",
    "        position INT, \n",
    "        PRIMARY KEY(id,member_id,position));\"\"\", \\\n",
    "        \"\"\"CREATE TABLE Relation_tags( \n",
    "        id INT REFERENCES Relations, \n",
    "        key TEXT, \n",
    "        value TEXT, \n",
    "        type TEXT, \n",
    "        PRIMARY KEY(id,key,type));\"\"\"]\n"
   ]
  },
  {
   "cell_type": "code",
   "execution_count": 3,
   "metadata": {
    "collapsed": true
   },
   "outputs": [],
   "source": [
    "def UnicodeDictReader(utf8_data, **kwargs):\n",
    "    csv_reader = csv.DictReader(utf8_data, **kwargs)\n",
    "    for row in csv_reader:\n",
    "        yield {key: unicode(value, 'utf-8') for key, value in row.iteritems()}"
   ]
  },
  {
   "cell_type": "code",
   "execution_count": 4,
   "metadata": {
    "collapsed": false
   },
   "outputs": [
    {
     "name": "stdout",
     "output_type": "stream",
     "text": [
      "done\n"
     ]
    }
   ],
   "source": [
    "## Execute the CREATE TABLE statements for the database\n",
    "\n",
    "with sq3.connect(DBNAME) as conn:\n",
    "    for sql in TCSQL:\n",
    "        conn.execute(sql)\n",
    "print 'done'"
   ]
  },
  {
   "cell_type": "code",
   "execution_count": 5,
   "metadata": {
    "collapsed": false
   },
   "outputs": [],
   "source": [
    "## Create the dictionary of csv files and SQL INSERT statements:\n",
    "populate_tables = dict(zip(CSVFILES,INSQL))\n"
   ]
  },
  {
   "cell_type": "code",
   "execution_count": 6,
   "metadata": {
    "collapsed": false
   },
   "outputs": [
    {
     "name": "stdout",
     "output_type": "stream",
     "text": [
      "done\n"
     ]
    }
   ],
   "source": [
    "## Read each csv file and insert values into appropriate table in SQLite DB file.\n",
    "with sq3.connect(DBNAME) as conn:\n",
    "    cur = conn.cursor()\n",
    "    for csvfile in populate_tables.keys():\n",
    "        with open (csvfile, 'rb') as infile:\n",
    "            csv_reader = UnicodeDictReader(infile)\n",
    "            cur.executemany(populate_tables[csvfile], csv_reader)\n",
    "            conn.commit()\n",
    "print \"done\"    "
   ]
  },
  {
   "cell_type": "code",
   "execution_count": null,
   "metadata": {
    "collapsed": true
   },
   "outputs": [],
   "source": []
  }
 ],
 "metadata": {
  "kernelspec": {
   "display_name": "Python [Root]",
   "language": "python",
   "name": "Python [Root]"
  },
  "language_info": {
   "codemirror_mode": {
    "name": "ipython",
    "version": 2
   },
   "file_extension": ".py",
   "mimetype": "text/x-python",
   "name": "python",
   "nbconvert_exporter": "python",
   "pygments_lexer": "ipython2",
   "version": "2.7.11"
  }
 },
 "nbformat": 4,
 "nbformat_minor": 0
}
