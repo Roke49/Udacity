{
 "cells": [
  {
   "cell_type": "code",
   "execution_count": 2,
   "metadata": {
    "collapsed": false
   },
   "outputs": [],
   "source": [
    "import sqlite3 as sq3\n",
    "import numpy as np\n",
    "import pandas as pd\n",
    "import matplotlib.pyplot as plt\n",
    "import seaborn as sb\n",
    "#%matplotlib inline"
   ]
  },
  {
   "cell_type": "code",
   "execution_count": 3,
   "metadata": {
    "collapsed": true
   },
   "outputs": [],
   "source": [
    "DBNAME = \"Gold_Country_OSM2.db\"\n",
    "FETCH_ONE = 0\n",
    "FETCH_ALL = 1\n",
    "PHYSICAL_FEATURE_TAGS = ['shop','amenity','waterway','power','aerialway','man_made', \\\n",
    "                       'boundary','highway','barrier','leisure','historic','tourism',\\\n",
    "                       'building','traffic_calming','natural','aeroway','place', \\\n",
    "                       'railway','landuse','city','emergency','manhole','office']\n",
    "\n",
    "## convert the PHYSICAL_FEATURE_TAGS list into a string for use in SQL queries\n",
    "pfs = \"'\" + PHYSICAL_FEATURE_TAGS[0] + \"'\"\n",
    "for tag in PHYSICAL_FEATURE_TAGS[1:]:\n",
    "    pfs = pfs + \",'\" + tag + \"'\""
   ]
  },
  {
   "cell_type": "code",
   "execution_count": 4,
   "metadata": {
    "collapsed": true
   },
   "outputs": [],
   "source": [
    "## function to run one SQLite query and return either one row, or all of the result set\n",
    "def run_sql(SQL, dbname=DBNAME, fetch=FETCH_ALL, params = None):\n",
    "    with sq3.connect(dbname) as conn:\n",
    "        cur = conn.cursor()\n",
    "        if params == None:\n",
    "            cur.execute(SQL)\n",
    "        else:\n",
    "            cur.execute(SQL, params)\n",
    "        if fetch == FETCH_ALL:\n",
    "            data = cur.fetchall()\n",
    "            return data\n",
    "        elif fetch == FETCH_ONE:\n",
    "            data = cur.fetchone()\n",
    "            return data"
   ]
  },
  {
   "cell_type": "code",
   "execution_count": 5,
   "metadata": {
    "collapsed": false
   },
   "outputs": [
    {
     "name": "stdout",
     "output_type": "stream",
     "text": [
      "There are 622831 nodes in the database.\n",
      "There are 42604 ways in the database.\n",
      "There are 174 relations in the database.\n",
      "There are 458 users in the database.\n"
     ]
    }
   ],
   "source": [
    "# Repeat count of nodes, ways, relations, and users.\n",
    "TABLE_NAMES = ['nodes','ways','relations','users']\n",
    "for table_name in TABLE_NAMES:\n",
    "    tally = run_sql(\"SELECT COUNT(*) FROM \" + table_name +\"\", fetch=FETCH_ONE)\n",
    "    print \"There are\", tally[0], table_name,\"in the database.\""
   ]
  },
  {
   "cell_type": "code",
   "execution_count": 45,
   "metadata": {
    "collapsed": false
   },
   "outputs": [
    {
     "name": "stdout",
     "output_type": "stream",
     "text": [
      "41898 ways with tags.\n",
      "5713 with with identified tagging errors.\n",
      "Approximately 13.64 percent of ways have identified tagging errors.\n",
      "2160 no-name, TIGER-upload ways tagged as highway=residential.\n",
      "Assuming half of these are erroneous in some way, the error rate in the ways table\n",
      "could be as high as 16.21 percent.\n"
     ]
    }
   ],
   "source": [
    "# What fraction of tagged ways had identified tagging errors:\n",
    "SQL = \"SELECT COUNT (DISTINCT id) FROM Way_Tags;\"\n",
    "Total_Ways = run_sql(SQL, fetch=FETCH_ONE)[0]\n",
    "print Total_Ways, \"ways with tags.\"\n",
    "SQL = \"SELECT COUNT (DISTINCT id) FROM Way_Tags WHERE key='error_corrected';\"\n",
    "Error_Ways = run_sql(SQL, fetch=FETCH_ONE)[0]\n",
    "print Error_Ways, \"with with identified tagging errors.\"\n",
    "Tag_Error_Percent = float(Error_Ways) * 100 / Total_Ways\n",
    "print \"Approximately %2.2f percent of ways have identified tagging errors.\" % Tag_Error_Percent\n",
    "\n",
    "## Many of the TIGER ways be 'junk' data also.  As far as I can tell they would need to be reviewed\n",
    "## by on-the-ground mapping to know if they even really exist.\n",
    "SQL = \"SELECT COUNT(DISTINCT id) from Way_tags WHERE type = 'tiger' AND id NOT IN \\\n",
    "    (SELECT DISTINCT id from Way_tags WHERE key = 'name') AND id IN \\\n",
    "    (SELECT DISTINCT id from Way_tags WHERE key='highway' AND value='residential')\"\n",
    "No_name_TIGER_Ways = run_sql(SQL, fetch=FETCH_ONE)[0]\n",
    "print No_name_TIGER_Ways, \"no-name, TIGER-upload ways tagged as highway=residential.\"\n",
    "print \"Assuming half of these are erroneous in some way, the error rate in the ways table\"\n",
    "Total_Error_Percent = float(Error_Ways + No_name_TIGER_Ways/2) * 100 / Total_Ways\n",
    "print \"could be as high as %2.2f percent.\" % Total_Error_Percent"
   ]
  },
  {
   "cell_type": "code",
   "execution_count": 46,
   "metadata": {
    "collapsed": false
   },
   "outputs": [
    {
     "name": "stdout",
     "output_type": "stream",
     "text": [
      "There are 3627 nodes in the database which are not part of a way.\n",
      "255 nodes were found to have tagging errors (all non-way nodes).\n",
      "For a tagging error rate of 7.03 percent.\n"
     ]
    }
   ],
   "source": [
    "# How many nodes are not part of a way, and should therefore indicate, independently, a primary\n",
    "# map feature?  All of the nodes I identified as being incorrectly, or incompletely tagged were\n",
    "# from this group.\n",
    "SQL = \"SELECT COUNT(*) from Nodes WHERE Nodes.id NOT IN \\\n",
    "    (SELECT DISTINCT node_id FROM Way_Nodes)\"\n",
    "Not_Way_Nodes = run_sql(SQL, fetch=FETCH_ONE)[0]\n",
    "print \"There are\", Not_Way_Nodes, \"nodes in the database which are not part of a way.\"\n",
    "# How many nodes, not part of a way, were identified to have tagging errors?\n",
    "SQL = \"SELECT COUNT(Nodes.id) FROM Nodes JOIN Node_Tags on nodes.id = node_tags.id WHERE \\\n",
    "    node_tags.key='error_corrected' AND Nodes.id NOT IN \\\n",
    "    (SELECT DISTINCT node_id from Way_nodes)\"\n",
    "Tag_Error_Nodes = run_sql(SQL, fetch=FETCH_ONE)[0]\n",
    "print Tag_Error_Nodes, \"nodes were found to have tagging errors (all non-way nodes).\"\n",
    "print \"For a tagging error rate of %2.2f percent.\" % (float(Tag_Error_Nodes) *100/Not_Way_Nodes)"
   ]
  },
  {
   "cell_type": "code",
   "execution_count": 47,
   "metadata": {
    "collapsed": false
   },
   "outputs": [
    {
     "name": "stdout",
     "output_type": "stream",
     "text": [
      "                  w_All  w_Tiger  w_NonT\n",
      "leni2016           6748      8.0  6740.0\n",
      "balrog-kun         6248   6242.0     6.0\n",
      "T99                3324    768.0  2556.0\n",
      "DaveHansenTiger    3213   3213.0     0.0\n",
      "nmixter            2578     83.0  2495.0\n",
      "Charles_Smothers   1973    740.0  1233.0\n",
      "RaquelFish09       1782      0.0  1782.0\n",
      "AndrewSnow         1372   1121.0   251.0\n",
      "tjstansell         1188     46.0  1142.0\n",
      "CFish_007          1154      4.0  1150.0\n",
      "\n",
      "Mode for each column:\n",
      "   w_All  w_Tiger  w_NonT\n",
      "0      1      1.0     1.0\n"
     ]
    }
   ],
   "source": [
    "## How many different users in the Ways table, and how many elements did each contribute?\n",
    "## Get result for the entire Ways table, then split into ways from the TIGER upload and those\n",
    "## which are not tagged as being from TIGER dataset.\n",
    "all_user_data = run_sql(\"SELECT users.user, COUNT (ways.id) as way_ct FROM Users JOIN Ways \\\n",
    "    ON Users.uid = Ways.uid GROUP BY user \\\n",
    "    ORDER BY way_ct DESC\", fetch = FETCH_ALL)\n",
    "tiger_user_data = run_sql(\"SELECT users.user, COUNT(DISTINCT ways.id) as way_ct FROM Users JOIN \\\n",
    "    Ways ON Users.uid = Ways.uid JOIN \\\n",
    "    Way_tags on ways.id = way_tags.id WHERE Way_tags.type = 'tiger' \\\n",
    "    GROUP BY user ORDER BY way_ct DESC\", fetch = FETCH_ALL)\n",
    "non_tiger_user_data = run_sql(\"SELECT users.user, COUNT(Ways.id) as Way_Ct FROM Users JOIN Ways \\\n",
    "    ON Users.uid = Ways.uid \\\n",
    "    WHERE Ways.id NOT IN (SELECT DISTINCT ways.id FROM Ways JOIN \\\n",
    "    Way_tags on ways.id = way_tags.id WHERE Way_tags.type = 'tiger') \\\n",
    "    GROUP BY USER ORDER BY Way_Ct DESC\", fetch=FETCH_ALL)\n",
    "\n",
    "df_all = pd.DataFrame.from_records(all_user_data,columns=['User_Name','w_All'], \\\n",
    "                                   index='User_Name')\n",
    "df_tiger = pd.DataFrame.from_records(tiger_user_data,columns=['User_Name','w_Tiger'], \\\n",
    "                                     index='User_Name')\n",
    "df_non = pd.DataFrame.from_records(non_tiger_user_data, columns=['User_Name','w_NonT'],\\\n",
    "                                   index='User_Name')\n",
    "df_list = [df_all,df_tiger, df_non]\n",
    "df_total = pd.concat(df_list,axis=1)\n",
    "df_total.sort_values(by=('w_All'), ascending=False, inplace=True)\n",
    "df_modes = df_total.mode()\n",
    "df_total.fillna(value=0, inplace=True)\n",
    "print df_total.head(10)\n",
    "print\n",
    "print \"Mode for each column:\"\n",
    "print df_modes"
   ]
  },
  {
   "cell_type": "code",
   "execution_count": 48,
   "metadata": {
    "collapsed": false
   },
   "outputs": [],
   "source": [
    "df_total[['w_All','w_Tiger','w_NonT']].plot.hist(bins = 50, range=(0,100), title='Number of Edits by User:All Ways')\n",
    "plt.show()"
   ]
  },
  {
   "cell_type": "markdown",
   "metadata": {},
   "source": [
    "This histogram has the same shape regardless of range of values and whether all data, or the subgroups plotted.  There's a suggestion of a bump around 10-20 edits, but given the small numbers hard to say this looks significant.  In all cases the largest group of users is those with only one edit!  "
   ]
  },
  {
   "cell_type": "code",
   "execution_count": 49,
   "metadata": {
    "collapsed": false
   },
   "outputs": [
    {
     "name": "stdout",
     "output_type": "stream",
     "text": [
      "154\n"
     ]
    }
   ],
   "source": [
    "## Examine user data from the Nodes table.  Limit analysis to nodes which are not part of ways.\n",
    "\n",
    "Node_user_data = run_sql(\"SELECT users.user, COUNT(Nodes.id) as Node_ct from Nodes JOIN Users ON \\\n",
    "    Nodes.uid = Users.uid WHERE \\\n",
    "    Nodes.id NOT IN (SELECT DISTINCT node_id from Way_Nodes) GROUP BY user \\\n",
    "    ORDER BY Node_ct DESC\", fetch=FETCH_ALL)\n",
    "\n",
    "print len(Node_user_data)\n"
   ]
  },
  {
   "cell_type": "code",
   "execution_count": 50,
   "metadata": {
    "collapsed": false
   },
   "outputs": [
    {
     "name": "stdout",
     "output_type": "stream",
     "text": [
      "           Edit_Count\n",
      "User_Name            \n",
      "T99              1451\n",
      "iandees           400\n",
      "amillar           318\n",
      "nmixter           196\n",
      "davidearl         184\n",
      "\n",
      "Mode is:\n",
      "   Edit_Count\n",
      "0           1\n"
     ]
    }
   ],
   "source": [
    "df_node_user = pd.DataFrame.from_records(Node_user_data, columns=['User_Name','Edit_Count'], \\\n",
    "                                        index='User_Name')\n",
    "print df_node_user.head()\n",
    "print\n",
    "print \"Mode is:\"\n",
    "print df_node_user.mode()"
   ]
  },
  {
   "cell_type": "code",
   "execution_count": 51,
   "metadata": {
    "collapsed": false
   },
   "outputs": [],
   "source": [
    "df_node_user.plot.hist (bins=50, range=(0,100),title=\"Nodes Not In Ways: Edit Count by User\")\n",
    "plt.show()"
   ]
  },
  {
   "cell_type": "code",
   "execution_count": 52,
   "metadata": {
    "collapsed": false
   },
   "outputs": [
    {
     "name": "stdout",
     "output_type": "stream",
     "text": [
      "aeroway : 23\n",
      "amenity : 807\n",
      "barrier : 36\n",
      "building : 992\n",
      "city : 89\n",
      "emergency : 20\n",
      "highway : 102\n",
      "historic : 15\n",
      "landuse : 306\n",
      "leisure : 99\n",
      "man_made : 90\n",
      "manhole : 9\n",
      "natural : 227\n",
      "office : 8\n",
      "place : 420\n",
      "power : 72\n",
      "railway : 21\n",
      "shop : 160\n",
      "tourism : 107\n",
      "traffic_calming : 2\n",
      "waterway : 88\n"
     ]
    }
   ],
   "source": [
    "## Count the number of times each tag in the PRIMARY_FEATURE_TAGS (pfs) list is used in the Nodes\n",
    "## table for nodes which are not part of a way.\n",
    "SQL = \"SELECT Node_tags.key, COUNT (*) FROM Node_Tags WHERE Node_tags.key IN (\" + pfs + \") AND \\\n",
    "    Node_tags.id NOT IN (SELECT DISTINCT node_id from Way_Nodes) \\\n",
    "    GROUP BY Node_Tags.key;\"\n",
    "data = run_sql(SQL, fetch=FETCH_ALL)\n",
    "for datum in data:\n",
    "    print datum[0], \":\", datum[1]"
   ]
  },
  {
   "cell_type": "code",
   "execution_count": 53,
   "metadata": {
    "collapsed": false
   },
   "outputs": [
    {
     "name": "stdout",
     "output_type": "stream",
     "text": [
      "          Nodes  Node_Types  Ways  Way_Types  Total\n",
      "Tag_Name                                           \n",
      "amenity     824          53   499         32   1323\n",
      "building    995          10  5859         18   6854\n",
      "historic     15           6    10          2     25\n",
      "leisure     106           8  1499         15   1605\n",
      "office        8           4     1          1      9\n",
      "railway     130           7   158          8    288\n",
      "shop        161          52    29         13    190\n",
      "man_made     93          13  2181         11   2274\n",
      "tourism     111           9    16         11    127\n"
     ]
    }
   ],
   "source": [
    "# Look more closely at the features which probably represent building or other \n",
    "# sites of interest: amenity, building, historic, leisure, man_made, office, \n",
    "# railway, shop, and tourism.\n",
    "SELECT_TAGS = ['amenity', 'building', 'historic','leisure','office', \\\n",
    "              'railway','shop','man_made','tourism']\n",
    "SQL = \"SELECT value, COUNT(*) from Node_Tags WHERE key = ?  GROUP BY value\"\n",
    "Node_tag_values = []\n",
    "for tag in SELECT_TAGS:\n",
    "    #print tag, \":\"\n",
    "    data = run_sql(SQL, params=(tag,), fetch=FETCH_ALL)\n",
    "    ct = 0\n",
    "    for datum in data:\n",
    "        #print \"\\t\", datum[0], \":\", datum[1]\n",
    "        ct += datum[1]\n",
    "    #print ct, \"total node tags of this type.\"\n",
    "    #print \"Total\", len(data),  \"different '\"+tag+\"' types.\\n\"\n",
    "    Node_tag_values.append({'Tag_Name':tag,'Nodes':ct,'Node_Types':len(data)})\n",
    "\n",
    "df_node_tv = pd.DataFrame(Node_tag_values)\n",
    "df_node_tv.set_index(['Tag_Name'], inplace=True)\n",
    "\n",
    "SQL = \"SELECT value, COUNT(*) from Way_Tags WHERE key = ?  GROUP BY value\"\n",
    "Way_tag_values = []\n",
    "for tag in SELECT_TAGS:\n",
    "    #print tag, \":\"\n",
    "    data = run_sql(SQL, params=(tag,), fetch=FETCH_ALL)\n",
    "    ct = 0\n",
    "    for datum in data:\n",
    "        #print \"\\t\", datum[0], \":\", datum[1]\n",
    "        ct += datum[1]\n",
    "    #print ct, \"total way tags of this type.\"\n",
    "    #print \"Total\", len(data),  \"different '\"+tag+\"' types.\\n\"\n",
    "    Way_tag_values.append({'Tag_Name':tag,'Ways':ct,'Way_Types':len(data)})\n",
    "\n",
    "df_way_tv = pd.DataFrame(Way_tag_values)\n",
    "df_way_tv.set_index(['Tag_Name'], inplace=True)\n",
    "\n",
    "frames = [df_node_tv, df_way_tv]\n",
    "df_all_tv = pd.concat(frames, axis=1)\n",
    "\n",
    "cols = ['Nodes','Node_Types','Ways','Way_Types']\n",
    "df_all_tv = df_all_tv[cols]\n",
    "\n",
    "df_all_tv['Total'] = df_all_tv['Nodes'] + df_all_tv['Ways']\n",
    "print df_all_tv"
   ]
  }
 ],
 "metadata": {
  "anaconda-cloud": {},
  "kernelspec": {
   "display_name": "Python [Root]",
   "language": "python",
   "name": "Python [Root]"
  },
  "language_info": {
   "codemirror_mode": {
    "name": "ipython",
    "version": 2
   },
   "file_extension": ".py",
   "mimetype": "text/x-python",
   "name": "python",
   "nbconvert_exporter": "python",
   "pygments_lexer": "ipython2",
   "version": "2.7.11"
  }
 },
 "nbformat": 4,
 "nbformat_minor": 0
}
