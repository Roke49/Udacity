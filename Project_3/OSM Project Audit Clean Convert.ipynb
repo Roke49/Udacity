{
 "cells": [
  {
   "cell_type": "code",
   "execution_count": 2,
   "metadata": {
    "collapsed": false
   },
   "outputs": [],
   "source": [
    "# import sqlite3 as sq\n",
    "# import pandas as pd\n",
    "import xml.etree.cElementTree as ET\n",
    "import re\n",
    "import codecs\n",
    "import csv\n",
    "from pprint import pprint\n",
    "from collections import defaultdict\n",
    "import codecs\n",
    "# import cerberus"
   ]
  },
  {
   "cell_type": "code",
   "execution_count": 3,
   "metadata": {
    "collapsed": false
   },
   "outputs": [],
   "source": [
    "# global constants and regular expressions\n",
    "SAMPLE_FILE = \"sample.osm\"\n",
    "OSMFILE = \"sample_for_submission.osm\"\n",
    "KNOWN_WAY_TYPES = [\"highway\",\"power\",\"waterway\",\"railway\",\"boundary\",\"aeroway\",\"barrier\", \\\n",
    "                   \"man_made\",\"natural\",\"leisure\",\"building\",\"amenity\", \\\n",
    "                  \"landuse\",\"historic\",\"tourism\", \"shop\", \"place\",\"aerialway\"]\n",
    "KNOWN_NODE_TYPES = ['building','shop','amenity','power','highway','place','natural',\\\n",
    "                   'landuse','leisure','waterway','barrier','railway','man_made',\\\n",
    "                   'tourism','aeroway','historic','traffic_calming','FIXME','fixme',\\\n",
    "                   'disused','disused:amenity','created_by','note']\n",
    "EXPECTED_STREET_TYPES = [\"Street\", \"Avenue\",\"Road\",\"Boulevard\",\"Circle\",\"Court\",\"Place\", \\\n",
    "                         \"Lane\",\"Drive\",\"Trail\",\"Loop\", \"Way\", \"Parkway\", \"Highway\", \"Alley\",\\\n",
    "                        \"Terrace\",\"Freeway\",\"Path\",\"Close\",\"Square\", \"Heights\", \\\n",
    "                        \"Crossing\", \"Hill\", \"Bridge\",\"Point\",\"Ridge\", \"Causeway\",\"Ravine\", \\\n",
    "                        \"Creek\", \"Run\",\"Vista\",\"View\"]\n",
    "KNOWN_STREET_ABBR = [\"St\",\"St.\",\"Rd\",\"Rd.\",\"rd\",\"rd.\",\"Cir\",\"Cir.\",\"Ct\",\"Ct.\",\"Crt\",\"Dr\",\"Dr.\", \\\n",
    "                     \"Pkwy\",\"Pkwy.\",\"Pl\",\"Pl.\",\"L\",\"Ln.\",\"Ln\", \"Ave.\",\"Ave\"]\n",
    "STREET_ABBR_EQUIV = [\"Street\",\"Street\",\"Road\",\"Road\",\"Road\",\"Road\",\"Circle\",\"Circle\",\\\n",
    "                    \"Court\",\"Court\",\"Court\",\"Drive\",\"Drive\",\"Parkway\",\"Parkway\",\"Place\",\"Place\",\\\n",
    "                    \"Lane\",\"Lane\",\"Lane\",\"Avenue\",\"Avenue\"]\n",
    "HIGHWAYS_NOT_ROADS = [\"access\",\"path\",\"trail\", \"footway\", \\\n",
    "                      \"cycleway\",\"rest_area\",\"motorway_link\",\"trunk_link\", \"primary_link\", \\\n",
    "                     \"secondary_link\",\"tertiary_link\",\"living_street\",\"proposed\",\"pedestrian\", \\\n",
    "                     \"construction\",\"steps\",\"escape\",\"raceway\",\"track\",\"road\"]\n",
    "DIRECTION_WORDS = [\"North\", \"South\", \"East\", \"West\"]\n",
    "TAGGED_NODES_FILE = \"tagged_nodes.osm\"\n",
    "UNTAGGED_NODES_FILE = \"untagged_nodes.osm\"\n",
    "CULLED_FILE = \"culled_elements.osm\"\n",
    "KEY_REVIEW_FILE = \"key_to_review.osm\"\n",
    "\n",
    "# Make sure the fields order in the csvs matches the column order in the sql table schema\n",
    "NODE_FIELDS = ['id', 'lat', 'lon', 'user', 'uid', 'version', 'changeset', 'timestamp']\n",
    "NODE_TAGS_FIELDS = ['id', 'key', 'value', 'type']\n",
    "WAY_FIELDS = ['id', 'user', 'uid', 'version', 'changeset', 'timestamp']\n",
    "WAY_TAGS_FIELDS = ['id', 'key', 'value', 'type']\n",
    "WAY_NODES_FIELDS = ['id', 'node_id', 'position']\n",
    "RELATION_FIELDS = ['id','user','uid','version','changeset','timestamp']\n",
    "RELATION_MEMBERS_FIELDS=['id','member_id','role','type','position']\n",
    "RELATION_TAGS_FIELDS = ['id','key','value','type']\n",
    "USER_FIELDS = ['uid','user']\n",
    "\n",
    "ST_NOT_PARSED = 0\n",
    "ST_GOOD = 1\n",
    "ST_FIRST = 2\n",
    "ST_ONE_WORD = 3\n",
    "ST_UNKNOWN = 4\n",
    "re_addr = re.compile(r'^addr:')\n",
    "re_probchars = re.compile(r'[=\\+/&<>;\\'\"\\?%#$@\\,\\. \\t\\r\\n]')\n",
    "re_lowercolon = re.compile(r'^([a-z]|_)+:([a-z]|_)+')\n",
    "re_highway = re.compile(r'^highway')\n",
    "re_street_type = re.compile(r'\\b\\S+\\.?$', re.IGNORECASE)\n",
    "re_tiger = re.compile(r'^tiger:')\n",
    "re_stfirst = re.compile(r'Camino|Calle|Vista|Via|Piazza|Avenue|Rue')\n",
    "re_last2or1 = re.compile(r'\\b([a-z0-9_-]+\\.?)\\s+([a-z0-9_-]+\\.?)$|[a-z0-9_-]+\\.?$',re.IGNORECASE)\n",
    "re_inter = re.compile(r'[@&]')\n",
    "re_postcode = re.compile(r'\\d\\d\\d\\d\\d-\\d\\d\\d\\d$|\\d\\d\\d\\d\\d$')"
   ]
  },
  {
   "cell_type": "code",
   "execution_count": 4,
   "metadata": {
    "collapsed": false
   },
   "outputs": [
    {
     "name": "stdout",
     "output_type": "stream",
     "text": [
      "aerialway\n",
      "aeroway\n",
      "amenity\n",
      "barrier\n",
      "boundary\n",
      "building\n",
      "city\n",
      "emergency\n",
      "highway\n",
      "historic\n",
      "landuse\n",
      "leisure\n",
      "man_made\n",
      "manhole\n",
      "natural\n",
      "office\n",
      "place\n",
      "power\n",
      "railway\n",
      "shop\n",
      "tourism\n",
      "traffic_calming\n",
      "waterway\n"
     ]
    }
   ],
   "source": [
    "PHYSICAL_FEATURE_TAGS = ['shop','amenity','waterway','power','aerialway','man_made', \\\n",
    "                       'boundary','highway','barrier','leisure','historic','tourism',\\\n",
    "                       'building','traffic_calming','natural','aeroway','place', \\\n",
    "                       'railway','landuse','emergency','office','manhole','city']\n",
    "OTHER_PRIMARY_TAGS = ['created_by','note','FIXME','fixme','disused','disused:amenity']\n",
    "\n",
    "for tag in sorted(PHYSICAL_FEATURE_TAGS):\n",
    "    print tag"
   ]
  },
  {
   "cell_type": "markdown",
   "metadata": {},
   "source": [
    "All of the above appear in the top level table of contents of OSM primary map features article, accept traffic_calming.  The article on key:traffic_calming indicates this may be added to a node on a highway, so one could check that all nodes with this key are in fact part of a way tagged as highway."
   ]
  },
  {
   "cell_type": "code",
   "execution_count": 5,
   "metadata": {
    "collapsed": false
   },
   "outputs": [],
   "source": [
    "# The schema for the way, nodes, and relation data files:\n",
    "\n",
    "SCHEMA = {\n",
    "    'node': {\n",
    "        'type': 'dict',\n",
    "        'schema': {\n",
    "            'id': {'required': True, 'type': 'integer', 'coerce': int},\n",
    "            'lat': {'required': True, 'type': 'float', 'coerce': float},\n",
    "            'lon': {'required': True, 'type': 'float', 'coerce': float},\n",
    "            'user': {'required': True, 'type': 'string'},\n",
    "            'uid': {'required': True, 'type': 'integer', 'coerce': int},\n",
    "            'version': {'required': True, 'type': 'string'},\n",
    "            'changeset': {'required': True, 'type': 'integer', 'coerce': int},\n",
    "            'timestamp': {'required': True, 'type': 'string'}\n",
    "        }\n",
    "    },\n",
    "    'node_tags': {\n",
    "        'type': 'list',\n",
    "        'schema': {\n",
    "            'type': 'dict',\n",
    "            'schema': {\n",
    "                'id': {'required': True, 'type': 'integer', 'coerce': int},\n",
    "                'key': {'required': True, 'type': 'string'},\n",
    "                'value': {'required': True, 'type': 'string'},\n",
    "                'type': {'required': True, 'type': 'string'}\n",
    "            }\n",
    "        }\n",
    "    },\n",
    "    'way': {\n",
    "        'type': 'dict',\n",
    "        'schema': {\n",
    "            'id': {'required': True, 'type': 'integer', 'coerce': int},\n",
    "            'user': {'required': True, 'type': 'string'},\n",
    "            'uid': {'required': True, 'type': 'integer', 'coerce': int},\n",
    "            'version': {'required': True, 'type': 'string'},\n",
    "            'changeset': {'required': True, 'type': 'integer', 'coerce': int},\n",
    "            'timestamp': {'required': True, 'type': 'string'}\n",
    "        }\n",
    "    },\n",
    "    'way_nodes': {\n",
    "        'type': 'list',\n",
    "        'schema': {\n",
    "            'type': 'dict',\n",
    "            'schema': {\n",
    "                'id': {'required': True, 'type': 'integer', 'coerce': int},\n",
    "                'node_id': {'required': True, 'type': 'integer', 'coerce': int},\n",
    "                'position': {'required': True, 'type': 'integer', 'coerce': int}\n",
    "            }\n",
    "        }\n",
    "    },\n",
    "    'way_tags': {\n",
    "        'type': 'list',\n",
    "        'schema': {\n",
    "            'type': 'dict',\n",
    "            'schema': {\n",
    "                'id': {'required': True, 'type': 'integer', 'coerce': int},\n",
    "                'key': {'required': True, 'type': 'string'},\n",
    "                'value': {'required': True, 'type': 'string'},\n",
    "                'type': {'required': True, 'type': 'string', 'required': True}\n",
    "            }\n",
    "        }\n",
    "    },\n",
    "    'relation':{\n",
    "        'type': 'dict',\n",
    "        'schema': {\n",
    "            'id': {'required': True, 'type': 'integer', 'coerce': int},\n",
    "            'user': {'required': True, 'type': 'string'},\n",
    "            'uid': {'required': True, 'type': 'integer', 'coerce': int},\n",
    "            'version': {'required': True, 'type': 'string'},\n",
    "            'changeset': {'required': True, 'type': 'integer', 'coerce': int},\n",
    "            'timestamp': {'required': True, 'type': 'string'}\n",
    "        }\n",
    "    },\n",
    "    'relation_members': {\n",
    "        'type': 'list',\n",
    "        'schema': {\n",
    "            'type': 'dict',\n",
    "            'schema': {\n",
    "                'id': {'required': True, 'type': 'integer', 'coerce': int},\n",
    "                'member_id': {'required': True, 'type': 'integer', 'coerce': int},\n",
    "                'role':{'required':True, 'type':'string'},\n",
    "                'type':{'required':True, 'type':'string'},\n",
    "                'position': {'required': True, 'type': 'integer', 'coerce': int}\n",
    "            }\n",
    "        }\n",
    "    },\n",
    "    'relation_tags': {\n",
    "        'type': 'list',\n",
    "        'schema': {\n",
    "            'type': 'dict',\n",
    "            'schema': {\n",
    "                'id': {'required': True, 'type': 'integer', 'coerce': int},\n",
    "                'key': {'required': True, 'type': 'string'},\n",
    "                'value': {'required': True, 'type': 'string'},\n",
    "                'type': {'required': True, 'type': 'string', 'required': True}\n",
    "            }\n",
    "        }\n",
    "    }\n",
    "}\n"
   ]
  },
  {
   "cell_type": "code",
   "execution_count": 6,
   "metadata": {
    "collapsed": false
   },
   "outputs": [],
   "source": [
    "# Helper functions\n",
    "\n",
    "def get_element(osm_file, tags=('way',)):\n",
    "    \"\"\"Yield element if it is the right type of tag\n",
    "\n",
    "    Reference:\n",
    "    http://stackoverflow.com/questions/3095434/inserting-newlines-in-xml-file-generated-via-xml-etree-elementtree-in-python\n",
    "    \"\"\"\n",
    "    context = iter(ET.iterparse(osm_file, events=('start', 'end')))\n",
    "    _, root = next(context)\n",
    "    for event, elem in context:\n",
    "        if event == 'end' and elem.tag in tags:\n",
    "            yield elem\n",
    "            root.clear()\n",
    "\n",
    "def get_tags(elem):\n",
    "    tag_dict = {}\n",
    "    # Return a dictionary with the key name and value for this element\n",
    "    for t in elem.iter(\"tag\"):\n",
    "        tag_dict[t.get(\"k\")] = t.get(\"v\")\n",
    "    return tag_dict\n",
    "\n",
    "def is_circular(el):\n",
    "# returns whether a way element is circular, ie first and last nd elements are same\n",
    "    node_list = []\n",
    "    for wt in el.iter(\"nd\"):\n",
    "        node_list.append(wt.get(\"ref\"))\n",
    "    return node_list[0] == node_list[len(node_list)-1]\n",
    "\n",
    "def has_tag_elem(el):\n",
    "    tag_dict = get_tags(el)\n",
    "    return len(tag_dict) <> 0\n",
    "\n",
    "\n",
    "def has_addr_tag(el):\n",
    "    tags = get_tags(el)\n",
    "    has_addr = False\n",
    "    for key in tags.keys():\n",
    "        if re_addr.match(key):\n",
    "            has_addr = True\n",
    "            break\n",
    "    return has_addr\n",
    "\n",
    "\n",
    "def is_known_way (el):\n",
    "    known = False\n",
    "    for wt in el.iter(\"tag\"):\n",
    "        key = wt.get(\"k\")\n",
    "        if key in KNOWN_WAY_TYPES:\n",
    "            known = True\n",
    "            break\n",
    "    return known\n",
    "\n",
    "\n",
    "\n",
    "def is_roadway_no_name(elem):\n",
    "    highway = False\n",
    "    has_name = False\n",
    "    for t in elem.iter(\"tag\"):\n",
    "        key = t.get(\"k\")\n",
    "        value = t.get (\"v\")\n",
    "        if key == \"highway\" and value not in HIGHWAYS_NOT_ROADS:\n",
    "                highway = True\n",
    "        if key == \"name\" or key == \"ref\":\n",
    "            has_name = True\n",
    "        \n",
    "    return highway and not has_name\n",
    "\n",
    "def is_tiger_not_reviewed(elem):\n",
    "    tags = get_tags(elem)\n",
    "    return \"tiger:reviewed\" in tags.keys() and tags[\"tiger:reviewed\"] == \"no\"\n",
    "\n",
    "def is_tiger_data(elem):\n",
    "    td = False\n",
    "    tags = get_tags(elem)\n",
    "    for key in tags.keys():\n",
    "        if re_tiger.match(key):\n",
    "            td = True\n",
    "            break\n",
    "    return td\n",
    "\n",
    "def is_named_roadway(elem):\n",
    "    tags = get_tags(elem)\n",
    "    name = \"\"\n",
    "    named = False\n",
    "    roadway = \"highway\" in tags.keys() and tags[\"highway\"] not in HIGHWAYS_NOT_ROADS\n",
    "    if \"name\" in tags.keys():\n",
    "        name = tags[\"name\"]\n",
    "        named = True\n",
    "    elif \"ref\" in tags.keys():\n",
    "        name = tags[\"ref\"]\n",
    "        named = True\n",
    "    return name, roadway and named\n",
    "\n",
    "\n",
    "\n",
    "def parse_road_name(name):\n",
    "    valid_st = ST_NOT_PARSED\n",
    "    street_type = \"\"\n",
    "    ## use regular expressions to parse and return the street type portion of a road name\n",
    "    ## first check to see if the street type comes first\n",
    "    m = re_stfirst.match(name)\n",
    "    if m:\n",
    "        valid_st = ST_FIRST\n",
    "        street_type = m.group()\n",
    "    else:\n",
    "        m = re_last2or1.search(name)\n",
    "        if m:\n",
    "            if None in m.groups():\n",
    "                ## only matched one word, probably not good street type. leave valid_st False\n",
    "                ## return street_type as m.group() to show we did find a match with RE\n",
    "                valid_st = ST_ONE_WORD\n",
    "                street_type = m.group()\n",
    "            else:\n",
    "                if m.group(2) in DIRECTION_WORDS:\n",
    "                    street_type = m.group(1)\n",
    "                else:\n",
    "                    street_type = m.group(2)\n",
    "                if (street_type in EXPECTED_STREET_TYPES) or (street_type in KNOWN_STREET_ABBR):\n",
    "                    valid_st = ST_GOOD\n",
    "                else:\n",
    "                    valid_st = ST_UNKNOWN\n",
    "    return valid_st, street_type\n",
    "            \n",
    "                \n",
    "def is_road(el):\n",
    "    road = False\n",
    "    tags = get_tags(el)\n",
    "    return \"highway\" in tags.keys() and tags[\"highway\"] not in HIGHWAYS_NOT_ROADS\n",
    "\n",
    "def dup_tag_key(el):\n",
    "    keys = []\n",
    "    dup = False\n",
    "    # return true if the element has more than one key with same name\n",
    "    for t in el.iter(\"tag\"):\n",
    "        key = t.get(\"k\")\n",
    "        if key in keys:\n",
    "            dup = True\n",
    "        else:\n",
    "            keys.append(key)\n",
    "    return dup\n",
    "\n",
    "def default_process(el):\n",
    "    return True\n",
    "\n",
    "def OSMSampleFile(output_file=SAMPLE_FILE,input_file=OSMFILE,\\\n",
    "                  get_tags=('way','node'),process_function=default_process, k=1):\n",
    "    write_ct = 0\n",
    "    i = 0\n",
    "    with open(output_file,'wb') as output:\n",
    "        output.write('<?xml version=\"1.0\" encoding=\"UTF-8\"?>\\n')\n",
    "        output.write('<osm>\\n  ')\n",
    "        for element in get_element(input_file,tags=get_tags):\n",
    "            if process_function(element):\n",
    "                i += 1\n",
    "                if i % k == 0:\n",
    "                    output.write(ET.tostring(element,encoding='utf-8'))\n",
    "                    write_ct += 1\n",
    "        output.write('</osm>')\n",
    "    return write_ct"
   ]
  },
  {
   "cell_type": "code",
   "execution_count": 7,
   "metadata": {
    "collapsed": false
   },
   "outputs": [
    {
     "name": "stdout",
     "output_type": "stream",
     "text": [
      "622875 nodes.\n",
      "42629 ways.\n",
      "174 relations.\n"
     ]
    }
   ],
   "source": [
    "# Start with some basic statistics\n",
    "# count number of way, node, and relation elements\n",
    "node_count = 0\n",
    "way_count = 0\n",
    "relation_count = 0\n",
    "for elem in get_element(OSMFILE, tags=('way','node','relation')):\n",
    "    if elem.tag == \"node\":\n",
    "        node_count += 1\n",
    "    elif elem.tag == \"way\":\n",
    "        way_count += 1\n",
    "    elif elem.tag == \"relation\":\n",
    "        relation_count += 1\n",
    "print node_count, \"nodes.\"\n",
    "print way_count, \"ways.\"\n",
    "print relation_count, \"relations.\"\n",
    "    "
   ]
  },
  {
   "cell_type": "code",
   "execution_count": 7,
   "metadata": {
    "collapsed": false
   },
   "outputs": [
    {
     "name": "stdout",
     "output_type": "stream",
     "text": [
      "610354 nodes have no child tags.\n"
     ]
    }
   ],
   "source": [
    "# how many nodes are without additional tags, presumably only used for defining ways\n",
    "node_only = 0\n",
    "for element in get_element(OSMFILE, tags=('node',)):\n",
    "    if not has_tag_elem(element):\n",
    "        node_only +=1\n",
    "print node_only, \"nodes have no child tags.\""
   ]
  },
  {
   "cell_type": "code",
   "execution_count": 14,
   "metadata": {
    "collapsed": false
   },
   "outputs": [
    {
     "name": "stdout",
     "output_type": "stream",
     "text": [
      "731 ways have no associated 'tag' tags.\n"
     ]
    }
   ],
   "source": [
    "## Write an output file for ways with no associated \"tag\" tags, that is they are\n",
    "## just a series of nodes (\"nd\" tags.)\n",
    "\n",
    "def count_ways_no_tags(element):\n",
    "    if not has_tag_elem(element):\n",
    "        return True\n",
    "    else:\n",
    "        return False\n",
    "    \n",
    "ways_no_tags = OSMSampleFile(SAMPLE_FILE,OSMFILE,('way',), count_ways_no_tags,1)\n",
    "\n",
    "print ways_no_tags, \"ways have no associated 'tag' tags.\"\n",
    "## A number of these were examined using the openstreetmap.org ?way=<way id> functionality.\n",
    "## they appear to be parts of boundaries of diffierent entities: parks, districts, etc. They should\n",
    "## be part of a relation, and can be audited once the data is in the SQL database."
   ]
  },
  {
   "cell_type": "code",
   "execution_count": 16,
   "metadata": {
    "collapsed": false
   },
   "outputs": [
    {
     "name": "stdout",
     "output_type": "stream",
     "text": [
      "72 ways of unknown type written to sample file.\n"
     ]
    }
   ],
   "source": [
    "## This code used iteratively to find the various way types, adding to the KNOWN_WAY_TYPES\n",
    "## global constant after reviewing the output file.  As the file gets smaller, reduce the \n",
    "## last parameter indicating fraction to write, finally writing all to the sample file.\n",
    "\n",
    "def count_unknown_ways(element):\n",
    "    tags=get_tags(element)\n",
    "    if len(tags) == 0:\n",
    "        return False\n",
    "    else:\n",
    "        known_wt = False\n",
    "        for tag in tags:\n",
    "            if tag in PHYSICAL_FEATURE_TAGS:\n",
    "                known_wt = True\n",
    "                break\n",
    "        if not known_wt:\n",
    "            return True\n",
    "        else:\n",
    "            return False\n",
    "    \n",
    "write_ct = OSMSampleFile(\"Ways_No_Physical_Feature.osm\",OSMFILE,('way',),count_unknown_ways, 1)\n",
    "\n",
    "print write_ct, \"ways of unknown type written to sample file.\"\n",
    "## Various additional tags need to be added to these, do from SQL side."
   ]
  },
  {
   "cell_type": "code",
   "execution_count": 17,
   "metadata": {
    "collapsed": false
   },
   "outputs": [
    {
     "name": "stdout",
     "output_type": "stream",
     "text": [
      "382 nodes of unknown type written to sample file.\n"
     ]
    }
   ],
   "source": [
    "## Similar process for tagged nodes.  \n",
    "def count_unknown_nodes(element):\n",
    "    tags = get_tags(element)\n",
    "    if len(tags) == 0:\n",
    "        return False\n",
    "    else:\n",
    "        known_nt = False\n",
    "        for tag in tags:\n",
    "            if tag in KNOWN_NODE_TYPES or tag in OTHER_PRIMARY_TAGS:\n",
    "                known_nt = True\n",
    "                break\n",
    "        if not known_nt:\n",
    "            return True\n",
    "        else:\n",
    "            return False\n",
    "\n",
    "write_ct = OSMSampleFile(\"Nodes_No_Physical_Feature\", OSMFILE,('node',),count_unknown_nodes,1)\n",
    "print write_ct, \"nodes of unknown type written to sample file.\"\n",
    "## Again - many need additional tag added.  Do from SQL side."
   ]
  },
  {
   "cell_type": "code",
   "execution_count": 8,
   "metadata": {
    "collapsed": false
   },
   "outputs": [
    {
     "name": "stdout",
     "output_type": "stream",
     "text": [
      "In this dataset there are 17077 closed ways and 25552 open ways.\n"
     ]
    }
   ],
   "source": [
    "# how many ways are open (start and end with different node) and how many closed?\n",
    "closed_ways = 0\n",
    "open_ways = 0\n",
    "for elem in get_element(OSMFILE,tags=('way',)):\n",
    "    if is_circular(elem):\n",
    "        closed_ways += 1\n",
    "    else:\n",
    "        open_ways += 1\n",
    "print \"In this dataset there are\", closed_ways, \"closed ways and\", open_ways, \"open ways.\""
   ]
  },
  {
   "cell_type": "code",
   "execution_count": 19,
   "metadata": {
    "collapsed": false
   },
   "outputs": [
    {
     "name": "stdout",
     "output_type": "stream",
     "text": [
      "highway=* values in the dataset:\n",
      "\tconstruction : 2\n",
      "\tcycleway : 252\n",
      "\tescape : 1\n",
      "\tfootway : 405\n",
      "\tliving_street : 14\n",
      "\tmotorway : 210\n",
      "\tmotorway_link : 285\n",
      "\tpath : 719\n",
      "\tpedestrian : 8\n",
      "\tprimary : 128\n",
      "\tprimary_link : 22\n",
      "\tproposed : 7\n",
      "\traceway : 1\n",
      "\tresidential : 15374\n",
      "\trest_area : 2\n",
      "\troad : 32\n",
      "\tsecondary : 377\n",
      "\tsecondary_link : 28\n",
      "\tservice : 7712\n",
      "\tsteps : 9\n",
      "\ttertiary : 411\n",
      "\ttertiary_link : 16\n",
      "\ttrack : 747\n",
      "\ttrail : 1\n",
      "\ttrunk : 85\n",
      "\ttrunk_link : 11\n",
      "\tunclassified : 288\n",
      "Total highway-tagged ways: 27147\n"
     ]
    }
   ],
   "source": [
    "## list and count the highway=* values in the dataset\n",
    "highway_values = defaultdict(int)\n",
    "total_highways = 0\n",
    "for element in get_element(OSMFILE,tags=('way',)):\n",
    "    tags = get_tags(element)\n",
    "    if \"highway\" in tags:\n",
    "        highway_values[tags[\"highway\"]] += 1\n",
    "        total_highways += 1\n",
    "\n",
    "print \"highway=* values in the dataset:\"\n",
    "for value in sorted(highway_values.keys()):\n",
    "    print \"\\t\", value, \":\", highway_values[value]\n",
    "print \"Total highway-tagged ways:\", total_highways"
   ]
  },
  {
   "cell_type": "markdown",
   "metadata": {},
   "source": [
    "Comparing this list to the key:highway documentation in the OSM wiki, it appears that the following are highway types which could, or should be named roads: motorway, trunk, primary, secondary, tertiary, unclassified, residential, road, and service.  Ways tagged highway=track could also be named roads.  "
   ]
  },
  {
   "cell_type": "code",
   "execution_count": 20,
   "metadata": {
    "collapsed": false
   },
   "outputs": [
    {
     "name": "stdout",
     "output_type": "stream",
     "text": [
      "motorway : 210 named: 210\n",
      "primary : 128 named: 126\n",
      "residential : 15374 named: 12912\n",
      "secondary : 377 named: 373\n",
      "service : 7712 named: 428\n",
      "tertiary : 411 named: 391\n",
      "trunk : 85 named: 83\n",
      "unclassified : 288 named: 265\n"
     ]
    }
   ],
   "source": [
    "## Get all of the highway= type tags which could, or should, be roads\n",
    "## and count them and how many have names.\n",
    "highway_types = defaultdict(int)\n",
    "named_hw_types = defaultdict(int)\n",
    "i = 0\n",
    "named_ct = 0\n",
    "for element in get_element(OSMFILE,tags=('way',)):\n",
    "    tags=get_tags(element)\n",
    "    if \"highway\" in tags.keys() and tags[\"highway\"] not in HIGHWAYS_NOT_ROADS:\n",
    "        highway_types[tags[\"highway\"]] += 1\n",
    "        if \"name\" in tags.keys():\n",
    "            named_hw_types[tags[\"highway\"]] += 1\n",
    "        elif \"ref\" in tags.keys():\n",
    "            named_hw_types[tags[\"highway\"]] += 1\n",
    "        \n",
    "\n",
    "for ht in sorted(highway_types.keys()):\n",
    "    print ht, \":\", highway_types[ht], \"named:\", named_hw_types[ht]\n",
    "    "
   ]
  },
  {
   "cell_type": "markdown",
   "metadata": {},
   "source": [
    "Leaving aside the 2,000+ unnamed residential highways, what's going on with the primary, secondary, tertiary, and unclassified roads with no name?  Pull them and write them out to a file for inspection."
   ]
  },
  {
   "cell_type": "code",
   "execution_count": 21,
   "metadata": {
    "collapsed": false
   },
   "outputs": [
    {
     "name": "stdout",
     "output_type": "stream",
     "text": [
      "49 ways tagged highway=<big road> have no name.\n"
     ]
    }
   ],
   "source": [
    "## Write out the way elements, tagged has highway=primary,secondary,tertiary,unclassified and\n",
    "## have no name or ref tag\n",
    "def unnamed_big_roads(el):\n",
    "    tags = get_tags(el)\n",
    "    if \"highway\" not in tags:\n",
    "        return False\n",
    "    else:\n",
    "        if tags['highway'] not in ['primary','secondary','tertiary','unclassified']:\n",
    "            return False\n",
    "        else:\n",
    "            if \"name\" in tags.keys() or \"ref\" in tags.keys():\n",
    "                return False\n",
    "            else:\n",
    "                return True\n",
    "\n",
    "write_ct = OSMSampleFile(\"Big_Roads_No_Name.osm\", OSMFILE,('way',),unnamed_big_roads,1)\n",
    "print write_ct, \"ways tagged highway=<big road> have no name.\""
   ]
  },
  {
   "cell_type": "markdown",
   "metadata": {},
   "source": [
    "Looking at a few of these, it looks like they are mistakes (using highway=residential to tag what looks like a driveway), or refer to bits of named roads which might better be tagged as some type of\n",
    "link.  Or highway=tertiary for roads in shopping centers where highway=service would be more accurate.  It might be possible to organize them according to user, look at them visually on the map, and correct them in the SQL database."
   ]
  },
  {
   "cell_type": "code",
   "execution_count": 22,
   "metadata": {
    "collapsed": false
   },
   "outputs": [
    {
     "name": "stdout",
     "output_type": "stream",
     "text": [
      "24 elements written to SAMPLE_FILE\n"
     ]
    }
   ],
   "source": [
    "## Look at a sample of the highway=residential elements to see if there is pattern to why these\n",
    "## don't have names\n",
    "def unnamed_residential_roads(el):\n",
    "    tags = get_tags(el)\n",
    "    if \"highway\" in tags and tags[\"highway\"] == \"residential\":\n",
    "        if \"name\" not in tags:\n",
    "            return True\n",
    "        else:\n",
    "            return False\n",
    "    else:\n",
    "        return False\n",
    "            \n",
    "write_ct = OSMSampleFile(SAMPLE_FILE, OSMFILE,('way',), \\\n",
    "                         unnamed_residential_roads, 100)\n",
    "print write_ct, \"elements written to SAMPLE_FILE\""
   ]
  },
  {
   "cell_type": "markdown",
   "metadata": {},
   "source": [
    "Many of these are from the TIGER upload and have no name info.  Exclude them from auditing and look again."
   ]
  },
  {
   "cell_type": "code",
   "execution_count": 23,
   "metadata": {
    "collapsed": false
   },
   "outputs": [
    {
     "name": "stdout",
     "output_type": "stream",
     "text": [
      "303 elements written to SAMPLE_FILE\n"
     ]
    }
   ],
   "source": [
    "def unnamed_not_TIGER_roads(el):\n",
    "    tags = get_tags(el)\n",
    "    if \"highway\" in tags and tags[\"highway\"] == \"residential\":\n",
    "        if \"name\" not in tags:\n",
    "            td = False\n",
    "            for key in tags.keys():\n",
    "                if re_tiger.match(key):\n",
    "                    td = True\n",
    "                    break\n",
    "            if td:\n",
    "                return False\n",
    "            else:\n",
    "                return True\n",
    "        else:\n",
    "            return False\n",
    "    else:\n",
    "        return False\n",
    "            \n",
    "write_ct = OSMSampleFile(\"Unnamed_Not_Tiger_Roads.osm\", OSMFILE,('way',), \\\n",
    "                         unnamed_not_TIGER_roads, 1)\n",
    "print write_ct, \"elements written to SAMPLE_FILE\""
   ]
  },
  {
   "cell_type": "markdown",
   "metadata": {},
   "source": [
    "So from visual review of above it looks like many of these are, indeed, small residential streets which do have names when viewed on Google Maps.  Processing further an opportunity for improvement in the database by getting names from external reference using lat-lon data in the way nodes."
   ]
  },
  {
   "cell_type": "code",
   "execution_count": 24,
   "metadata": {
    "collapsed": false
   },
   "outputs": [
    {
     "name": "stdout",
     "output_type": "stream",
     "text": [
      "set(['Segment #', 'Elevation, maximum', 'Elevation, minimum', 'Elevation, end', 'Elevation, start'])\n"
     ]
    }
   ],
   "source": [
    "## Before actually auditing and cleaning street names, examine keys to see if any have the\n",
    "## problem characters as defined in the problem set in the lessons for this project.\n",
    "prob_char_keys = set()\n",
    "with open (\"probchar_key_elements.osm\",'wb') as output:\n",
    "    output.write('<?xml version=\"1.0\" encoding=\"UTF-8\"?>\\n')\n",
    "    output.write('<osm>\\n  ')\n",
    "    for elem in get_element(OSMFILE, tags=('way','node','relation')):\n",
    "        prob_elem = False\n",
    "        for t in elem.iter(\"tag\"):\n",
    "            kstring = t.get(\"k\")\n",
    "            if re_probchars.search(kstring) is not None:\n",
    "                prob_elem = True\n",
    "                prob_char_keys.add(kstring)\n",
    "        if prob_elem: output.write(ET.tostring(elem,encoding='utf-8'))\n",
    "    output.write('</osm>')\n",
    "print prob_char_keys\n",
    "## and it turns out there are a few.  need to write them out to a file and examine\n",
    "## All part of WST!!!"
   ]
  },
  {
   "cell_type": "code",
   "execution_count": 7,
   "metadata": {
    "collapsed": false
   },
   "outputs": [
    {
     "name": "stdout",
     "output_type": "stream",
     "text": [
      "OOPS, ST_NOT_PARSED Shadow Ridge (driveway)\n",
      "Number of entries in unknown street_types dictionary: 105\n",
      "Found 14293 roads with recognized street type or abbreviation.\n",
      "Found 81 roads with only one word in the name.\n",
      "Found 83 roads where the street type is the first word in the name.\n",
      "1071 : set(['County Road 1071'])\n",
      "1733 : set(['Road 1733'])\n",
      "174 : set(['SR 174', 'CA 174'])\n",
      "20 : set(['CA 20'])\n",
      "2233 : set(['County Road 2233'])\n",
      "24 : set(['Forest Route 24'])\n",
      "364 : set(['County Road 364'])\n",
      "4431 : set(['Dixon 4431'])\n",
      "4471 : set(['Bresna 4471'])\n",
      "49 : set(['CA 49', 'I 80;CA 49'])\n",
      "50 : set(['US 50'])\n",
      "5781 : set(['Brown 5781'])\n",
      "80 : set(['I 80'])\n",
      "A : set(['Unnamed Road A'])\n",
      "Acres : set(['Hasti Acres', 'Adams Acres'])\n",
      "Allie : set(['Ellies Allie'])\n",
      "Arnold : set(['T Arnold'])\n",
      "Away : set(['Model Away'])\n",
      "B : set(['Cul de Sac B'])\n",
      "Barbaree : set(['High Barbaree'])\n",
      "Bend : set(['Skaith Bend', 'Dogwood Bend'])\n",
      "Bosque : set(['El Bosque'])\n",
      "Bottom : set(['Copper Bottom'])\n",
      "Bypass : set(['Chiquita Bypass'])\n",
      "Cables : set(['Cedar Cables'])\n",
      "Calloway : set(['Cab Calloway'])\n",
      "Cascada : set(['Rio Cascada'])\n",
      "Colina : set(['La Colina'])\n",
      "Conduit : set(['Chicago Conduit'])\n",
      "Corner : set(['Cutters Corner', \"Weger's Corner\", 'Kanehls Corner'])\n",
      "Cove : set(['Skipper Cove'])\n",
      "Cutoff : set(['Greenstone Cutoff'])\n",
      "Decline : set(['Clatsop Decline'])\n",
      "Dock : set(['Boat Dock'])\n",
      "Downs : set(['Country Downs', 'Baker Downs'])\n",
      "Driveway : set(['Westgrange Farm Driveway'])\n",
      "Dundee : set(['West Dundee'])\n",
      "E : set(['Road E'])\n",
      "Earth : set(['Sweet Earth'])\n",
      "End : set(['Brook End', 'Meadows End'])\n",
      "Entrance : set(['West Entrance'])\n",
      "Estates : set(['Land Park Estates'])\n",
      "Extension : set(['Alcalde Extension'])\n",
      "Farm : set(['Flower Farm', 'Horton Farm'])\n",
      "Flat : set(['Whiskey Flat'])\n",
      "Flats : set(['Paddy Flats'])\n",
      "Gate : set(['Oak Gate', \"Heaven's Gate\"])\n",
      "Girl : set(['Slave Girl'])\n",
      "Glen : set(['Willow Glen', 'Shady Glen'])\n",
      "Grove : set(['Hidden Grove'])\n",
      "Gulch : set([\"Tinker's Gulch\"])\n",
      "Hembo : set(['Copa Hembo'])\n",
      "Hideaway : set(['Hernandos Hideaway'])\n",
      "Hollow : set(['The Hollow', 'Cedar Hollow', 'Sly Fox Hollow'])\n",
      "Horn : set(['Cape Horn East'])\n",
      "Knob : set(['Pine Knob'])\n",
      "Knoll : set(['Sunset Knoll'])\n",
      "Knolls : set(['French Knolls'])\n",
      "Kourt : set(['Kensington Kourt'])\n",
      "Lakeshore : set(['Lakeshore South', 'Lakeshore North'])\n",
      "Lakeview : set(['Upper Lakeview', 'Lower Lakeview'])\n",
      "Lawn : set(['Rockers Lawn'])\n",
      "Line : set(['Power Line'])\n",
      "Lode : set(['Shamrock Lode'])\n",
      "Main : set(['West Main'])\n",
      "Meadows : set(['Misty Meadows', 'Georges Meadows'])\n",
      "Mine : set(['Mari Gold Mine', 'Small Hope Mine', 'Flying Fish Mine'])\n",
      "Mobilhome : set(['Bowman Mobilhome'])\n",
      "Nest : set(['Eagles Nest', 'Kozy Nest'])\n",
      "Oakplace : set(['Oakplace West', 'Oakplace East'])\n",
      "Oaks : set(['Scarlet Oaks'])\n",
      "Only : set(['Logging Road Only'])\n",
      "Otter : set(['River Otter'])\n",
      "Overcrossing : set(['Colfax Overcrossing'])\n",
      "P : set(['Secret Town P'])\n",
      "Park : set(['Gossonia Park'])\n",
      "Parking : set(['Red Hawk Parking'])\n",
      "Pass : set(['Ambush Pass', 'Paramount Pass', 'Gambles Pass'])\n",
      "Pinar : set(['Paseo Pinar'])\n",
      "Pine : set(['Sugar Pine'])\n",
      "Pines : set(['Twin Pines', 'Tall Pines'])\n",
      "Plant : set(['Water Plant'])\n",
      "Plaza : set(['Penryn Plaza'])\n",
      "Pointe : set(['Shoreline Pointe', 'Broadstone Pointe'])\n",
      "Ranch : set(['Gearhart Ranch'])\n",
      "Real : set(['Sierra Real'])\n",
      "Rey : set(['Del Rey'])\n",
      "Ring : set(['Magic Ring'])\n",
      "Robles : set(['Avenida Robles'])\n",
      "Royale : set(['Cour Royale'])\n",
      "Sac : set(['Cul de Sac'])\n",
      "Sol : set(['Villa del Sol'])\n",
      "Spur : set(['Deer Creek Spur'])\n",
      "States : set(['Hilltop States'])\n",
      "Straight : set(['Inside Straight'])\n",
      "Tears : set(['Trail of Tears'])\n",
      "Through : set(['Carden Cut Through'])\n",
      "Trace : set(['Choctaw Trace'])\n",
      "Track : set(['T T Track'])\n",
      "Valley : set(['Lion Valley'])\n",
      "Village : set(['Folsom Village', 'Colonial Village'])\n",
      "Villena : set(['Paceo Villena'])\n",
      "Wash : set(['Chevron Car Wash'])\n",
      "Woods : set(['Auburn Woods'])\n",
      "York-Ravine : set(['New York-Ravine'])\n"
     ]
    }
   ],
   "source": [
    "## On to auditing the names of the \"highway\" tagged ways.  Name should come from the \"name\" or\n",
    "## \"ref\" tag.  Look at last word and compare to expected street types.  \n",
    "## Make a dictionary with the unrecognized street types and the full name.\n",
    "street_types = defaultdict(set)\n",
    "st_first = defaultdict(int)\n",
    "st_first_ct = 0\n",
    "st_known = 0\n",
    "ways_not_roads = 0\n",
    "st_oneword = 0\n",
    "with open(\"One_Word_Highway_Names.osm\",'wb') as one_word_names, \\\n",
    "open (\"Unknown_Street_Types.osm\",'wb') as unknown_st:\n",
    "    one_word_names.write('<?xml version=\"1.0\" encoding=\"UTF-8\"?>\\n')\n",
    "    one_word_names.write('<osm>\\n  ')\n",
    "    unknown_st.write('<?xml version=\"1.0\" encoding=\"UTF-8\"?>\\n')\n",
    "    unknown_st.write('<osm>\\n  ')\n",
    "    for element in get_element(OSMFILE, tags=('way',)):\n",
    "        name, roadway = is_named_roadway(element)\n",
    "        if roadway:\n",
    "            pstat, st = parse_road_name(name)\n",
    "            if pstat == ST_UNKNOWN:\n",
    "                ## found what should be a street type but not in known types or abbreviations\n",
    "                unknown_st.write(ET.tostring(element,encoding='utf-8'))\n",
    "                street_types[st].add(name)\n",
    "            elif pstat == ST_FIRST:\n",
    "                ## the street name comes first, count it\n",
    "                st_known += 1\n",
    "                st_first[st] += 1\n",
    "                st_first_ct += 1\n",
    "            elif pstat == ST_GOOD:\n",
    "                ## street type in known types or abbreviations, count it\n",
    "                st_known += 1\n",
    "            elif pstat == ST_ONE_WORD:\n",
    "                ## seems to have only one word in street name, write out the full element\n",
    "                st_oneword += 1\n",
    "                one_word_names.write(ET.tostring(element,encoding='utf-8'))\n",
    "            elif pstat == ST_NOT_PARSED:\n",
    "                print \"OOPS, ST_NOT_PARSED\", name\n",
    "            else:\n",
    "                print \"OOPS, SOMETHING ELSE\", name\n",
    "        else:\n",
    "            ways_not_roads += 1\n",
    "    one_word_names.write('</osm>')\n",
    "    unknown_st.write('</osm>')\n",
    "print \"Number of entries in unknown street_types dictionary:\", len(street_types)\n",
    "print \"Found\",st_known,\"roads with recognized street type or abbreviation.\"\n",
    "print \"Found\",st_oneword, \"roads with only one word in the name.\"\n",
    "print \"Found\", st_first_ct, \"roads where the street type is the first word in the name.\"\n",
    "\n",
    "for st in sorted(street_types.keys()):\n",
    "    print st, ':', street_types[st]\n"
   ]
  },
  {
   "cell_type": "markdown",
   "metadata": {},
   "source": [
    "No additional abbreviations or obvious street types to add.  Some of these may have street type left off of the name in this database.  Will leave street type/abbreviation list as is."
   ]
  },
  {
   "cell_type": "code",
   "execution_count": 15,
   "metadata": {
    "collapsed": false
   },
   "outputs": [],
   "source": [
    "## Now to actually processing the file.  First deal with the way elements.  The schema and\n",
    "## parsing rules from the practice exercise are used.  Highways which are roads have the name\n",
    "## field cleaned by substituting the appropriate full-word version of the street type when there\n",
    "## is an abbreviation. (\"Rd.\" -> \"Road\", etc.).  If present, the zipcode found in addr:postcode is\n",
    "## checked and cleaned if needed.\n",
    "## This dictionary gives the abbreviation:full word pairings to use:\n",
    "str_abbr_mapping = dict(zip(KNOWN_STREET_ABBR,STREET_ABBR_EQUIV))\n",
    "\n",
    "def clean_street_name(name):\n",
    "    # if the name starts with a street type (\"Calle\", etc.) then return name unchanged\n",
    "    if re_stfirst.match(name):\n",
    "        new_name = name\n",
    "    else:\n",
    "    # looking for last 2 words in the name if it has 2, otherwise just the one word\n",
    "        m = re_last2or1.search(name)\n",
    "        if m:\n",
    "            if None in m.groups():\n",
    "            ## only found one word, probably no street type in this name, just return it unchanged\n",
    "                new_name = name\n",
    "            ## if 2 words, then street type if probably next to last if a direction word last\n",
    "            else:\n",
    "                if m.group(2) in DIRECTION_WORDS:\n",
    "                    st = m.group(1)\n",
    "                    loc = m.span(1)\n",
    "                else:\n",
    "                    st = m.group(2)\n",
    "                    loc = m.span(2)\n",
    "                if st in str_abbr_mapping:\n",
    "                ## the street_type is an abbreviation, look it up and substitute in name\n",
    "                    new_type = str_abbr_mapping[st]\n",
    "                    start,end = loc\n",
    "                    new_name = name[:start] + new_type + name[end:]\n",
    "                else:\n",
    "                ## street type not an abbreviation, so name can be returned unchanged\n",
    "                    new_name = name\n",
    "        else:\n",
    "            # this shouldn't happen - no match in regex search\n",
    "            print \"Problem in clean_street_name function:\", name\n",
    "            new_name = name\n",
    "    return new_name\n",
    "\n",
    "def clean_zipcode(zipcode):\n",
    "    # re_postcode matches 5+4 digits or 5 digits which is OK\n",
    "    m = re_postcode.match(zipcode)\n",
    "    if m:\n",
    "        return zipcode\n",
    "    else:\n",
    "        ## if there is a 5-digit sequence in the string, return that\n",
    "        print \"Trying to correct zipcode:\", zipcode\n",
    "        m = re.search(r'\\d\\d\\d\\d\\d',zipcode)\n",
    "        if m:\n",
    "            print \"Changing to:\", m.group(0)\n",
    "            return m.group(0)\n",
    "        else:\n",
    "        ## even if it's bad, return unchanged if we can't fix it\n",
    "            return zipcode\n",
    "    \n",
    "    \n",
    "\n",
    "def shape_element(element, node_attr_fields=NODE_FIELDS, way_attr_fields=WAY_FIELDS,\n",
    "                  relation_attr_fields = RELATION_FIELDS, default_tag_type='regular'):\n",
    "    \"\"\"Clean and shape node or way XML element to Python dict\"\"\"\n",
    "\n",
    "    node_attribs = {}\n",
    "    way_attribs = {}\n",
    "    relation_attribs = {}\n",
    "    way_nodes = []\n",
    "    relation_members = []\n",
    "    tags = []  # Handle secondary tags the same way for node, way, and relation elements\n",
    "\n",
    "    if element.tag == 'way':\n",
    "        for key in way_attr_fields:\n",
    "            way_attribs[key] = element.get(key)\n",
    "# Process the nodes associated with the way:\n",
    "        pos = 0\n",
    "        for wn in element.iter(\"nd\"):\n",
    "            wn_attribs = {}\n",
    "            wn_attribs[\"id\"] = way_attribs[\"id\"]\n",
    "            wn_attribs[\"node_id\"] = wn.get(\"ref\")\n",
    "            wn_attribs[\"position\"] = pos\n",
    "            way_nodes.append(wn_attribs)\n",
    "            pos += 1\n",
    "# Process other tags associated with the way\n",
    "        road = is_road(element)\n",
    "        for wt in element.iter(\"tag\"):\n",
    "            wt_key = wt.get(\"k\")\n",
    "# If the key contains \"problem characters\" it won't be processed\n",
    "            probs = re_probchars.search(wt_key)\n",
    "            if not probs:\n",
    "                wt_value = wt.get('v')\n",
    "                if road and wt_key == \"name\":\n",
    "                    wt_value = clean_street_name(wt_value)\n",
    "                if wt_key == 'addr:street':\n",
    "                    wt_value = clean_street_name(wt_value)\n",
    "                elif wt_key == 'addr:postcode':\n",
    "                    wt_value = clean_zipcode(wt_value)\n",
    "                tag_attribs = {}\n",
    "                tag_attribs['id'] = way_attribs['id']\n",
    "                if re_lowercolon.match(wt_key):\n",
    "                    key_split = wt_key.split(':',1)\n",
    "                    tag_attribs['key'] = key_split[1]\n",
    "                    tag_attribs['type'] = key_split[0]\n",
    "                else:\n",
    "                    tag_attribs['key'] = wt_key\n",
    "                    tag_attribs['type'] = \"regular\"\n",
    "                tag_attribs['value'] = wt_value\n",
    "                tags.append(tag_attribs)\n",
    "        return {'way': way_attribs, 'way_nodes': way_nodes, 'way_tags': tags}\n",
    "    # Get the required attribute values for a node tag:    \n",
    "    elif element.tag == 'node':\n",
    "        for key in node_attr_fields:\n",
    "            node_attribs[key] = element.get(key)\n",
    "        # Process the tags associated with the node:\n",
    "        for nt in element.iter(\"tag\"):\n",
    "            nt_key = nt.get(\"k\")\n",
    "            nt_value = nt.get(\"v\")\n",
    "            probs = re_probchars.match(nt_key)\n",
    "            if not probs:\n",
    "                tag_attribs = {}\n",
    "                tag_attribs['id'] = node_attribs['id']\n",
    "                if nt_key == \"addr:street\":\n",
    "                    nt_value = clean_street_name(nt_value)\n",
    "                elif nt_key == \"addr:postcode\":\n",
    "                    nt_value = clean_zipcode(nt_value)\n",
    "                tag_attribs['value'] = nt_value\n",
    "                if re_lowercolon.match(nt_key):\n",
    "                    key_split = nt_key.split(':',1)\n",
    "                    tag_attribs['key'] = key_split[1]\n",
    "                    tag_attribs['type'] = key_split[0]\n",
    "                else:\n",
    "                    tag_attribs['key'] = nt_key\n",
    "                    tag_attribs['type'] = \"regular\"\n",
    "                tags.append(tag_attribs)\n",
    "        return {'node': node_attribs, 'node_tags': tags}\n",
    "    elif element.tag == 'relation':\n",
    "        for key in relation_attr_fields:\n",
    "            relation_attribs[key] = element.get(key)\n",
    "        # Process the members associated with the relation:\n",
    "        pos = 0\n",
    "        for rm in element.iter(\"member\"):\n",
    "            rm_attribs = {}\n",
    "            rm_attribs[\"id\"] = relation_attribs[\"id\"]\n",
    "            rm_attribs[\"member_id\"] = rm.get(\"ref\")\n",
    "            rm_attribs[\"role\"] = rm.get(\"role\")\n",
    "            rm_attribs[\"type\"] = rm.get(\"type\")\n",
    "            rm_attribs[\"position\"] = pos\n",
    "            relation_members.append(rm_attribs)\n",
    "            pos += 1\n",
    "        # Process the rest of the tags asociated with the relation:\n",
    "        for rt in element.iter(\"tag\"):\n",
    "            rt_key = rt.get(\"k\")\n",
    "            # If the key contains \"problem characters\" it won't be processed\n",
    "            probs = re_probchars.search(rt_key)\n",
    "            if not probs:\n",
    "                rt_value = rt.get('v')\n",
    "                tag_attribs = {}\n",
    "                tag_attribs['id'] = relation_attribs['id']\n",
    "                if re_lowercolon.match(rt_key):\n",
    "                    key_split = rt_key.split(':',1)\n",
    "                    tag_attribs['key'] = key_split[1]\n",
    "                    tag_attribs['type'] = key_split[0]\n",
    "                else:\n",
    "                    tag_attribs['key'] = rt_key\n",
    "                    tag_attribs['type'] = \"regular\"\n",
    "                tag_attribs['value'] = rt_value\n",
    "                tags.append(tag_attribs)\n",
    "        return {'relation': relation_attribs, 'relation_members': relation_members, \\\n",
    "                'relation_tags': tags}"
   ]
  },
  {
   "cell_type": "code",
   "execution_count": 16,
   "metadata": {
    "collapsed": true
   },
   "outputs": [],
   "source": [
    "NODES_PATH = \"nodes.csv\"\n",
    "NODE_TAGS_PATH = \"node_tags.csv\"\n",
    "WAYS_PATH = \"ways.csv\"\n",
    "WAY_NODES_PATH = \"way_nodes.csv\"\n",
    "WAY_TAGS_PATH = \"way_tags.csv\"\n",
    "RELATIONS_PATH = \"relations.csv\"\n",
    "RELATION_MEMBERS_PATH = \"relation_members.csv\"\n",
    "RELATION_TAGS_PATH = \"relation_tags.csv\"\n",
    "\n",
    "\n",
    "def validate_element(element, validator, schema=SCHEMA):\n",
    "    \"\"\"Raise ValidationError if element does not match schema\"\"\"\n",
    "    if validator.validate(element, schema) is not True:\n",
    "        field, errors = next(validator.errors.iteritems())\n",
    "        message_string = \"\\nElement of type '{0}' has the following errors:\\n{1}\"\n",
    "        error_strings = (\n",
    "            \"{0}: {1}\".format(k, v if isinstance(v, str) else \", \".join(v))\n",
    "            for k, v in errors.iteritems()\n",
    "        )\n",
    "        raise cerberus.ValidationError(\n",
    "            message_string.format(field, \"\\n\".join(error_strings))\n",
    "        )\n",
    "\n",
    "class UnicodeDictWriter(csv.DictWriter, object):\n",
    "    \"\"\"Extend csv.DictWriter to handle Unicode input\"\"\"\n",
    "\n",
    "    def writerow(self, row):\n",
    "        super(UnicodeDictWriter, self).writerow({\n",
    "            k: (v.encode('utf-8') if isinstance(v, unicode) else v) for k, v in row.iteritems()\n",
    "        })\n",
    "\n",
    "    def writerows(self, rows):\n",
    "        for row in rows:\n",
    "            self.writerow(row)\n",
    "\n",
    "\n",
    "def process_map(file_in, validate):\n",
    "    \"\"\"Iteratively process each XML element and write to csv(s)\"\"\"\n",
    "\n",
    "    with codecs.open(NODES_PATH, 'w') as nodes_file, \\\n",
    "         codecs.open(NODE_TAGS_PATH, 'w') as nodes_tags_file, \\\n",
    "         codecs.open(WAYS_PATH, 'w') as ways_file, \\\n",
    "         codecs.open(WAY_NODES_PATH, 'w') as way_nodes_file, \\\n",
    "         codecs.open(WAY_TAGS_PATH, 'w') as way_tags_file, \\\n",
    "         codecs.open(RELATIONS_PATH,'w') as relations_file, \\\n",
    "         codecs.open(RELATION_MEMBERS_PATH,'w') as relation_members_file, \\\n",
    "         codecs.open(RELATION_TAGS_PATH,'w') as relation_tags_file:\n",
    "\n",
    "        nodes_writer = UnicodeDictWriter(nodes_file, NODE_FIELDS)\n",
    "        node_tags_writer = UnicodeDictWriter(nodes_tags_file, NODE_TAGS_FIELDS)\n",
    "        ways_writer = UnicodeDictWriter(ways_file, WAY_FIELDS)\n",
    "        way_nodes_writer = UnicodeDictWriter(way_nodes_file, WAY_NODES_FIELDS)\n",
    "        way_tags_writer = UnicodeDictWriter(way_tags_file, WAY_TAGS_FIELDS)\n",
    "        relations_writer = UnicodeDictWriter(relations_file, RELATION_FIELDS)\n",
    "        relation_members_writer = UnicodeDictWriter(relation_members_file, RELATION_MEMBERS_FIELDS)\n",
    "        relation_tags_writer = UnicodeDictWriter(relation_tags_file, RELATION_TAGS_FIELDS)\n",
    "\n",
    "        nodes_writer.writeheader()\n",
    "        node_tags_writer.writeheader()\n",
    "        ways_writer.writeheader()\n",
    "        way_nodes_writer.writeheader()\n",
    "        way_tags_writer.writeheader()\n",
    "        relations_writer.writeheader()\n",
    "        relation_members_writer.writeheader()\n",
    "        relation_tags_writer.writeheader()\n",
    "\n",
    "        validator = cerberus.Validator()\n",
    "\n",
    "        for element in get_element(file_in, tags=('node', 'way','relation')):\n",
    "            el = shape_element(element)\n",
    "            if el:\n",
    "                if validate is True:\n",
    "                    validate_element(el, validator)\n",
    "\n",
    "                if element.tag == 'node':\n",
    "                    nodes_writer.writerow(el['node'])\n",
    "                    node_tags_writer.writerows(el['node_tags'])\n",
    "                elif element.tag == 'way':\n",
    "                    ways_writer.writerow(el['way'])\n",
    "                    way_nodes_writer.writerows(el['way_nodes'])\n",
    "                    way_tags_writer.writerows(el['way_tags'])\n",
    "                elif element.tag == 'relation':\n",
    "                    relations_writer.writerow(el['relation'])\n",
    "                    relation_members_writer.writerows(el['relation_members'])\n",
    "                    relation_tags_writer.writerows(el['relation_tags'])\n",
    "\n"
   ]
  },
  {
   "cell_type": "code",
   "execution_count": 15,
   "metadata": {
    "collapsed": false
   },
   "outputs": [
    {
     "name": "stdout",
     "output_type": "stream",
     "text": [
      "33275 elements written to test file.\n"
     ]
    }
   ],
   "source": [
    "## Create a sample file for processing to test the code:\n",
    "k = 20\n",
    "i = 0\n",
    "ct = 0\n",
    "with open(\"Test_File.osm\", 'wb') as output:\n",
    "    output.write('<?xml version=\"1.0\" encoding=\"UTF-8\"?>\\n')\n",
    "    output.write('<osm>\\n  ')\n",
    "\n",
    "    # Write every kth top level element\n",
    "    for element in get_element(OSMFILE,tags=('node','way')):\n",
    "        i += 1\n",
    "        if i % k == 0:\n",
    "            output.write(ET.tostring(element, encoding='utf-8'))\n",
    "            ct += 1\n",
    "\n",
    "    output.write('</osm>')\n",
    "print ct, \"elements written to test file.\""
   ]
  },
  {
   "cell_type": "code",
   "execution_count": 28,
   "metadata": {
    "collapsed": false
   },
   "outputs": [
    {
     "name": "stdout",
     "output_type": "stream",
     "text": [
      "done\n"
     ]
    }
   ],
   "source": [
    "## Try the process_map function on the test file, run validation with the test\n",
    "process_map(\"Test_File.osm\", False)\n",
    "print \"done\""
   ]
  },
  {
   "cell_type": "markdown",
   "metadata": {},
   "source": [
    "The above code ran without raising exceptions or printing out any error statements.  The small CSV files can be opened in Excel and checked against the elements in the Test_File.osm to verify that the conversion code is running correctly.\n",
    "Next cell will run the process_map function on the entire gold country OSM file.  Skip running validator as this seems to take forever."
   ]
  },
  {
   "cell_type": "markdown",
   "metadata": {},
   "source": [
    "Reviewed all of the test...CSV files and compared to the Test_File.osm file.  All of the element types seem to be converted correctly."
   ]
  },
  {
   "cell_type": "code",
   "execution_count": 17,
   "metadata": {
    "collapsed": false
   },
   "outputs": [
    {
     "name": "stdout",
     "output_type": "stream",
     "text": [
      "Trying to correct zipcode: CA 95650 ‎\n",
      "Changing to: 95650\n",
      "Problem in clean_street_name function: Penryn Rd Int Nw Of I-80 On Frontage Road (Boyington Road)\n",
      "Problem in clean_street_name function: Shadow Ridge (driveway)\n",
      "Trying to correct zipcode: CA 95667\n",
      "Changing to: 95667\n",
      "Trying to correct zipcode: CA 95602\n",
      "Changing to: 95602\n",
      "done\n"
     ]
    }
   ],
   "source": [
    "## Do the process_map function on the large OSM file, skip the validation on the large file.\n",
    "process_map(OSMFILE, False)\n",
    "print \"done\""
   ]
  },
  {
   "cell_type": "code",
   "execution_count": 30,
   "metadata": {
    "collapsed": false
   },
   "outputs": [
    {
     "name": "stdout",
     "output_type": "stream",
     "text": [
      "458\n"
     ]
    }
   ],
   "source": [
    "## The schema used in the lessons for this project is denormalized in that the user name is\n",
    "## repeated in each row of the ways, nodes, and relations tables.  The database could be\n",
    "## normalized by eliminating the user column from these tables and creating a users table \n",
    "## with the uid->user correspondence.  This code creates the necessary CSV file for doing that.\n",
    "\n",
    "USERS_PATH = \"users.csv\"\n",
    "uids = set()\n",
    "user_table = []\n",
    "for element in get_element(OSMFILE, tags=('way','node','relation')):\n",
    "    uid = element.get('uid')\n",
    "    if uid not in uids:\n",
    "        user_row = {}\n",
    "        uids.add(uid)\n",
    "        user_row['uid'] = uid\n",
    "        user_row['user'] = element.get('user')\n",
    "        user_table.append(user_row)\n",
    "\n",
    "print len(user_table)        \n",
    "\n",
    "with codecs.open(USERS_PATH, 'w') as users_file:\n",
    "    user_writer = UnicodeDictWriter(users_file, USER_FIELDS)\n",
    "    user_writer.writeheader()\n",
    "    for row in user_table:\n",
    "        user_writer.writerow(row)\n",
    "    \n",
    "\n"
   ]
  },
  {
   "cell_type": "code",
   "execution_count": 16,
   "metadata": {
    "collapsed": false
   },
   "outputs": [
    {
     "name": "stdout",
     "output_type": "stream",
     "text": [
      "13313 elements written to sample file for project submission.\n"
     ]
    }
   ],
   "source": [
    "# Create a sample file to submit with project documentation\n",
    "\n",
    "write_ct = OSMSampleFile(output_file = \"Sample_For_Submission.osm\", \\\n",
    "                        get_tags = ('way','node','relation'), k=50)\n",
    "\n",
    "print write_ct, \"elements written to sample file for project submission.\""
   ]
  },
  {
   "cell_type": "code",
   "execution_count": null,
   "metadata": {
    "collapsed": true
   },
   "outputs": [],
   "source": []
  }
 ],
 "metadata": {
  "anaconda-cloud": {},
  "kernelspec": {
   "display_name": "Python [Root]",
   "language": "python",
   "name": "Python [Root]"
  },
  "language_info": {
   "codemirror_mode": {
    "name": "ipython",
    "version": 2
   },
   "file_extension": ".py",
   "mimetype": "text/x-python",
   "name": "python",
   "nbconvert_exporter": "python",
   "pygments_lexer": "ipython2",
   "version": "2.7.11"
  }
 },
 "nbformat": 4,
 "nbformat_minor": 0
}
