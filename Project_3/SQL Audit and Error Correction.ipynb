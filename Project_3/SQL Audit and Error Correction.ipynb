{
 "cells": [
  {
   "cell_type": "code",
   "execution_count": 1,
   "metadata": {
    "collapsed": true
   },
   "outputs": [],
   "source": [
    "import sqlite3 as sq3\n",
    "import re\n",
    "from collections import defaultdict"
   ]
  },
  {
   "cell_type": "code",
   "execution_count": 2,
   "metadata": {
    "collapsed": false
   },
   "outputs": [],
   "source": [
    "DBNAME = \"Gold_Country_OSM2.db\"\n",
    "FETCH_ONE = 0\n",
    "FETCH_ALL = 1\n",
    "PHYSICAL_FEATURE_TAGS = ['shop','amenity','waterway','power','aerialway','man_made', \\\n",
    "                       'boundary','highway','barrier','leisure','historic','tourism',\\\n",
    "                       'building','traffic_calming','natural','aeroway','place', \\\n",
    "                       'railway','landuse','city','emergency','manhole','office']\n",
    "\n",
    "## convert the PHYSICAL_FEATURE_TAGS list into a string for use in SQL queries\n",
    "pfs = \"'\" + PHYSICAL_FEATURE_TAGS[0] + \"'\"\n",
    "for tag in PHYSICAL_FEATURE_TAGS[1:]:\n",
    "    pfs = pfs + \",'\" + tag + \"'\""
   ]
  },
  {
   "cell_type": "code",
   "execution_count": 3,
   "metadata": {
    "collapsed": false
   },
   "outputs": [],
   "source": [
    "## function to run one SQLite query and return either one row, or all of the result set\n",
    "def run_sql(SQL, dbname=DBNAME, fetch=FETCH_ALL, params = None):\n",
    "    with sq3.connect(dbname) as conn:\n",
    "        cur = conn.cursor()\n",
    "        if params == None:\n",
    "            cur.execute(SQL)\n",
    "        else:\n",
    "            cur.execute(SQL, params)\n",
    "        if fetch == FETCH_ALL:\n",
    "            data = cur.fetchall()\n",
    "            return data\n",
    "        elif fetch == FETCH_ONE:\n",
    "            data = cur.fetchone()\n",
    "            return data"
   ]
  },
  {
   "cell_type": "code",
   "execution_count": 4,
   "metadata": {
    "collapsed": false
   },
   "outputs": [
    {
     "name": "stdout",
     "output_type": "stream",
     "text": [
      "622875 elements in the Nodes table.\n",
      "42629 elements in the Ways table.\n",
      "174 elements in the Relations table.\n",
      "12521 of the nodes have one or more tags.\n"
     ]
    }
   ],
   "source": [
    "# Count the number of nodes, ways, and relations in the database.\n",
    "\n",
    "for table_name in [\"Nodes\",\"Ways\",\"Relations\"]:\n",
    "    data = run_sql(\"SELECT COUNT(*) FROM \" + table_name, fetch=FETCH_ONE)\n",
    "    print data[0], \"elements in the\", table_name, \"table.\"\n",
    "    \n",
    "## Also count nodes which have one or more tags:\n",
    "tag_nodes = run_sql(\"SELECT COUNT(DISTINCT Nodes.id) from Nodes JOIN Node_tags \\\n",
    "                on Nodes.id = Node_tags.id WHERE Node_tags.id IS NOT NULL\", fetch=FETCH_ONE)\n",
    "print tag_nodes[0], \"of the nodes have one or more tags.\""
   ]
  },
  {
   "cell_type": "code",
   "execution_count": 5,
   "metadata": {
    "collapsed": false
   },
   "outputs": [
    {
     "name": "stdout",
     "output_type": "stream",
     "text": [
      "303\n"
     ]
    }
   ],
   "source": [
    "## One problem identified in initial audit was ways tagged as highway=residential which\n",
    "## were not from the TIGER upload and had no name tag.  On visual inspection these appeared\n",
    "## to be real roads in residential neighborhoods which did show names when I looked at the\n",
    "## area on Google Maps.\n",
    "\n",
    "## Select ways tagged as 'highway=residential', not from TIGER upload, no name=tag:\n",
    "data = run_sql(\"SELECT DISTINCT Ways.id FROM Ways JOIN Way_tags on ways.id = way_tags.id \\\n",
    "    WHERE way_tags.key = 'highway' and way_tags.value = 'residential' \\\n",
    "    AND Ways.id NOT IN (SELECT DISTINCT id FROM Way_Tags \\\n",
    "    WHERE Way_tags.type = 'tiger') \\\n",
    "    AND Ways.id NOT IN (SELECT DISTINCT id from Way_tags WHERE \\\n",
    "    Way_tags.key = 'name' and Way_tags.type='regular')\", \\\n",
    "               fetch=FETCH_ALL)\n",
    "\n",
    "print len(data)"
   ]
  },
  {
   "cell_type": "markdown",
   "metadata": {},
   "source": [
    "This is the same count I got when I did this programmatically.  One could pull these ways and the associated nodes, insert the latitude and longitutde into Google Maps API and see what comes back as a street name, and use that to update the name in the OSM database.  "
   ]
  },
  {
   "cell_type": "code",
   "execution_count": 6,
   "metadata": {
    "collapsed": false
   },
   "outputs": [
    {
     "name": "stdout",
     "output_type": "stream",
     "text": [
      "44\n"
     ]
    }
   ],
   "source": [
    "## Find nodes without tags and make sure they are part of a way or relation\n",
    "## These are \"orphan\" nodes which should be deleted.\n",
    "SQL = \"SELECT id from NODES WHERE (SELECT COUNT(*) FROM Node_Tags \\\n",
    "    WHERE Nodes.id = Node_Tags.id) = 0 AND \\\n",
    "    Nodes.id NOT IN (SELECT DISTINCT Way_nodes.node_id from Way_Nodes) AND \\\n",
    "    Nodes.id NOT IN (SELECT member_id from Relation_members where relation_members.type = 'node');\"\n",
    "orphan_nodes = run_sql(SQL, fetch = FETCH_ALL)\n",
    "print len(orphan_nodes)\n",
    "\n",
    "## Verified in separate queries that there are no ways or relations with these node id's, and\n",
    "## that these nodes have no tags."
   ]
  },
  {
   "cell_type": "code",
   "execution_count": 7,
   "metadata": {
    "collapsed": false
   },
   "outputs": [
    {
     "name": "stdout",
     "output_type": "stream",
     "text": [
      "44 orphan nodes deleted.\n"
     ]
    }
   ],
   "source": [
    "## Delete Nodes which are not part of a way or relation\n",
    "SQL = \"DELETE FROM Nodes WHERE id IN \\\n",
    "    (SELECT id from NODES WHERE (SELECT COUNT(*) FROM Node_Tags \\\n",
    "    WHERE Nodes.id = Node_Tags.id) = 0 AND \\\n",
    "    Nodes.id NOT IN (SELECT DISTINCT Way_nodes.node_id from Way_Nodes) AND \\\n",
    "    Nodes.id NOT IN (SELECT member_id from Relation_members where relation_members.type = 'node'))\"\n",
    "conn = sq3.connect(DBNAME)\n",
    "cur = conn.cursor()\n",
    "cur.execute(SQL)\n",
    "print cur.rowcount, \"orphan nodes deleted.\"\n",
    "conn.commit()\n",
    "conn.close()"
   ]
  },
  {
   "cell_type": "code",
   "execution_count": 8,
   "metadata": {
    "collapsed": false
   },
   "outputs": [
    {
     "name": "stdout",
     "output_type": "stream",
     "text": [
      "0 orphan nodes found.\n"
     ]
    }
   ],
   "source": [
    "## Repeat SELECT query\n",
    "SQL = \"SELECT COUNT(*) FROM Nodes WHERE (SELECT COUNT(*) FROM Node_Tags \\\n",
    "    WHERE Nodes.id = Node_Tags.id) = 0 AND \\\n",
    "    Nodes.id NOT IN (SELECT DISTINCT Way_nodes.node_id from Way_Nodes) AND \\\n",
    "    Nodes.id NOT IN (SELECT member_id from Relation_members where relation_members.type = 'node');\"\n",
    "orphan_node_ct = run_sql(SQL, fetch = FETCH_ONE)\n",
    "print orphan_node_ct[0], \"orphan nodes found.\"\n"
   ]
  },
  {
   "cell_type": "code",
   "execution_count": 9,
   "metadata": {
    "collapsed": false
   },
   "outputs": [
    {
     "name": "stdout",
     "output_type": "stream",
     "text": [
      "25 orphan ways found in database.\n"
     ]
    }
   ],
   "source": [
    "## Check for ways with no tags which are not part of relations\n",
    "## These are \"orphan\" ways which should also be deleted\n",
    "SQL = \"SELECT id from ways WHERE (SELECT COUNT(*) FROM Way_Tags WHERE \\\n",
    "    Ways.id = Way_tags.id) = 0 AND \\\n",
    "    Ways.id NOT IN (SELECT DISTINCT member_id from Relation_members WHERE \\\n",
    "    Relation_members.type = 'way');\"\n",
    "data = run_sql(SQL, fetch = FETCH_ALL)\n",
    "print len(data), \"orphan ways found in database.\""
   ]
  },
  {
   "cell_type": "code",
   "execution_count": 10,
   "metadata": {
    "collapsed": false
   },
   "outputs": [
    {
     "name": "stdout",
     "output_type": "stream",
     "text": [
      "25 orphan ways deleted from database.\n"
     ]
    }
   ],
   "source": [
    "## Delete these ways then check again for orphan nodes\n",
    "SQL = \"DELETE FROM Ways WHERE id IN \\\n",
    "    (SELECT id from ways WHERE (SELECT COUNT(*) FROM Way_Tags WHERE \\\n",
    "    Ways.id = Way_tags.id) = 0 AND \\\n",
    "    Ways.id NOT IN (SELECT DISTINCT member_id from Relation_members WHERE \\\n",
    "    Relation_members.type = 'way'));\"\n",
    "conn = sq3.connect(DBNAME)\n",
    "cur = conn.cursor()\n",
    "cur.execute(SQL)\n",
    "print cur.rowcount, \"orphan ways deleted from database.\"\n",
    "conn.commit()\n",
    "conn.close()\n"
   ]
  },
  {
   "cell_type": "code",
   "execution_count": 11,
   "metadata": {
    "collapsed": false
   },
   "outputs": [
    {
     "name": "stdout",
     "output_type": "stream",
     "text": [
      "0 oprhan ways found in repeat query.\n"
     ]
    }
   ],
   "source": [
    "# Repeat query to confirm DELETE worked as expected\n",
    "SQL = \"SELECT COUNT(*) from ways WHERE (SELECT COUNT(*) FROM Way_Tags WHERE \\\n",
    "    Ways.id = Way_tags.id) = 0 AND \\\n",
    "    Ways.id NOT IN (SELECT DISTINCT member_id from Relation_members WHERE \\\n",
    "    Relation_members.type = 'way');\"\n",
    "orphan_way_ct = run_sql(SQL, fetch = FETCH_ONE)\n",
    "print orphan_way_ct[0], \"oprhan ways found in repeat query.\""
   ]
  },
  {
   "cell_type": "code",
   "execution_count": 12,
   "metadata": {
    "collapsed": false
   },
   "outputs": [
    {
     "name": "stdout",
     "output_type": "stream",
     "text": [
      "0 orphan nodes found after deleting orphan ways.\n"
     ]
    }
   ],
   "source": [
    "## Finally check again for orphan nodes:\n",
    "SQL = \"SELECT COUNT(*) from NODES WHERE (SELECT COUNT(*) FROM Node_Tags \\\n",
    "    WHERE Nodes.id = Node_Tags.id) = 0 AND \\\n",
    "    Nodes.id NOT IN (SELECT DISTINCT Way_nodes.node_id from Way_Nodes) AND \\\n",
    "    Nodes.id NOT IN (SELECT member_id from Relation_members where relation_members.type = 'node');\"\n",
    "orphan_node_ct = run_sql(SQL, fetch = FETCH_ONE)\n",
    "print orphan_node_ct[0], \"orphan nodes found after deleting orphan ways.\"\n",
    "## and we didn't create any new orphans by getting rid of the orphan ways"
   ]
  },
  {
   "cell_type": "code",
   "execution_count": 13,
   "metadata": {
    "collapsed": false
   },
   "outputs": [
    {
     "name": "stdout",
     "output_type": "stream",
     "text": [
      "There are now 17071 closed ways in the database.\n",
      "There are now 25533 open ways in the database.\n"
     ]
    }
   ],
   "source": [
    "## Counting open and closed ways. The definition in this query is the same as the one in\n",
    "## the OSM Wiki, which is first node = last node for closed way, otherwise open.  Note there\n",
    "## are ways which share nodes which may not be first,last and are therefore counted as \"open\".\n",
    "\n",
    "SQL = \"SELECT COUNT(*) from ways WHERE (SELECT node_id FROM Way_Nodes WHERE \\\n",
    "    Ways.id = Way_Nodes.id ORDER BY way_nodes.position Limit 1) = \\\n",
    "    (SELECT node_id FROM Way_Nodes WHERE \\\n",
    "    Ways.id = Way_Nodes.id ORDER BY way_nodes.position DESC LIMIT 1) ;\"\n",
    "way_ct = run_sql(SQL, fetch = FETCH_ONE)\n",
    "print \"There are now\", way_ct[0], \"closed ways in the database.\"\n",
    "\n",
    "SQL = \"SELECT COUNT(*) from ways WHERE (SELECT node_id FROM Way_Nodes WHERE \\\n",
    "    Ways.id = Way_Nodes.id ORDER BY way_nodes.position Limit 1) <> \\\n",
    "    (SELECT node_id FROM Way_Nodes WHERE \\\n",
    "    Ways.id = Way_Nodes.id ORDER BY way_nodes.position DESC LIMIT 1) ;\"\n",
    "way_ct = run_sql(SQL, fetch = FETCH_ONE)\n",
    "print \"There are now\", way_ct[0], \"open ways in the database.\"\n",
    "## This numbers are lower than when counted during initial audit as orphan ways have been deleted."
   ]
  },
  {
   "cell_type": "code",
   "execution_count": 14,
   "metadata": {
    "collapsed": false
   },
   "outputs": [
    {
     "name": "stdout",
     "output_type": "stream",
     "text": [
      "Closed Ways:\n",
      "shop : 29\n",
      "amenity : 499\n",
      "waterway : 21\n",
      "power : 42\n",
      "aerialway : 0\n",
      "man_made : 29\n",
      "boundary : 48\n",
      "highway : 3850\n",
      "barrier : 44\n",
      "leisure : 1462\n",
      "historic : 9\n",
      "tourism : 15\n",
      "building : 7927\n",
      "traffic_calming : 0\n",
      "natural : 1040\n",
      "aeroway : 12\n",
      "place : 31\n",
      "railway : 3\n",
      "landuse : 7480\n",
      "city : 87\n",
      "emergency : 3\n",
      "manhole : 0\n",
      "office : 1\n",
      "total: 22632\n",
      "\n",
      "Open Ways:\n",
      "shop : 0\n",
      "amenity : 0\n",
      "waterway : 1406\n",
      "power : 242\n",
      "aerialway : 1\n",
      "man_made : 82\n",
      "boundary : 8\n",
      "highway : 23297\n",
      "barrier : 106\n",
      "leisure : 5\n",
      "historic : 1\n",
      "tourism : 1\n",
      "building : 2\n",
      "traffic_calming : 0\n",
      "natural : 2\n",
      "aeroway : 49\n",
      "place : 0\n",
      "railway : 155\n",
      "landuse : 0\n",
      "city : 4\n",
      "emergency : 8\n",
      "manhole : 0\n",
      "office : 0\n",
      "total: 25369\n"
     ]
    }
   ],
   "source": [
    "## Count the times each primary physical feature tag is used in the open and closed way groups\n",
    "total_ways= 0\n",
    "print \"Closed Ways:\"\n",
    "for ft in PHYSICAL_FEATURE_TAGS:\n",
    "    SQL = \"SELECT COUNT(DISTINCT ways.id) FROM Ways JOIN Way_Tags on ways.id = way_tags.id WHERE \\\n",
    "    (Way_tags.key='\"+ft+\"') AND ((SELECT node_id FROM Way_Nodes WHERE \\\n",
    "    Ways.id = Way_Nodes.id ORDER BY way_nodes.position Limit 1) = \\\n",
    "    (SELECT node_id FROM Way_Nodes WHERE \\\n",
    "    Ways.id = Way_Nodes.id ORDER BY way_nodes.position DESC LIMIT 1))\"\n",
    "    data = run_sql(SQL, fetch=FETCH_ONE)\n",
    "    print ft, ':', data[0]\n",
    "    total_ways += data[0]\n",
    "print \"total:\", total_ways\n",
    "print\n",
    "total_ways = 0\n",
    "print \"Open Ways:\"\n",
    "for ft in PHYSICAL_FEATURE_TAGS:\n",
    "    SQL = \"SELECT COUNT(DISTINCT ways.id) FROM Ways JOIN Way_Tags on ways.id = way_tags.id WHERE \\\n",
    "    Way_tags.key='\"+ft+\"' AND Ways.id IN (SELECT id from ways WHERE \\\n",
    "    (SELECT node_id FROM Way_Nodes WHERE \\\n",
    "    Ways.id = Way_Nodes.id ORDER BY way_nodes.position Limit 1) <> \\\n",
    "    (SELECT node_id FROM Way_Nodes WHERE \\\n",
    "    Ways.id = Way_Nodes.id ORDER BY way_nodes.position DESC LIMIT 1));\"\n",
    "    data = run_sql(SQL, fetch=FETCH_ONE)\n",
    "    print ft, ':', data[0]\n",
    "    total_ways += data[0]\n",
    "print \"total:\", total_ways"
   ]
  },
  {
   "cell_type": "markdown",
   "metadata": {},
   "source": [
    "Interestingly, the count of primary physical feature tags in the closed way group far exceeds the number of ways. It turns out these numbers are correct and several thousand closed ways are tagged with 2 primary physical feature tags.  \n",
    "\n",
    "There is one group of > 2000 closed ways which are tagged building=terrace and landuse=residential.  On examining several of these visually (using Google Maps satellite view), they all map an area contiguous with a private residence which appears to be a patio or pool deck.  According to the OSM Wiki the building=terrace tag should be used for a group of joined residences like row houses. The landuse=residential tag is supposed to be for mapping areas of land on which residential buildings are sited.  Both of these tags are used in this group of ways incorrectly, at least according to the documentation in the OSM Wiki. It is not clear to me from the documentation what the correct tagging should be for these elements.  I've decided to tag them man_made=patio, which is consistent with tagging other structures which are not buildings.  I'll also add a tag 'error_corrected=yes', which I can use in later analysis of the error rate in this database.\n",
    "\n",
    "The other large group (about 3600) of double-tagged ways appear to be residential driveways in subdivisions, which are tagged highway=service and landuse=residential.  The highway=service tag is appropriate for these elements, but the landuse tag is not.  A service=driveway tag can be added to clarify what these are.  I discussed this on the OSM help forum, and it was suggested that adding area=yes would help to clarify it further.  Therefore I will add the service=driveway and area=yes tags to these elements, and delete the landuse=residential tag. Also add the error_corrected=yes tag.    "
   ]
  },
  {
   "cell_type": "code",
   "execution_count": 15,
   "metadata": {
    "collapsed": false
   },
   "outputs": [
    {
     "name": "stdout",
     "output_type": "stream",
     "text": [
      "Found 3542 inappropriately tagged small residential driveways.\n",
      "Update complete.\n"
     ]
    }
   ],
   "source": [
    "## Select the ways with the double tag 'highway=service' and 'landuse = residential'\n",
    "SQL = \"SELECT ways.id FROM Ways WHERE ways.id IN \\\n",
    "    (SELECT DISTINCT id FROM Way_Tags WHERE \\\n",
    "     way_tags.key = 'highway' AND way_tags.value = 'service' INTERSECT \\\n",
    "     SELECT DISTINCT id FROM way_tags WHERE \\\n",
    "     way_tags.key = 'landuse' AND way_tags.value = 'residential');\"\n",
    "## Ways defined this way are small residential driveways\n",
    "smdways = run_sql(SQL, fetch=FETCH_ALL)\n",
    "\n",
    "print \"Found\", len(smdways), \"inappropriately tagged small residential driveways.\"\n",
    "\n",
    "\n",
    "## Each of these way_ids should have a row inserted into the way_tags table with the way id,\n",
    "## key=service, value=driveway, type=regular, and another with key=area value=yes type=regular\n",
    "## Also add error_corrected=yes for my further analysis later.\n",
    "## The key=landuse tag should be deleted.\n",
    "with sq3.connect(DBNAME) as conn:\n",
    "    cur = conn.cursor()\n",
    "    for smdway in smdways:\n",
    "        way_id = smdway[0]\n",
    "        SQL = \"INSERT INTO Way_Tags (id, key, value, type) \\\n",
    "            VALUES (?,?,?,?);\"\n",
    "        cur.execute(SQL,(way_id,'service','driveway','regular'))\n",
    "        SQL = \"INSERT INTO Way_Tags (id, key, value, type) \\\n",
    "            VALUES (?,?,?,?);\"\n",
    "        cur.execute(SQL, (way_id,'area','yes','regular'))\n",
    "        SQL = \"INSERT INTO Way_Tags (id, key, value, type) \\\n",
    "            VALUES(?,?,?,?);\"\n",
    "        cur.execute(SQL, (way_id, 'error_corrected','yes','regular'))\n",
    "        SQL = \"DELETE FROM Way_Tags WHERE id = ? AND key = 'landuse';\"\n",
    "        cur.execute(SQL,(way_id,))\n",
    "\n",
    "print 'Update complete.'\n"
   ]
  },
  {
   "cell_type": "code",
   "execution_count": 16,
   "metadata": {
    "collapsed": false
   },
   "outputs": [
    {
     "name": "stdout",
     "output_type": "stream",
     "text": [
      "0 inappropriately tagged residential driveways found.\n",
      "3542 fixed residential driveways found.\n"
     ]
    }
   ],
   "source": [
    "## Confirm updates have been done correctly\n",
    "SQL = \"SELECT COUNT(*) FROM Ways WHERE ways.id IN \\\n",
    "    (SELECT DISTINCT id FROM Way_Tags WHERE \\\n",
    "     way_tags.key = 'highway' AND way_tags.value = 'service' INTERSECT \\\n",
    "     SELECT DISTINCT id from way_tags WHERE \\\n",
    "     way_tags.key = 'landuse' AND way_tags.value = 'residential');\"\n",
    "count = run_sql(SQL, fetch=FETCH_ONE)\n",
    "print count[0], \"inappropriately tagged residential driveways found.\"\n",
    "\n",
    "SQL = \"SELECT COUNT(*) FROM Ways WHERE ways.id IN \\\n",
    "    (SELECT DISTINCT id FROM Way_Tags WHERE \\\n",
    "    way_tags.key = 'highway' and way_tags.value = 'service' INTERSECT \\\n",
    "    SELECT DISTINCT id FROM Way_Tags WHERE \\\n",
    "    way_tags.key = 'service' and way_tags.value = 'driveway' INTERSECT \\\n",
    "    SELECT DISTINCT id FROM Way_Tags WHERE \\\n",
    "    way_tags.key = 'area' and way_tags.value = 'yes' INTERSECT \\\n",
    "    SELECT DISTINCT id FROM Way_Tags WHERE \\\n",
    "    way_tags.key = 'error_corrected' AND way_tags.value = 'yes');\"\n",
    "count = run_sql(SQL, fetch=FETCH_ONE)\n",
    "print count[0], \"fixed residential driveways found.\""
   ]
  },
  {
   "cell_type": "code",
   "execution_count": 17,
   "metadata": {
    "collapsed": false
   },
   "outputs": [
    {
     "name": "stdout",
     "output_type": "stream",
     "text": [
      "2070 inappropriately tagged backyard patios fixed.\n"
     ]
    }
   ],
   "source": [
    "## Ways tagged with building=terrace and landuse=residential appear to be backyard patios,\n",
    "## verandas, pool decks, etc.  \n",
    "SQL = \"SELECT id FROM Ways WHERE ways.id IN \\\n",
    "    (SELECT DISTINCT id FROM Way_Tags WHERE key = 'building' AND value = 'terrace' \\\n",
    "     INTERSECT SELECT DISTINCT id FROM way_tags WHERE key = 'landuse' AND \\\n",
    "     value = 'residential');\"\n",
    "patios = run_sql(SQL, fetch=FETCH_ALL)\n",
    "\n",
    "## Tag these with man_made=patio for now, as this is most consistent with documentation I could\n",
    "## find.  Add the error_corrected tag as well.\n",
    "FIXME_NOTE = 'Should probably tag as man_made=patio, or similar.'\n",
    "with sq3.connect(DBNAME) as conn:\n",
    "    cur = conn.cursor()\n",
    "    for patio in patios:\n",
    "        SQL = \"INSERT INTO Way_tags (id,key,value,type) \\\n",
    "            VALUES(?,?,?,?);\"\n",
    "        cur.execute(SQL, (patio[0],'man_made','patio','regular'))\n",
    "        SQL = \"INSERT INTO Way_tags (id,key,value,type) \\\n",
    "            VALUES (?,?,?,?);\"\n",
    "        cur.execute(SQL, (patio[0],'error_corrected','yes','regular'))\n",
    "        SQL = \"DELETE FROM Way_Tags WHERE id = ? AND key = 'landuse';\"\n",
    "        cur.execute(SQL, (patio[0],))\n",
    "        SQL = \"DELETE FROM Way_Tags WHERE id =? AND key = 'building'\"\n",
    "        cur.execute(SQL, (patio[0],))\n",
    "        \n",
    "print len(patios), \"inappropriately tagged backyard patios fixed.\""
   ]
  },
  {
   "cell_type": "code",
   "execution_count": 18,
   "metadata": {
    "collapsed": false
   },
   "outputs": [
    {
     "name": "stdout",
     "output_type": "stream",
     "text": [
      "2070 backyard patios re-tagged.\n",
      "0 inappropriately-tagged patios now in database.\n"
     ]
    }
   ],
   "source": [
    "## Verify insert query \n",
    "SQL = \"SELECT COUNT(*) FROM Ways WHERE ways.id IN \\\n",
    "    (SELECT DISTINCT id FROM way_tags WHERE key = 'man_made' AND value = 'patio' INTERSECT \\\n",
    "     SELECT DISTINCT id from way_tags WHERE key = 'error_corrected' AND value = 'yes');\"\n",
    "fixme_patios = run_sql(SQL, fetch=FETCH_ONE)\n",
    "print fixme_patios[0], 'backyard patios re-tagged.'\n",
    "\n",
    "SQL = \"SELECT COUNT (*) FROM Ways WHERE ways.id IN \\\n",
    "    (SELECT DISTINCT id FROM Way_Tags WHERE key = 'building' AND value = 'terrace' \\\n",
    "     INTERSECT SELECT DISTINCT id FROM way_tags WHERE key = 'landuse' AND \\\n",
    "     value = 'residential');\"\n",
    "bad_patios = run_sql(SQL, fetch=FETCH_ONE)\n",
    "print bad_patios[0], 'inappropriately-tagged patios now in database.'"
   ]
  },
  {
   "cell_type": "code",
   "execution_count": 19,
   "metadata": {
    "collapsed": false
   },
   "outputs": [
    {
     "name": "stdout",
     "output_type": "stream",
     "text": [
      "[(1211580027, u'565 Brunswick Road'), (1234381058, u'10057 Gold Flat Road'), (1961968435, u'2885 Bell Road')]\n",
      "1\n",
      "1\n",
      "1\n",
      "(1211580027, u'565 Brunswick Road')\n",
      "[(u'city', u'Grass Valley'), (u'country', u'US'), (u'error_corrected', u'yes'), (u'full', u'565 Brunswick Road'), (u'housenumber', u'565'), (u'state', u'CA'), (u'street', u'Brunswick Road')]\n",
      "(1234381058, u'10057 Gold Flat Road')\n",
      "[(u'attribution', u'Caltrans'), (u'county', u'Nevada'), (u'description', u'District 3 - Sutter/Sierra Reg'), (u'district', u'3'), (u'dynsegpm', u'NEV 20 R15.9'), (u'error_corrected', u'yes'), (u'housenumber', u'10057'), (u'landuse', u'industrial'), (u'name', u'Caltrans Sutter/Sierra Region Office Maintenance Station'), (u'phone', u'530-265-4290'), (u'postcode', u'95959'), (u'route', u'20'), (u'source', u'http://www.dot.ca.gov/hq/tsip/gis/datalibrary/gisdatalibrary.html, bing'), (u'street', u'Gold Flat Road'), (u'type', u'RMH,AS,HMS,LSMS,S/SS')]\n",
      "(1961968435, u'2885 Bell Road')\n",
      "[(u'amenity', u'bank'), (u'city', u'Auburn'), (u'drive_through', u'no'), (u'error_corrected', u'yes'), (u'housenumber', u'2885'), (u'operator', u'Bank of America'), (u'phone', u'(530) 888-5811'), (u'state', u'CA'), (u'street', u'Bell Road')]\n",
      "[]\n",
      "[(107277656, u'3065 Blairs Lane'), (107397918, u'1050 Grass Valley Hwy'), (188381822, u'6580 State Highway 49')]\n",
      "1\n",
      "1\n",
      "1\n",
      "(107277656, u'3065 Blairs Lane')\n",
      "[(u'attribution', u'Caltrans'), (u'county', u'El Dorado'), (u'description', u'District 3 - Sunrise Region'), (u'district', u'3'), (u'dynsegpm', u'ED 50 18.6'), (u'error_corrected', u'yes'), (u'housenumber', u'3065'), (u'landuse', u'industrial'), (u'name', u'Caltrans Placerville Maintenance Station'), (u'phone', u'530-622-3673'), (u'postcode', u'95667'), (u'route', u'50'), (u'source', u'http://www.dot.ca.gov/hq/tsip/gis/datalibrary/gisdatalibrary.html, bing'), (u'street', u'Blairs Lane'), (u'type', u'HMS,LSMS')]\n",
      "(107397918, u'1050 Grass Valley Hwy')\n",
      "[(u'attribution', u'Caltrans'), (u'county', u'Placer'), (u'description', u'District 3 - Sutter/Sierra Reg'), (u'district', u'3'), (u'dynsegpm', u'PLA 49 4.7'), (u'error_corrected', u'yes'), (u'housenumber', u'1050'), (u'landuse', u'industrial'), (u'name', u'Caltrans Auburn Maintenance Station'), (u'phone', u'530-885-8335'), (u'postcode', u'95776'), (u'route', u'49'), (u'source', u'http://www.dot.ca.gov/hq/tsip/gis/datalibrary/gisdatalibrary.html, bing'), (u'street', u'Grass Valley Hwy'), (u'type', u'HMS,SC')]\n",
      "(188381822, u'6580 State Highway 49')\n",
      "[(u'error_corrected', u'yes'), (u'housenumber', u'6580'), (u'name', u'Rock-N-Water Christian Camps'), (u'phone', u'5306213918'), (u'postcode', u'95651'), (u'street', u'State Highway 49'), (u'tourism', u'youth_camp'), (u'url', u'www.rocknwater.com')]\n",
      "[]\n"
     ]
    }
   ],
   "source": [
    "## In auditing addresses the default style in the dataset is to have the address number\n",
    "## separate from the street name.  There are a few addresses where the number is part of the\n",
    "## addr:street tag.  Find those and fix them.\n",
    "\n",
    "# Define custom function to use in SQL query to select bad street address formatting:\n",
    "\n",
    "re_number_first = re.compile(r'^\\d+\\w+')\n",
    "\n",
    "def number_first(address):\n",
    "    m = re_number_first.match(address)\n",
    "    if m:\n",
    "        return 1\n",
    "    else:\n",
    "        return 0\n",
    "for Table in [\"Node_Tags\", \"Way_Tags\"]:\n",
    "    # Get the address records each table and fix them\n",
    "    with sq3.connect(DBNAME) as conn:\n",
    "        conn.create_function(\"number_first\", 1, number_first)\n",
    "        cur = conn.cursor()\n",
    "        cur.execute(\"SELECT id, value FROM \"+Table+\" WHERE key='street' \\\n",
    "            AND type = 'addr' AND number_first(value) = 1\")\n",
    "        bad_adds = cur.fetchall()\n",
    "    # print the bad addresses\n",
    "    print bad_adds\n",
    "\n",
    "\n",
    "    with sq3.connect(DBNAME) as conn:\n",
    "        cur = conn.cursor()\n",
    "        for bad_add in bad_adds:\n",
    "            m = re_number_first.match(bad_add[1])\n",
    "            if m:\n",
    "                st_num = m.group(0).strip()\n",
    "                st_name = re_number_first.sub('',bad_add[1]).strip()\n",
    "                cur.execute(\"UPDATE \" +Table+\" SET value = ? WHERE id = ? AND key = ? AND type = ?\", \\\n",
    "                       (st_name, bad_add[0],'street','addr'))\n",
    "                print cur.rowcount\n",
    "                # check to see if there is already a housenumber row\n",
    "                cur.execute(\"SELECT COUNT(*) FROM \"+Table+\" WHERE id=? AND key='housenumber' AND \\\n",
    "                        type = 'addr';\", (bad_add[0],))\n",
    "                has_number = cur.fetchone()\n",
    "                # if not create one with the number extracted from the address string\n",
    "                if has_number[0] == 0:\n",
    "                    cur.execute(\"INSERT INTO \"+Table+\" (id,key,value,type) \\\n",
    "                        VALUES (?,?,?,?)\",(bad_add[0],'housenumber',st_num,'addr'))\n",
    "                # add tag to indicate a record where an error was corrected\n",
    "                cur.execute(\"INSERT INTO \"+Table+\" (id,key,value,type) \\\n",
    "                    VALUES (?,'error_corrected','yes','regular')\", (bad_add[0],))\n",
    "\n",
    "    ## Verify the fix\n",
    "    for bad_add in bad_adds:\n",
    "        # get all the tags for the id and display them.\n",
    "        SQL = \"SELECT key, value from \"+Table+\" WHERE id=?;\"\n",
    "        fixed_add = run_sql(SQL, params=(bad_add[0],), fetch=FETCH_ALL)\n",
    "        print bad_add\n",
    "        print fixed_add\n",
    "\n",
    "    with sq3.connect(DBNAME) as conn:\n",
    "        # repeat the original query - should be empty list returned\n",
    "        conn.create_function(\"number_first\", 1, number_first)\n",
    "        cur = conn.cursor()\n",
    "        cur.execute(\"SELECT id, value FROM \"+Table+\" WHERE key='street' \\\n",
    "            AND type = 'addr' AND number_first(value) = 1\")\n",
    "        bad_adds = cur.fetchall()\n",
    "\n",
    "    print bad_adds\n"
   ]
  },
  {
   "cell_type": "code",
   "execution_count": 20,
   "metadata": {
    "collapsed": false
   },
   "outputs": [
    {
     "name": "stdout",
     "output_type": "stream",
     "text": [
      "INSERT query complete.\n",
      "addr:street tag: (107277657, u'Missouri Flat Rd & Mother Lode Drive Int Se Side')\n",
      "addr:full tag: [(107277657, u'Missouri Flat Rd & Mother Lode Drive Int Se Side')]\n",
      "addr:street tag: (107277669, u'@ Grassy Run Int')\n",
      "addr:full tag: [(107277669, u'@ Grassy Run Int')]\n",
      "addr:street tag: (107277675, u'S Single Rd & Durock Rd Int')\n",
      "addr:full tag: [(107277675, u'S Single Rd & Durock Rd Int')]\n",
      "addr:street tag: (107277690, u'Camino Heights Dr & Sierra Blanca Dr')\n",
      "addr:full tag: [(107277690, u'Camino Heights Dr & Sierra Blanca Dr')]\n",
      "addr:street tag: (107277694, u'Chaparrel & Shingle Road Ne Side')\n",
      "addr:full tag: [(107277694, u'Chaparrel & Shingle Road Ne Side')]\n",
      "addr:street tag: (107277700, u'Ponderosa Rd & Wild Chapparal Drive')\n",
      "addr:full tag: [(107277700, u'Ponderosa Rd & Wild Chapparal Drive')]\n",
      "addr:street tag: (107397908, u'Int Bell Rd & Bowman Rd Nw Side')\n",
      "addr:full tag: [(107397908, u'Int Bell Rd & Bowman Rd Nw Side')]\n",
      "addr:street tag: (107397914, u'Sr 193 @ Lincoln / Ophir I/C')\n",
      "addr:full tag: [(107397914, u'Sr 193 @ Lincoln / Ophir I/C')]\n",
      "addr:street tag: (107397915, u'Indian Hills Road & Newcastle Rd Int')\n",
      "addr:full tag: [(107397915, u'Indian Hills Road & Newcastle Rd Int')]\n",
      "addr:street tag: (107397939, u'Wolf Road & Sr 49')\n",
      "addr:full tag: [(107397939, u'Wolf Road & Sr 49')]\n",
      "addr:street tag: (107397953, u'Lincoln Way @ Bowman Road')\n",
      "addr:full tag: [(107397953, u'Lincoln Way @ Bowman Road')]\n",
      "addr:street tag: (107397961, u'Ne Cnr Sr 20 @ Penn Valley Rd / Rough And Ready')\n",
      "addr:full tag: [(107397961, u'Ne Cnr Sr 20 @ Penn Valley Rd / Rough And Ready')]\n",
      "12 rows deleted.\n",
      "DELETE query complete.\n",
      "0 rows match the repeated SELECT query.\n"
     ]
    }
   ],
   "source": [
    "## The tag addr:street is used in the ways, but not nodes, in a manner inconsistent with OSM\n",
    "## documentation.  Most often used to describe an intersection (\"I-80 &amp; SR-49\", for example).\n",
    "## This type of address really should be in the tag addr:full=.  By selecting for the \"@\" or \"&\" \n",
    "## character in the addr:street name, a majority can be identified and converted to the correct\n",
    "## tag.  The others can then be brought up for inspection and identified as y/n answer whether\n",
    "## to reclassify.\n",
    "re_inter = re.compile(r'[@&]')\n",
    "def is_intersect(name):\n",
    "    m = re_inter.search(name)\n",
    "    if m:\n",
    "        return 1\n",
    "    else:\n",
    "        return 0\n",
    "\n",
    "# This query selects those addr:street way tags which we know are intersections\n",
    "SQL = \"SELECT id, value FROM Way_Tags WHERE type = 'addr' AND \\\n",
    "    key='street' and is_intersect(value) = 1;\"\n",
    "with sq3.connect(DBNAME) as conn:\n",
    "    conn.create_function(\"is_intersect\",1,is_intersect)\n",
    "    cur = conn.cursor()\n",
    "    cur.execute(SQL)\n",
    "    add_ints = cur.fetchall()\n",
    "    # insert a new row with an addr:full tag for each intersection description\n",
    "    SQL1 = \"INSERT INTO Way_Tags (id,key,value,type) \\\n",
    "            VALUES (?,?,?,?)\"\n",
    "    # insert the 'error_corrected' tag also\n",
    "    SQL2 = \"INSERT INTO Way_Tags (id, key, value, type) \\\n",
    "            VALUES(?, 'error_corrected','yes','regular')\"\n",
    "    for add_int in add_ints:\n",
    "        cur.execute(SQL1,(add_int[0],'full',add_int[1],'addr'))\n",
    "        cur.execute(SQL2, (add_int[0],))\n",
    "    print \"INSERT query complete.\"\n",
    "    \n",
    "# Verify INSERT query:\n",
    "SQL = \"SELECT id, value FROM Way_Tags WHERE id = ? AND type = 'addr' AND key = 'full'\"\n",
    "for add_int in add_ints:\n",
    "    print \"addr:street tag:\",add_int\n",
    "    data = run_sql(SQL, params = (add_int[0],),fetch=FETCH_ALL)\n",
    "    print \"addr:full tag:\", data\n",
    "\n",
    "\n",
    "# Delete the addr:street tags:\n",
    "SQL = \"DELETE FROM Way_Tags WHERE type = 'addr' AND \\\n",
    "    key='street' and is_intersect(value) = 1;\"\n",
    "with sq3.connect(DBNAME) as conn:\n",
    "    conn.create_function(\"is_intersect\",1,is_intersect)\n",
    "    cur = conn.cursor()\n",
    "    cur.execute(SQL)\n",
    "    print cur.rowcount, \"rows deleted.\"\n",
    "\n",
    "print \"DELETE query complete.\"\n",
    "\n",
    "# Verify the DELETE query\n",
    "SQL = \"SELECT COUNT(*) FROM Way_Tags WHERE type = 'addr' AND \\\n",
    "    key='street' and is_intersect(value) = 1;\"\n",
    "with sq3.connect(DBNAME) as conn:\n",
    "    conn.create_function(\"is_intersect\",1,is_intersect)\n",
    "    cur = conn.cursor()\n",
    "    cur.execute(SQL)\n",
    "    data = cur.fetchone()\n",
    "    print data[0], \"rows match the repeated SELECT query.\"    "
   ]
  },
  {
   "cell_type": "code",
   "execution_count": 21,
   "metadata": {
    "collapsed": false
   },
   "outputs": [
    {
     "name": "stdout",
     "output_type": "stream",
     "text": [
      "Horseshoe Bar Rd Int S Side\n",
      "Reclassify as addr:full?y\n",
      "Reclassifying: Horseshoe Bar Rd Int S Side\n",
      "Penryn Rd Int Nw Of I-80 On Frontage Road (Boyington Road)\n",
      "Reclassify as addr:full?y\n",
      "Reclassifying: Penryn Rd Int Nw Of I-80 On Frontage Road (Boyington Road)\n",
      "Ne Side Merrychase Drive Int\n",
      "Reclassify as addr:full?y\n",
      "Reclassifying: Ne Side Merrychase Drive Int\n",
      "Nw Cnr Shingle Springs Dr Int\n",
      "Reclassify as addr:full?y\n",
      "Reclassifying: Nw Cnr Shingle Springs Dr Int\n",
      "Hwy 174 PM 0.6\n",
      "Reclassify as addr:full?y\n",
      "Reclassifying: Hwy 174 PM 0.6\n",
      "N Side I-80\n",
      "Reclassify as addr:full?y\n",
      "Reclassifying: N Side I-80\n",
      "Sr 20 / Sr 174 Ic Lt Under Sr 20 Structure\n",
      "Reclassify as addr:full?y\n",
      "Reclassifying: Sr 20 / Sr 174 Ic Lt Under Sr 20 Structure\n",
      "Across Street From Factory Outlet Stores\n",
      "Reclassify as addr:full?y\n",
      "Reclassifying: Across Street From Factory Outlet Stores\n",
      "E Side Newcastle Rd Int\n",
      "Reclassify as addr:full?y\n",
      "Reclassifying: E Side Newcastle Rd Int\n",
      "I-80 4 Mi East of Baxter\n",
      "Reclassify as addr:full?y\n",
      "Reclassifying: I-80 4 Mi East of Baxter\n",
      "S Of Us 50, E Side Of Latrobe\n",
      "Reclassify as addr:full?y\n",
      "Reclassifying: S Of Us 50, E Side Of Latrobe\n",
      "Hwy 80 PM 42.1\n",
      "Reclassify as addr:full?y\n",
      "Reclassifying: Hwy 80 PM 42.1\n",
      "S Side Weimar Crossroads\n",
      "Reclassify as addr:full?y\n",
      "Reclassifying: S Side Weimar Crossroads\n",
      "Atwood Road\n",
      "Reclassify as addr:full?n\n",
      "Clipper Gap Rd Int S Side Of I-80\n",
      "Reclassify as addr:full?y\n",
      "Reclassifying: Clipper Gap Rd Int S Side Of I-80\n",
      "Empire St/Hwy 20\n",
      "Reclassify as addr:full?n\n",
      "Main Street\n",
      "Reclassify as addr:full?n\n",
      "Main Street\n",
      "Reclassify as addr:full?n\n",
      "Alta Forestry Road\n",
      "Reclassify as addr:full?n\n",
      "Nary Red Road\n",
      "Reclassify as addr:full?n\n",
      "Iowa Hill Road\n",
      "Reclassify as addr:full?n\n",
      "Campbell Court\n",
      "Reclassify as addr:full?n\n",
      "Old Grass Valley Road\n",
      "Reclassify as addr:full?n\n",
      "Musso Road\n",
      "Reclassify as addr:full?n\n",
      "Oak Avenue\n",
      "Reclassify as addr:full?n\n"
     ]
    }
   ],
   "source": [
    "## Now there are still ways which have a addr:street tag which should be addr:full.  Select\n",
    "## all ways which have the addr:street tag but not addr:housenumber.  Ask user to choose which\n",
    "## need to be reclassified as addr:full\n",
    "SQL = \"SELECT id, value from Way_Tags WHERE key='street' AND id IN \\\n",
    "    (SELECT id from Way_Tags WHERE key='street' and type='addr') and id NOT IN \\\n",
    "    (SELECT id from Way_Tags WHERE key='housenumber' and type='addr');\"\n",
    "data = run_sql(SQL, fetch=FETCH_ALL)\n",
    "with sq3.connect(DBNAME) as conn:\n",
    "    SQL1 = \"INSERT INTO Way_Tags (id, key, value, type) VALUES (?,?,?,?)\"\n",
    "    SQL2 = \"DELETE FROM Way_Tags WHERE id = ? AND key = 'street' AND type = 'addr';\"\n",
    "    SQL3 = \"INSERT INTO Way_Tags(id,key,value,type) VALUES (?,'error_corrected','yes','regular')\"\n",
    "    cur = conn.cursor()\n",
    "    for datum in data:\n",
    "        ans=''\n",
    "        while ans not in ['y','n']:\n",
    "            print datum[1]\n",
    "            ans=raw_input(\"Reclassify as addr:full?\")\n",
    "            if ans == 'y':\n",
    "                print \"Reclassifying:\", datum[1]\n",
    "                cur.execute(SQL1, (datum[0],'full',datum[1],'addr'))\n",
    "                cur.execute(SQL2, (datum[0],))\n",
    "                cur.execute(SQL3, (datum[0],))\n"
   ]
  },
  {
   "cell_type": "code",
   "execution_count": 22,
   "metadata": {
    "collapsed": false
   },
   "outputs": [
    {
     "name": "stdout",
     "output_type": "stream",
     "text": [
      "11\n",
      "(28845963, u'Horseshoe Bar Rd Int S Side')\n",
      "(28865741, u'Penryn Rd Int Nw Of I-80 On Frontage Road (Boyington Road)')\n",
      "(107277653, u'Ne Side Merrychase Drive Int')\n",
      "(107277657, u'Missouri Flat Rd & Mother Lode Drive Int Se Side')\n",
      "(107277669, u'@ Grassy Run Int')\n",
      "(107277675, u'S Single Rd & Durock Rd Int')\n",
      "(107277690, u'Camino Heights Dr & Sierra Blanca Dr')\n",
      "(107277694, u'Chaparrel & Shingle Road Ne Side')\n",
      "(107277700, u'Ponderosa Rd & Wild Chapparal Drive')\n",
      "(107277704, u'Nw Cnr Shingle Springs Dr Int')\n",
      "(107397900, u'Hwy 174 PM 0.6')\n",
      "(107397902, u'N Side I-80')\n",
      "(107397905, u'Sr 20 / Sr 174 Ic Lt Under Sr 20 Structure')\n",
      "(107397907, u'Across Street From Factory Outlet Stores')\n",
      "(107397908, u'Int Bell Rd & Bowman Rd Nw Side')\n",
      "(107397909, u'E Side Newcastle Rd Int')\n",
      "(107397913, u'I-80 4 Mi East of Baxter')\n",
      "(107397914, u'Sr 193 @ Lincoln / Ophir I/C')\n",
      "(107397915, u'Indian Hills Road & Newcastle Rd Int')\n",
      "(107397916, u'S Of Us 50, E Side Of Latrobe')\n",
      "(107397928, u'Hwy 80 PM 42.1')\n",
      "(107397938, u'S Side Weimar Crossroads')\n",
      "(107397939, u'Wolf Road & Sr 49')\n",
      "(107397949, u'Clipper Gap Rd Int S Side Of I-80')\n",
      "(107397953, u'Lincoln Way @ Bowman Road')\n",
      "(107397961, u'Ne Cnr Sr 20 @ Penn Valley Rd / Rough And Ready')\n",
      "(393523793, u'14165 Red Rock Court')\n",
      "(414045289, u'2677 Edgewood Drive')\n",
      "(414045290, u'2683 Edgewood Drive')\n",
      "(414045291, u'2695 Edgewood Drive')\n",
      "(414045292, u'885 Oak Terrace Road')\n",
      "(414045293, u'891 Oak Terrace Road')\n",
      "(414045294, u'912 Oak Terrace Road')\n"
     ]
    }
   ],
   "source": [
    "## Check the queries worked as expected\n",
    "SQL = \"SELECT COUNT(*) FROM Way_Tags where key = 'street' and type = 'addr' AND \\\n",
    "    id NOT IN (SELECT id from Way_Tags where key = 'housenumber' and type ='addr')\"\n",
    "data = run_sql(SQL, fetch=FETCH_ONE)\n",
    "print data[0]\n",
    "SQL =  \"SELECT DISTINCT id, value from way_tags where key = 'full' and type = 'addr'\"\n",
    "data = run_sql(SQL, fetch=FETCH_ALL)\n",
    "for datum in data:\n",
    "    print datum"
   ]
  },
  {
   "cell_type": "code",
   "execution_count": 24,
   "metadata": {
    "collapsed": false
   },
   "outputs": [
    {
     "name": "stdout",
     "output_type": "stream",
     "text": [
      "34\n",
      "165786334\n",
      "[(u'com_id', u'63430298'), (u'fcode', u'39009'), (u'ftype', u'390'), (u'reach_code', u'18020129002651'), (u'source', u'NHD')]\n",
      "165786868\n",
      "[(u'com_id', u'63434950'), (u'fcode', u'39009'), (u'ftype', u'390'), (u'reach_code', u'18020129001096'), (u'source', u'NHD')]\n",
      "205519695\n",
      "[(u'public_transport', u'platform')]\n",
      "217681639\n",
      "[(u'note', u'these alleged ways are not accessible to the public nor visible on Bing imagery')]\n",
      "218147876\n",
      "[(u'area', u'yes')]\n",
      "221259890\n",
      "[(u'area', u'yes'), (u'name', u'FM5 cafe patio')]\n",
      "221259891\n",
      "[(u'area', u'yes'), (u'name', u'FM7 cafe patio')]\n",
      "221259892\n",
      "[(u'area', u'yes'), (u'name', u'FM1 cafe patio')]\n",
      "232279475\n",
      "[(u'access', u'private'), (u'service', u'driveway')]\n",
      "232279490\n",
      "[(u'access', u'private')]\n",
      "237626595\n",
      "[(u'name', u'China Wall Staging Area'), (u'operator', u'Forest Service')]\n",
      "247958150\n",
      "[(u'access', u'private')]\n",
      "260425766\n",
      "[(u'area', u'yes'), (u'parking', u'surface')]\n",
      "260425767\n",
      "[(u'area', u'yes'), (u'parking', u'surface')]\n",
      "260425768\n",
      "[(u'area', u'yes'), (u'parking', u'surface')]\n",
      "270983359\n",
      "[(u'note', u'these alleged ways are not accessible to the public nor visible on Bing imagery')]\n",
      "270983361\n",
      "[(u'note', u'these alleged ways are not accessible to the public nor visible on Bing imagery')]\n",
      "270986392\n",
      "[(u'note', u'these alleged ways are not accessible to the public nor visible on Bing imagery')]\n",
      "301181362\n",
      "[(u'sport', u'basketball')]\n",
      "305787254\n",
      "[(u'area', u'yes')]\n",
      "362641143\n",
      "[(u'area', u'yes'), (u'name', u'Feen Rock')]\n",
      "362669902\n",
      "[(u'area', u'yes'), (u'name', u'Jay-Berm')]\n",
      "376553435\n",
      "[(u'area', u'yes')]\n",
      "376553436\n",
      "[(u'area', u'yes')]\n",
      "376553437\n",
      "[(u'area', u'yes')]\n",
      "376553438\n",
      "[(u'area', u'yes')]\n",
      "376553439\n",
      "[(u'area', u'yes')]\n",
      "376553447\n",
      "[(u'area', u'yes')]\n",
      "376553453\n",
      "[(u'area', u'yes')]\n",
      "376553454\n",
      "[(u'area', u'yes')]\n",
      "376553455\n",
      "[(u'area', u'yes')]\n",
      "376553456\n",
      "[(u'area', u'yes')]\n",
      "411804841\n",
      "[(u'area', u'yes')]\n",
      "412457208\n",
      "[(u'area', u'yes')]\n"
     ]
    }
   ],
   "source": [
    "## Finally fix, where possible, elements which do not have a primary physical feature tag.\n",
    "## This code used interatively to list tagged ways without physical feature tag.  Where an\n",
    "## appropriate physical feature tag can be added programmatically, this is done.  This code\n",
    "## Used iteratively to find the type of ways which could be reclassified and add them to the \n",
    "## if .. elif block.\n",
    "\n",
    "SQL = \"SELECT DISTINCT ways.id from Ways WHERE \\\n",
    "    (SELECT COUNT(*) FROM Way_tags WHERE way_tags.id = ways.id) > 0 AND Ways.id NOT IN \\\n",
    "    (SELECT DISTINCT id FROM Way_Tags WHERE key IN (\" + pfs + \"))\"\n",
    "data = run_sql(SQL)\n",
    "print len(data)\n",
    "with sq3.connect(DBNAME) as conn:\n",
    "    cur = conn.cursor()\n",
    "    for i, datum in enumerate(data):\n",
    "        print datum[0]\n",
    "        #if i>25: break\n",
    "        SQL1 = \"SELECT key, value from Way_Tags where id = ?\"\n",
    "        cur.execute(SQL1,(datum[0],))\n",
    "        tags = cur.fetchall()\n",
    "        print tags\n",
    "        SQL2 = \"INSERT INTO way_tags (id,key,value,type) \\\n",
    "                VALUES(?,?,?,?)\"\n",
    "        SQL3 = \"INSERT INTO way_tags (id,key,value,type) \\\n",
    "            VALUES (?,'error_corrected','yes','regular')\"\n",
    "        for tag in tags:\n",
    "            if tag[0] == 'sport' and tag[1] == 'tennis':\n",
    "                print \"inserting leisure=pitch tag\"\n",
    "                cur.execute(SQL2,(datum[0],'leisure','pitch','regular'))\n",
    "                cur.execute(SQL3,(datum[0],))\n",
    "                print cur.rowcount, \"rows inserted\"\n",
    "            elif tag[0] == 'sport' and tag[1] == 'baseball':\n",
    "                print \"inserting leisure = pitch tag\"\n",
    "                cur.execute(SQL2,(datum[0],'leisure','pitch','regular'))\n",
    "                cur.execute(SQL3,(datum[0],))\n",
    "                print cur.rowcount, \"rows inserted\"\n",
    "            elif tag[0] == 'attribution' and tag[1] =='Farmland Mapping and Monitoring Program':\n",
    "                print \"inserting landuse=other tag\"\n",
    "                cur.execute(SQL2, (datum[0],'landuse','other','regular'))\n",
    "                cur.execute(SQL3,(datum[0],))\n",
    "                print cur.rowcount, \"rows inserted\"\n",
    "            elif tag[0] == 'sport' and tag[1] == 'volleyball':\n",
    "                print \"inserting leisure=pitch tag\"\n",
    "                cur.execute(SQL2, (datum[0],'leisure','pitch','regular'))\n",
    "                cur.execute(SQL3,(datum[0],))\n",
    "                print cur.rowcount, \"rows inserted\"\n",
    "            elif tag[0] == 'golf':\n",
    "                print \"inserting leisure=golf_course tag\"\n",
    "                cur.execute(SQL2, (datum[0],'leisure','golf_course','regular'))\n",
    "                cur.execute(SQL3,(datum[0],))\n",
    "                print cur.rowcount, \"rows inserted\"\n",
    "            elif tag[0] == 'service' and tag[1] == 'parking_aisle':\n",
    "                print \"inserting highway=service tag\"\n",
    "                cur.execute(SQL2, (datum[0], 'highway','service','regular'))\n",
    "                cur.execute(SQL3,(datum[0],))\n",
    "                print cur.rowcount, \"rows inserted\"\n",
    "                "
   ]
  },
  {
   "cell_type": "code",
   "execution_count": 16,
   "metadata": {
    "collapsed": false
   },
   "outputs": [
    {
     "name": "stdout",
     "output_type": "stream",
     "text": [
      "34\n",
      "[(u'bitcoin', u'yes'), (u'description', u'Affordable web hosting, web development, Wordpress customization & training, and more. 15% bitcoin discount.'), (u'error_corrected', u'no'), (u'name', u'SierraHosts.net'), (u'website', u'http://sierrahosts.net')]\n",
      "[(u'error_corrected', u'no'), (u'name', u'Shiny Green Serpentine')]\n",
      "[(u'error_corrected', u'no'), (u'name', u'Refinery Room'), (u'source', u'local_knowledge')]\n",
      "[(u'error_corrected', u'no'), (u'name', u'Model Room'), (u'source', u'local_knowledge')]\n",
      "[(u'error_corrected', u'no'), (u'note', u'There used to be another tower here per 2006-7 USGS Ortho, not seen in ~2009 Bing imagery nor during 2011 survey')]\n",
      "[(u'advertising', u'billboard'), (u'error_corrected', u'no'), (u'source', u'bing')]\n",
      "[(u'error_corrected', u'no'), (u'name', u'Blue Shield')]\n",
      "[(u'error_corrected', u'no'), (u'name', u'Nevada County Government Center')]\n",
      "[(u'error_corrected', u'no'), (u'name', u'Hills Flat Lumber Co.')]\n",
      "[(u'error_corrected', u'no'), (u'name', u'Lathrope Road Self Storage')]\n",
      "[(u'FIXME', u'How to tag a religious camp/retreat/meeting facility?'), (u'error_corrected', u'no'), (u'name', u'The Community of the Great Commission'), (u'operator', u'Christian Churches of Northern California and Nevada')]\n",
      "[(u'error_corrected', u'no'), (u'name', u'Wild Oak')]\n",
      "[(u'error_corrected', u'no'), (u'name', u'Fire hydrant')]\n",
      "[(u'error_corrected', u'no'), (u'name', u'Western Cabinet')]\n",
      "[(u'bitcoin', u'yes'), (u'error_corrected', u'no'), (u'name', u'UngerTech Computer Repair and Web Design'), (u'phone', u'(530)559-5425'), (u'phone', u'+1 530 559 5425'), (u'storefront', u'no'), (u'website', u'http://ungertech.net')]\n",
      "[(u'bitcoin', u'yes'), (u'error_corrected', u'no'), (u'name', u'Practical Permaculture'), (u'note', u'Permaculture design and education.'), (u'website', u'http://practicalpermaculture.com')]\n",
      "[(u'error_corrected', u'no'), (u'name', u'Utah Phillips grave')]\n",
      "[(u'error_corrected', u'no'), (u'name', u'The Cove - at Rock-N-Water')]\n",
      "[(u'error_corrected', u'no'), (u'name', u'Not a thru road')]\n",
      "[(u'error_corrected', u'no'), (u'name', u'Not a thru road')]\n",
      "[(u'error_corrected', u'no'), (u'name', u'Not a thru road')]\n",
      "[(u'error_corrected', u'no'), (u'name', u'Brothers Boats')]\n",
      "[(u'error_corrected', u'no'), (u'name', u'Sunflower Trailers')]\n",
      "[(u'error_corrected', u'no'), (u'name', u'Acadia Elder Care')]\n",
      "[(u'error_corrected', u'no'), (u'name', u'Dal Pino Quality Pools')]\n",
      "[(u'error_corrected', u'no'), (u'name', u'Lakeside Equestrian Center')]\n",
      "[(u'craft', u'dressmaker'), (u'error_corrected', u'no'), (u'name', u'Rose\\u2019s Tailoring')]\n",
      "[(u'error_corrected', u'no'), (u'note', u\"Old aerial imagery shows a track here between North Legacy Way and Creekside Trail but based on surveys, the track no longer exists. Nicely landscaped; I didn't see anything there before I knew what to look for.\")]\n",
      "[(u'error_corrected', u'no'), (u'note', u'The track seen in Bing aerial imagery here no longer exists. Its former route has been landscaped so it almost looks like natural land, except there are no trees on the route yet. The route used to follow the top of a small ridge in this area.')]\n",
      "[(u'error_corrected', u'no'), (u'name', u'Canyon View Preserve'), (u'operator', u'Placer Land Trust')]\n",
      "[(u'error_corrected', u'no'), (u'name', u'Air Pollution Control District')]\n",
      "[(u'error_corrected', u'no'), (u'name', u'Heather Glenn')]\n",
      "[(u'error_corrected', u'no'), (u'name', u'Snowflower Trailer')]\n",
      "[(u'error_corrected', u'no'), (u'name', u\"Mining Engineer's Office\"), (u'source', u'California State Parks')]\n"
     ]
    }
   ],
   "source": [
    "# Repeat the process for nodes.  Select tagged nodes with no primary physical feature tag, and\n",
    "# which are not part of a way.  It is OK for a node to be used to mark something on a way, \n",
    "# such as a 'fixme' spot, or a dead end on a highway, building entrance, and not have its own\n",
    "# primary feature tag so assume we don't need to look at those nodes.\n",
    "# Code is used iteratively to list the nodes, idenitfy and fix those\n",
    "# where a physical feature tag can be added programmatically, without ambiguity.\n",
    "\n",
    "SQL = \"SELECT DISTINCT nodes.id from Nodes WHERE \\\n",
    "    (SELECT COUNT(*) FROM Node_tags WHERE Node_tags.id = nodes.id) > 0 \\\n",
    "    AND Nodes.id NOT IN \\\n",
    "    (SELECT DISTINCT id FROM Node_Tags WHERE key IN (\" + pfs + \")) AND Nodes.id NOT IN \\\n",
    "    (SELECT DISTINCT Node_id from Way_Nodes)\"\n",
    "data = run_sql(SQL)\n",
    "print len(data)\n",
    "with sq3.connect(DBNAME) as conn:\n",
    "    cur = conn.cursor()\n",
    "    for i, datum in enumerate(data):\n",
    "        # if i>40: break\n",
    "        SQL1 = \"SELECT key, value from Node_Tags where id = ?\"\n",
    "        cur.execute(SQL1,(datum[0],))\n",
    "        tags = cur.fetchall()\n",
    "        print tags\n",
    "        SQL2 = \"INSERT INTO Node_tags (id,key,value,type) \\\n",
    "                VALUES(?,?,?,?)\"\n",
    "        SQL3 = \"INSERT INTO Node_tags (id, key, value, type) \\\n",
    "                VALUES(?, 'error_corrected', 'yes', 'regular')\"\n",
    "        for tag in tags:\n",
    "            if tag[0] == 'housenumber':\n",
    "                # these are addresses with no building or other feature, assume they\n",
    "                # are just address locaters where place=plot is appropriate tag\n",
    "                print \"inserting place=plot tag\"\n",
    "                cur.execute(SQL2,(datum[0],'place','plot','regular'))\n",
    "                cur.execute(SQL3,(datum[0],))\n",
    "                print cur.rowcount, \"rows updated.\"\n",
    "            elif tag[0] == 'whitewater':\n",
    "                # these are features associated with a river\n",
    "                print 'inserting waterway=river tag'\n",
    "                cur.execute(SQL2, (datum[0],'waterway','river','regular'))\n",
    "                print cur.rowcount, \"rows updated.\"\n",
    "                cur.execute(SQL3,(datum[0],))\n",
    "            elif tag[0] == 'crossing':\n",
    "                # these are features associated with a highway\n",
    "                print 'inserting highway=crossing tag'\n",
    "                cur.execute(SQL2, (datum[0],'highway','crossing','regular'))\n",
    "                cur.execute(SQL3,(datum[0],))\n",
    "            elif tag[0] == 'junction' and tag[1] == 'roundabout':\n",
    "                # these should be used with 'highway=junction'\n",
    "                print 'inserting highway=junction tag'\n",
    "                cur.execute(SQL2, (datum[0],'highway','junction','regular'))\n",
    "                cur.execute(SQL3, (datum[0],))\n"
   ]
  },
  {
   "cell_type": "code",
   "execution_count": 27,
   "metadata": {
    "collapsed": false
   },
   "outputs": [
    {
     "name": "stdout",
     "output_type": "stream",
     "text": [
      "34\n",
      "done\n"
     ]
    }
   ],
   "source": [
    "# Now add a tag error_corrected=no to the ways and nodes where the correct physical feature tag\n",
    "# can not be added programmatically.  These would need to be investigated individually to \n",
    "# identify the nature of the feature.\n",
    "SQL = \"SELECT DISTINCT nodes.id from Nodes WHERE \\\n",
    "    (SELECT COUNT(*) FROM Node_tags WHERE Node_tags.id = nodes.id) > 0 \\\n",
    "    AND Nodes.id NOT IN \\\n",
    "    (SELECT DISTINCT id FROM Node_Tags WHERE key IN (\" + pfs + \")) \\\n",
    "    AND Nodes.id NOT IN \\\n",
    "    (SELECT DISTINCT node_id FROM Way_Nodes)\"\n",
    "No_pft_nodes = run_sql(SQL, fetch=FETCH_ALL)\n",
    "print len(No_pft_nodes)\n",
    "SQL = \"INSERT INTO Node_tags (id,key,value,type) \\\n",
    "    VALUES (?, 'error_corrected','no','regular')\"\n",
    "with sq3.connect(DBNAME) as conn:\n",
    "    cur = conn.cursor()\n",
    "    for node in No_pft_nodes:\n",
    "        cur.execute(SQL, (node[0],))\n",
    "print 'done'"
   ]
  },
  {
   "cell_type": "code",
   "execution_count": 28,
   "metadata": {
    "collapsed": false
   },
   "outputs": [
    {
     "name": "stdout",
     "output_type": "stream",
     "text": [
      "34\n",
      "done\n"
     ]
    }
   ],
   "source": [
    "SQL = \"SELECT DISTINCT ways.id from Ways WHERE \\\n",
    "    (SELECT COUNT(*) FROM Way_tags WHERE way_tags.id = ways.id) > 0 AND Ways.id NOT IN \\\n",
    "    (SELECT DISTINCT id FROM Way_Tags WHERE key IN (\" + pfs + \"))\"\n",
    "No_pft_ways = run_sql(SQL, fetch=FETCH_ALL)\n",
    "\n",
    "print len(No_pft_ways)\n",
    "\n",
    "SQL = \"INSERT INTO Way_tags (id, key, value, type) \\\n",
    "        VALUES(?, 'error_corrected','no','regular')\"\n",
    "with sq3.connect(DBNAME) as conn:\n",
    "    cur=conn.cursor()\n",
    "    for way in No_pft_ways:\n",
    "        SQL = \"INSERT INTO Way_tags (id,key,value,type) \\\n",
    "            VALUES (?, 'error_corrected','no','regular')\"\n",
    "        cur.execute(SQL, (way[0],))\n",
    "\n",
    "print 'done'        "
   ]
  },
  {
   "cell_type": "markdown",
   "metadata": {},
   "source": [
    "And that's it.  All but 68 of the tagged ways and nodes have a valid physical feature tag.  Where tagging errors could be corrected using OSM documentation guidelines, they have been fixed.  Where there isn't a clear answer to correct tagging, a FIXME= tag has been added.  Address formatting has been cleaned up.  Zip codes have been corrected.  Applying the results of this project back to the OSM database could provide a significant improvement in map quality in the covered area.  Add 'error_corrected=no' to these last few ways and nodes which can't be easily fixed."
   ]
  },
  {
   "cell_type": "code",
   "execution_count": null,
   "metadata": {
    "collapsed": true
   },
   "outputs": [],
   "source": []
  }
 ],
 "metadata": {
  "anaconda-cloud": {},
  "kernelspec": {
   "display_name": "Python [Root]",
   "language": "python",
   "name": "Python [Root]"
  },
  "language_info": {
   "codemirror_mode": {
    "name": "ipython",
    "version": 2
   },
   "file_extension": ".py",
   "mimetype": "text/x-python",
   "name": "python",
   "nbconvert_exporter": "python",
   "pygments_lexer": "ipython2",
   "version": "2.7.11"
  }
 },
 "nbformat": 4,
 "nbformat_minor": 0
}
